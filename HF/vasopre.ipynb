{
 "cells": [
  {
   "cell_type": "code",
   "id": "initial_id",
   "metadata": {
    "collapsed": true,
    "ExecuteTime": {
     "end_time": "2025-03-11T09:44:47.917096Z",
     "start_time": "2025-03-11T09:44:38.912491Z"
    }
   },
   "source": [
    "import pandas as pd\n",
    "\n",
    "file_path = r\"E:\\EICU\\eicu-collaborative-research-database-2.0\\medication.csv.gz\"\n",
    "\n",
    "# read medication data, only keep relevant columns\n",
    "df = pd.read_csv(file_path, usecols=[\"patientunitstayid\", \"drugname\", \"drugstartoffset\"], low_memory=False)\n",
    "\n",
    "# define a list of vasopressor drugs\n",
    "vasopressor_drugs = [\"vasopressor\", \"norepinephrine\", \"epinephrine\", \"dopamine\", \"phenylephrine\", \"vasopressin\"]\n",
    "\n",
    "# filter the dataframe to include only vasopressor drugs\n",
    "df_vasopressor = df[df[\"drugname\"].str.lower().str.contains('|'.join(vasopressor_drugs), na=False)]\n",
    "\n",
    "# process drugstartoffset to ensure it is within the range of 0 to 60 minutes\n",
    "df_vasopressor = df_vasopressor[(df_vasopressor[\"drugstartoffset\"] >= 0) & (df_vasopressor[\"drugstartoffset\"] <= 60)]\n",
    "\n",
    "# group by patientunitstayid and mark vasopressor usage\n",
    "df_vasopressor[\"vasopressor_used\"] = 1\n",
    "\n",
    "df_vasopressor = df_vasopressor[[\"patientunitstayid\", \"vasopressor_used\"]].drop_duplicates()\n",
    "\n",
    "\n",
    "\n"
   ],
   "outputs": [],
   "execution_count": 10
  },
  {
   "metadata": {
    "ExecuteTime": {
     "end_time": "2025-03-11T09:44:53.711712Z",
     "start_time": "2025-03-11T09:44:53.143253Z"
    }
   },
   "cell_type": "code",
   "source": [
    "# read patient data\n",
    "df_patients = pd.read_csv(\"E:\\EICU\\eicu-collaborative-research-database-2.0\\patient.csv.gz\")\n",
    "\n",
    "# merge vasopressor usage with patient data\n",
    "df_final = df_patients[[\"patientunitstayid\"]].merge(df_vasopressor, on=\"patientunitstayid\", how=\"left\").fillna(0)"
   ],
   "id": "1fd169a689ff64f3",
   "outputs": [
    {
     "name": "stderr",
     "output_type": "stream",
     "text": [
      "<>:2: SyntaxWarning: invalid escape sequence '\\E'\n",
      "<>:2: SyntaxWarning: invalid escape sequence '\\E'\n",
      "C:\\Users\\85313\\AppData\\Local\\Temp\\ipykernel_28532\\42948129.py:2: SyntaxWarning: invalid escape sequence '\\E'\n",
      "  df_patients = pd.read_csv(\"E:\\EICU\\eicu-collaborative-research-database-2.0\\patient.csv.gz\")\n"
     ]
    }
   ],
   "execution_count": 11
  },
  {
   "metadata": {
    "ExecuteTime": {
     "end_time": "2025-03-11T09:44:55.066231Z",
     "start_time": "2025-03-11T09:44:55.058122Z"
    }
   },
   "cell_type": "code",
   "source": "df_final",
   "id": "baa69a77c7a030b",
   "outputs": [
    {
     "data": {
      "text/plain": [
       "        patientunitstayid  vasopressor_used\n",
       "0                  141168               0.0\n",
       "1                  141178               0.0\n",
       "2                  141179               0.0\n",
       "3                  141194               0.0\n",
       "4                  141196               0.0\n",
       "...                   ...               ...\n",
       "200854            3353235               0.0\n",
       "200855            3353237               0.0\n",
       "200856            3353251               1.0\n",
       "200857            3353254               0.0\n",
       "200858            3353263               0.0\n",
       "\n",
       "[200859 rows x 2 columns]"
      ],
      "text/html": [
       "<div>\n",
       "<style scoped>\n",
       "    .dataframe tbody tr th:only-of-type {\n",
       "        vertical-align: middle;\n",
       "    }\n",
       "\n",
       "    .dataframe tbody tr th {\n",
       "        vertical-align: top;\n",
       "    }\n",
       "\n",
       "    .dataframe thead th {\n",
       "        text-align: right;\n",
       "    }\n",
       "</style>\n",
       "<table border=\"1\" class=\"dataframe\">\n",
       "  <thead>\n",
       "    <tr style=\"text-align: right;\">\n",
       "      <th></th>\n",
       "      <th>patientunitstayid</th>\n",
       "      <th>vasopressor_used</th>\n",
       "    </tr>\n",
       "  </thead>\n",
       "  <tbody>\n",
       "    <tr>\n",
       "      <th>0</th>\n",
       "      <td>141168</td>\n",
       "      <td>0.0</td>\n",
       "    </tr>\n",
       "    <tr>\n",
       "      <th>1</th>\n",
       "      <td>141178</td>\n",
       "      <td>0.0</td>\n",
       "    </tr>\n",
       "    <tr>\n",
       "      <th>2</th>\n",
       "      <td>141179</td>\n",
       "      <td>0.0</td>\n",
       "    </tr>\n",
       "    <tr>\n",
       "      <th>3</th>\n",
       "      <td>141194</td>\n",
       "      <td>0.0</td>\n",
       "    </tr>\n",
       "    <tr>\n",
       "      <th>4</th>\n",
       "      <td>141196</td>\n",
       "      <td>0.0</td>\n",
       "    </tr>\n",
       "    <tr>\n",
       "      <th>...</th>\n",
       "      <td>...</td>\n",
       "      <td>...</td>\n",
       "    </tr>\n",
       "    <tr>\n",
       "      <th>200854</th>\n",
       "      <td>3353235</td>\n",
       "      <td>0.0</td>\n",
       "    </tr>\n",
       "    <tr>\n",
       "      <th>200855</th>\n",
       "      <td>3353237</td>\n",
       "      <td>0.0</td>\n",
       "    </tr>\n",
       "    <tr>\n",
       "      <th>200856</th>\n",
       "      <td>3353251</td>\n",
       "      <td>1.0</td>\n",
       "    </tr>\n",
       "    <tr>\n",
       "      <th>200857</th>\n",
       "      <td>3353254</td>\n",
       "      <td>0.0</td>\n",
       "    </tr>\n",
       "    <tr>\n",
       "      <th>200858</th>\n",
       "      <td>3353263</td>\n",
       "      <td>0.0</td>\n",
       "    </tr>\n",
       "  </tbody>\n",
       "</table>\n",
       "<p>200859 rows × 2 columns</p>\n",
       "</div>"
      ]
     },
     "execution_count": 12,
     "metadata": {},
     "output_type": "execute_result"
    }
   ],
   "execution_count": 12
  },
  {
   "metadata": {
    "ExecuteTime": {
     "end_time": "2025-03-11T09:45:03.447017Z",
     "start_time": "2025-03-11T09:45:03.441042Z"
    }
   },
   "cell_type": "code",
   "source": "df_final[\"vasopressor_used\"].value_counts()",
   "id": "77f82e6912a74556",
   "outputs": [
    {
     "data": {
      "text/plain": [
       "vasopressor_used\n",
       "0.0    196563\n",
       "1.0      4296\n",
       "Name: count, dtype: int64"
      ]
     },
     "execution_count": 13,
     "metadata": {},
     "output_type": "execute_result"
    }
   ],
   "execution_count": 13
  },
  {
   "metadata": {
    "ExecuteTime": {
     "end_time": "2025-03-11T09:45:07.315746Z",
     "start_time": "2025-03-11T09:45:07.304858Z"
    }
   },
   "cell_type": "code",
   "source": "df_final['patientunitstayid'].nunique()",
   "id": "5c8e82ec43d7e9b6",
   "outputs": [
    {
     "data": {
      "text/plain": [
       "200859"
      ]
     },
     "execution_count": 14,
     "metadata": {},
     "output_type": "execute_result"
    }
   ],
   "execution_count": 14
  },
  {
   "metadata": {
    "ExecuteTime": {
     "end_time": "2025-03-11T09:45:10.226320Z",
     "start_time": "2025-03-11T09:45:10.122098Z"
    }
   },
   "cell_type": "code",
   "source": "df_final.to_csv(\"vasopressor.csv\", index=False)",
   "id": "9612465a2967d211",
   "outputs": [],
   "execution_count": 15
  },
  {
   "metadata": {
    "ExecuteTime": {
     "end_time": "2025-03-11T09:01:27.490332Z",
     "start_time": "2025-03-11T09:01:27.483165Z"
    }
   },
   "cell_type": "code",
   "source": "df_vasopressor",
   "id": "bcc6902b1cd2e1ea",
   "outputs": [
    {
     "data": {
      "text/plain": [
       "         patientunitstayid  vasopressor_used\n",
       "190603              446669                 1\n",
       "201625              474377                 1\n",
       "203227              478077                 1\n",
       "203589              478815                 1\n",
       "207188              487041                 1\n",
       "...                    ...               ...\n",
       "7301161            3352970                 1\n",
       "7301458            3353087                 1\n",
       "7301568            3353123                 1\n",
       "7301692            3353197                 1\n",
       "7301841            3353251                 1\n",
       "\n",
       "[11915 rows x 2 columns]"
      ],
      "text/html": [
       "<div>\n",
       "<style scoped>\n",
       "    .dataframe tbody tr th:only-of-type {\n",
       "        vertical-align: middle;\n",
       "    }\n",
       "\n",
       "    .dataframe tbody tr th {\n",
       "        vertical-align: top;\n",
       "    }\n",
       "\n",
       "    .dataframe thead th {\n",
       "        text-align: right;\n",
       "    }\n",
       "</style>\n",
       "<table border=\"1\" class=\"dataframe\">\n",
       "  <thead>\n",
       "    <tr style=\"text-align: right;\">\n",
       "      <th></th>\n",
       "      <th>patientunitstayid</th>\n",
       "      <th>vasopressor_used</th>\n",
       "    </tr>\n",
       "  </thead>\n",
       "  <tbody>\n",
       "    <tr>\n",
       "      <th>190603</th>\n",
       "      <td>446669</td>\n",
       "      <td>1</td>\n",
       "    </tr>\n",
       "    <tr>\n",
       "      <th>201625</th>\n",
       "      <td>474377</td>\n",
       "      <td>1</td>\n",
       "    </tr>\n",
       "    <tr>\n",
       "      <th>203227</th>\n",
       "      <td>478077</td>\n",
       "      <td>1</td>\n",
       "    </tr>\n",
       "    <tr>\n",
       "      <th>203589</th>\n",
       "      <td>478815</td>\n",
       "      <td>1</td>\n",
       "    </tr>\n",
       "    <tr>\n",
       "      <th>207188</th>\n",
       "      <td>487041</td>\n",
       "      <td>1</td>\n",
       "    </tr>\n",
       "    <tr>\n",
       "      <th>...</th>\n",
       "      <td>...</td>\n",
       "      <td>...</td>\n",
       "    </tr>\n",
       "    <tr>\n",
       "      <th>7301161</th>\n",
       "      <td>3352970</td>\n",
       "      <td>1</td>\n",
       "    </tr>\n",
       "    <tr>\n",
       "      <th>7301458</th>\n",
       "      <td>3353087</td>\n",
       "      <td>1</td>\n",
       "    </tr>\n",
       "    <tr>\n",
       "      <th>7301568</th>\n",
       "      <td>3353123</td>\n",
       "      <td>1</td>\n",
       "    </tr>\n",
       "    <tr>\n",
       "      <th>7301692</th>\n",
       "      <td>3353197</td>\n",
       "      <td>1</td>\n",
       "    </tr>\n",
       "    <tr>\n",
       "      <th>7301841</th>\n",
       "      <td>3353251</td>\n",
       "      <td>1</td>\n",
       "    </tr>\n",
       "  </tbody>\n",
       "</table>\n",
       "<p>11915 rows × 2 columns</p>\n",
       "</div>"
      ]
     },
     "execution_count": 2,
     "metadata": {},
     "output_type": "execute_result"
    }
   ],
   "execution_count": 2
  },
  {
   "metadata": {
    "ExecuteTime": {
     "end_time": "2025-03-11T09:01:38.241298Z",
     "start_time": "2025-03-11T09:01:38.236723Z"
    }
   },
   "cell_type": "code",
   "source": "df_vasopressor[\"vasopressor_used\"].value_counts()",
   "id": "3270119bb11a42ed",
   "outputs": [
    {
     "data": {
      "text/plain": [
       "vasopressor_used\n",
       "1    11915\n",
       "Name: count, dtype: int64"
      ]
     },
     "execution_count": 3,
     "metadata": {},
     "output_type": "execute_result"
    }
   ],
   "execution_count": 3
  },
  {
   "metadata": {},
   "cell_type": "code",
   "outputs": [],
   "execution_count": null,
   "source": "",
   "id": "e09c6ed107aabfe9"
  }
 ],
 "metadata": {
  "kernelspec": {
   "display_name": "Python 3",
   "language": "python",
   "name": "python3"
  },
  "language_info": {
   "codemirror_mode": {
    "name": "ipython",
    "version": 2
   },
   "file_extension": ".py",
   "mimetype": "text/x-python",
   "name": "python",
   "nbconvert_exporter": "python",
   "pygments_lexer": "ipython2",
   "version": "2.7.6"
  }
 },
 "nbformat": 4,
 "nbformat_minor": 5
}
