{
 "cells": [
  {
   "metadata": {},
   "cell_type": "markdown",
   "source": "# Lab",
   "id": "1626dbd7b011c60e"
  },
  {
   "metadata": {
    "ExecuteTime": {
     "end_time": "2025-02-27T18:14:05.584964Z",
     "start_time": "2025-02-27T18:14:05.580701Z"
    }
   },
   "cell_type": "code",
   "source": [
    "import pandas as pd\n",
    "import numpy as np\n",
    "import matplotlib.pyplot as plt\n",
    "import seaborn as sns\n",
    "import os\n",
    "import random\n",
    "random.seed(1) \n",
    "np.random.seed(1)"
   ],
   "id": "829d620b532f5c19",
   "outputs": [],
   "execution_count": 1
  },
  {
   "metadata": {},
   "cell_type": "markdown",
   "source": "### Load Data",
   "id": "e8f28239c822dd99"
  },
  {
   "metadata": {
    "ExecuteTime": {
     "end_time": "2025-02-27T18:15:16.431252Z",
     "start_time": "2025-02-27T18:14:07.781702Z"
    }
   },
   "cell_type": "code",
   "source": [
    "file_path = r\"E:\\EICU\\eicu-collaborative-research-database-2.0\\lab.csv.gz\"\n",
    "lab_df = pd.read_csv(file_path, compression=\"gzip\", low_memory=False,)"
   ],
   "id": "79c75ec51cb7db04",
   "outputs": [],
   "execution_count": 2
  },
  {
   "metadata": {
    "ExecuteTime": {
     "end_time": "2025-02-27T18:15:25.162739Z",
     "start_time": "2025-02-27T18:15:25.136015Z"
    }
   },
   "cell_type": "code",
   "source": "lab_df.head()",
   "id": "9c827e6039b5d901",
   "outputs": [
    {
     "data": {
      "text/plain": [
       "      labid  patientunitstayid  labresultoffset  labtypeid     labname  \\\n",
       "0  52307161             141168             2026          3  fibrinogen   \n",
       "1  50363251             141168             1133          3    PT - INR   \n",
       "2  49149139             141168             2026          1   magnesium   \n",
       "3  50363250             141168             1133          3          PT   \n",
       "4  66695374             141168             2141          7          pH   \n",
       "\n",
       "   labresult labresulttext labmeasurenamesystem labmeasurenameinterface  \\\n",
       "0      177.0           177                mg/dL                   mg/dL   \n",
       "1        2.5           2.5                ratio                     NaN   \n",
       "2        2.0           2.0                mg/dL                   mg/dL   \n",
       "3       26.6          26.6                  sec                     sec   \n",
       "4        7.2          7.20                  NaN                   Units   \n",
       "\n",
       "   labresultrevisedoffset  \n",
       "0                    2219  \n",
       "1                    1208  \n",
       "2                    2090  \n",
       "3                    1208  \n",
       "4                    2155  "
      ],
      "text/html": [
       "<div>\n",
       "<style scoped>\n",
       "    .dataframe tbody tr th:only-of-type {\n",
       "        vertical-align: middle;\n",
       "    }\n",
       "\n",
       "    .dataframe tbody tr th {\n",
       "        vertical-align: top;\n",
       "    }\n",
       "\n",
       "    .dataframe thead th {\n",
       "        text-align: right;\n",
       "    }\n",
       "</style>\n",
       "<table border=\"1\" class=\"dataframe\">\n",
       "  <thead>\n",
       "    <tr style=\"text-align: right;\">\n",
       "      <th></th>\n",
       "      <th>labid</th>\n",
       "      <th>patientunitstayid</th>\n",
       "      <th>labresultoffset</th>\n",
       "      <th>labtypeid</th>\n",
       "      <th>labname</th>\n",
       "      <th>labresult</th>\n",
       "      <th>labresulttext</th>\n",
       "      <th>labmeasurenamesystem</th>\n",
       "      <th>labmeasurenameinterface</th>\n",
       "      <th>labresultrevisedoffset</th>\n",
       "    </tr>\n",
       "  </thead>\n",
       "  <tbody>\n",
       "    <tr>\n",
       "      <th>0</th>\n",
       "      <td>52307161</td>\n",
       "      <td>141168</td>\n",
       "      <td>2026</td>\n",
       "      <td>3</td>\n",
       "      <td>fibrinogen</td>\n",
       "      <td>177.0</td>\n",
       "      <td>177</td>\n",
       "      <td>mg/dL</td>\n",
       "      <td>mg/dL</td>\n",
       "      <td>2219</td>\n",
       "    </tr>\n",
       "    <tr>\n",
       "      <th>1</th>\n",
       "      <td>50363251</td>\n",
       "      <td>141168</td>\n",
       "      <td>1133</td>\n",
       "      <td>3</td>\n",
       "      <td>PT - INR</td>\n",
       "      <td>2.5</td>\n",
       "      <td>2.5</td>\n",
       "      <td>ratio</td>\n",
       "      <td>NaN</td>\n",
       "      <td>1208</td>\n",
       "    </tr>\n",
       "    <tr>\n",
       "      <th>2</th>\n",
       "      <td>49149139</td>\n",
       "      <td>141168</td>\n",
       "      <td>2026</td>\n",
       "      <td>1</td>\n",
       "      <td>magnesium</td>\n",
       "      <td>2.0</td>\n",
       "      <td>2.0</td>\n",
       "      <td>mg/dL</td>\n",
       "      <td>mg/dL</td>\n",
       "      <td>2090</td>\n",
       "    </tr>\n",
       "    <tr>\n",
       "      <th>3</th>\n",
       "      <td>50363250</td>\n",
       "      <td>141168</td>\n",
       "      <td>1133</td>\n",
       "      <td>3</td>\n",
       "      <td>PT</td>\n",
       "      <td>26.6</td>\n",
       "      <td>26.6</td>\n",
       "      <td>sec</td>\n",
       "      <td>sec</td>\n",
       "      <td>1208</td>\n",
       "    </tr>\n",
       "    <tr>\n",
       "      <th>4</th>\n",
       "      <td>66695374</td>\n",
       "      <td>141168</td>\n",
       "      <td>2141</td>\n",
       "      <td>7</td>\n",
       "      <td>pH</td>\n",
       "      <td>7.2</td>\n",
       "      <td>7.20</td>\n",
       "      <td>NaN</td>\n",
       "      <td>Units</td>\n",
       "      <td>2155</td>\n",
       "    </tr>\n",
       "  </tbody>\n",
       "</table>\n",
       "</div>"
      ]
     },
     "execution_count": 3,
     "metadata": {},
     "output_type": "execute_result"
    }
   ],
   "execution_count": 3
  },
  {
   "metadata": {
    "ExecuteTime": {
     "end_time": "2025-02-27T18:15:28.948514Z",
     "start_time": "2025-02-27T18:15:28.944190Z"
    }
   },
   "cell_type": "code",
   "source": "len(lab_df)",
   "id": "76cf5cd628b195a3",
   "outputs": [
    {
     "data": {
      "text/plain": [
       "39132531"
      ]
     },
     "execution_count": 4,
     "metadata": {},
     "output_type": "execute_result"
    }
   ],
   "execution_count": 4
  },
  {
   "metadata": {
    "ExecuteTime": {
     "end_time": "2025-02-27T18:19:14.357797Z",
     "start_time": "2025-02-27T18:19:11.393866Z"
    }
   },
   "cell_type": "code",
   "source": "lab_df = lab_df[lab_df['labresultoffset'] <= 24*60]",
   "id": "c4d55694525830c7",
   "outputs": [],
   "execution_count": 5
  },
  {
   "metadata": {
    "ExecuteTime": {
     "end_time": "2025-02-27T18:19:17.139503Z",
     "start_time": "2025-02-27T18:19:17.131153Z"
    }
   },
   "cell_type": "code",
   "source": "len(lab_df)",
   "id": "9ad34e394500e138",
   "outputs": [
    {
     "data": {
      "text/plain": [
       "16077855"
      ]
     },
     "execution_count": 6,
     "metadata": {},
     "output_type": "execute_result"
    }
   ],
   "execution_count": 6
  },
  {
   "metadata": {
    "ExecuteTime": {
     "end_time": "2025-02-27T18:19:59.120989Z",
     "start_time": "2025-02-27T18:19:57.553497Z"
    }
   },
   "cell_type": "code",
   "source": [
    "lab_df['lab_units'] = lab_df['labmeasurenamesystem'].fillna(lab_df['labmeasurenameinterface'])\n",
    "lab_df = lab_df.drop(columns=['labmeasurenamesystem', 'labmeasurenameinterface'])"
   ],
   "id": "6576112b19f1cad2",
   "outputs": [],
   "execution_count": 7
  },
  {
   "metadata": {
    "ExecuteTime": {
     "end_time": "2025-02-27T18:20:01.143489Z",
     "start_time": "2025-02-27T18:20:00.592189Z"
    }
   },
   "cell_type": "code",
   "source": "lab_df = lab_df.drop(columns=['labid', 'labresultrevisedoffset', 'labresulttext'])",
   "id": "a12dee8d483533ec",
   "outputs": [],
   "execution_count": 8
  },
  {
   "metadata": {
    "ExecuteTime": {
     "end_time": "2025-02-27T18:20:03.181599Z",
     "start_time": "2025-02-27T18:20:02.386519Z"
    }
   },
   "cell_type": "code",
   "source": "lab_df.isnull().sum()",
   "id": "a84c610a595ac26e",
   "outputs": [
    {
     "data": {
      "text/plain": [
       "patientunitstayid         0\n",
       "labresultoffset           0\n",
       "labtypeid                 0\n",
       "labname                   0\n",
       "labresult            157204\n",
       "lab_units            440484\n",
       "dtype: int64"
      ]
     },
     "execution_count": 9,
     "metadata": {},
     "output_type": "execute_result"
    }
   ],
   "execution_count": 9
  },
  {
   "metadata": {
    "ExecuteTime": {
     "end_time": "2025-02-27T18:20:09.679432Z",
     "start_time": "2025-02-27T18:20:09.672759Z"
    }
   },
   "cell_type": "code",
   "source": "lab_df.head()",
   "id": "fe9002166c9cb660",
   "outputs": [
    {
     "data": {
      "text/plain": [
       "    patientunitstayid  labresultoffset  labtypeid   labname  labresult  \\\n",
       "1              141168             1133          3  PT - INR        2.5   \n",
       "3              141168             1133          3        PT       26.6   \n",
       "5              141168              231          3  PT - INR        1.7   \n",
       "8              141168              516          1       BUN       26.0   \n",
       "11             141168              231          3        PT       17.1   \n",
       "\n",
       "   lab_units  \n",
       "1      ratio  \n",
       "3        sec  \n",
       "5      ratio  \n",
       "8      mg/dL  \n",
       "11       sec  "
      ],
      "text/html": [
       "<div>\n",
       "<style scoped>\n",
       "    .dataframe tbody tr th:only-of-type {\n",
       "        vertical-align: middle;\n",
       "    }\n",
       "\n",
       "    .dataframe tbody tr th {\n",
       "        vertical-align: top;\n",
       "    }\n",
       "\n",
       "    .dataframe thead th {\n",
       "        text-align: right;\n",
       "    }\n",
       "</style>\n",
       "<table border=\"1\" class=\"dataframe\">\n",
       "  <thead>\n",
       "    <tr style=\"text-align: right;\">\n",
       "      <th></th>\n",
       "      <th>patientunitstayid</th>\n",
       "      <th>labresultoffset</th>\n",
       "      <th>labtypeid</th>\n",
       "      <th>labname</th>\n",
       "      <th>labresult</th>\n",
       "      <th>lab_units</th>\n",
       "    </tr>\n",
       "  </thead>\n",
       "  <tbody>\n",
       "    <tr>\n",
       "      <th>1</th>\n",
       "      <td>141168</td>\n",
       "      <td>1133</td>\n",
       "      <td>3</td>\n",
       "      <td>PT - INR</td>\n",
       "      <td>2.5</td>\n",
       "      <td>ratio</td>\n",
       "    </tr>\n",
       "    <tr>\n",
       "      <th>3</th>\n",
       "      <td>141168</td>\n",
       "      <td>1133</td>\n",
       "      <td>3</td>\n",
       "      <td>PT</td>\n",
       "      <td>26.6</td>\n",
       "      <td>sec</td>\n",
       "    </tr>\n",
       "    <tr>\n",
       "      <th>5</th>\n",
       "      <td>141168</td>\n",
       "      <td>231</td>\n",
       "      <td>3</td>\n",
       "      <td>PT - INR</td>\n",
       "      <td>1.7</td>\n",
       "      <td>ratio</td>\n",
       "    </tr>\n",
       "    <tr>\n",
       "      <th>8</th>\n",
       "      <td>141168</td>\n",
       "      <td>516</td>\n",
       "      <td>1</td>\n",
       "      <td>BUN</td>\n",
       "      <td>26.0</td>\n",
       "      <td>mg/dL</td>\n",
       "    </tr>\n",
       "    <tr>\n",
       "      <th>11</th>\n",
       "      <td>141168</td>\n",
       "      <td>231</td>\n",
       "      <td>3</td>\n",
       "      <td>PT</td>\n",
       "      <td>17.1</td>\n",
       "      <td>sec</td>\n",
       "    </tr>\n",
       "  </tbody>\n",
       "</table>\n",
       "</div>"
      ]
     },
     "execution_count": 10,
     "metadata": {},
     "output_type": "execute_result"
    }
   ],
   "execution_count": 10
  },
  {
   "metadata": {
    "ExecuteTime": {
     "end_time": "2025-02-27T18:20:14.502433Z",
     "start_time": "2025-02-27T18:20:14.063258Z"
    }
   },
   "cell_type": "code",
   "source": "lab_df.labname.value_counts()",
   "id": "5bd7c1730c08a5cb",
   "outputs": [
    {
     "data": {
      "text/plain": [
       "labname\n",
       "bedside glucose         906003\n",
       "potassium               580091\n",
       "sodium                  547762\n",
       "Hgb                     517609\n",
       "glucose                 512297\n",
       "                         ...  \n",
       "Procainamide                 7\n",
       "HSV 1&2 IgG AB titer         7\n",
       "Amikacin - peak              6\n",
       "RPR titer                    3\n",
       "HIV 1&2 AB                   3\n",
       "Name: count, Length: 158, dtype: int64"
      ]
     },
     "execution_count": 11,
     "metadata": {},
     "output_type": "execute_result"
    }
   ],
   "execution_count": 11
  },
  {
   "metadata": {
    "ExecuteTime": {
     "end_time": "2025-02-27T18:20:15.843192Z",
     "start_time": "2025-02-27T18:20:15.425026Z"
    }
   },
   "cell_type": "code",
   "source": "lab_df.lab_units.value_counts()",
   "id": "6f7a3031e2baa12e",
   "outputs": [
    {
     "data": {
      "text/plain": [
       "lab_units\n",
       "mg/dL       3677768\n",
       "mmol/L      2713230\n",
       "%           2690497\n",
       "g/dL        1364887\n",
       "K/mcL        872075\n",
       "             ...   \n",
       "MM3               2\n",
       "dils              2\n",
       "IU                1\n",
       "OD Ratio          1\n",
       "IV                1\n",
       "Name: count, Length: 104, dtype: int64"
      ]
     },
     "execution_count": 12,
     "metadata": {},
     "output_type": "execute_result"
    }
   ],
   "execution_count": 12
  },
  {
   "metadata": {
    "ExecuteTime": {
     "end_time": "2025-02-27T18:20:19.550199Z",
     "start_time": "2025-02-27T18:20:19.494969Z"
    }
   },
   "cell_type": "code",
   "source": "lab_df.labtypeid.value_counts()",
   "id": "341b383aa2aa1bf2",
   "outputs": [
    {
     "data": {
      "text/plain": [
       "labtypeid\n",
       "1    6754152\n",
       "3    6102999\n",
       "7    2023192\n",
       "4    1149283\n",
       "2      48196\n",
       "6         33\n",
       "Name: count, dtype: int64"
      ]
     },
     "execution_count": 13,
     "metadata": {},
     "output_type": "execute_result"
    }
   ],
   "execution_count": 13
  },
  {
   "metadata": {
    "ExecuteTime": {
     "end_time": "2025-02-27T18:48:21.071539Z",
     "start_time": "2025-02-27T18:48:20.548092Z"
    }
   },
   "cell_type": "code",
   "source": [
    "selected_labs = ['sodium', 'creatinine','platelets x 1000','bicarbonate', 'chloride','BUN','RBC','potassium']\n",
    "filtered_lab_df = lab_df[lab_df['labname'].isin(selected_labs)]\n"
   ],
   "id": "58c241e4dcc41df2",
   "outputs": [],
   "execution_count": 18
  },
  {
   "metadata": {
    "ExecuteTime": {
     "end_time": "2025-02-27T18:48:21.575764Z",
     "start_time": "2025-02-27T18:48:21.569417Z"
    }
   },
   "cell_type": "code",
   "source": "filtered_lab_df",
   "id": "8464af13ed8f2e80",
   "outputs": [
    {
     "data": {
      "text/plain": [
       "          patientunitstayid  labresultoffset  labtypeid           labname  \\\n",
       "8                    141168              516          1               BUN   \n",
       "20                   141168             1133          1          chloride   \n",
       "29                   141168             1133          3  platelets x 1000   \n",
       "32                   141168              516          1          chloride   \n",
       "38                   141168             1133          1               BUN   \n",
       "...                     ...              ...        ...               ...   \n",
       "39132459            3353263               -7          1       bicarbonate   \n",
       "39132471            3353263               -7          1               BUN   \n",
       "39132494            3353263               -7          3               RBC   \n",
       "39132507            3353263               -7          3  platelets x 1000   \n",
       "39132516            3353263               -7          3  platelets x 1000   \n",
       "\n",
       "          labresult lab_units  \n",
       "8             26.00     mg/dL  \n",
       "20           101.00    mmol/L  \n",
       "29           213.00     K/mcL  \n",
       "32           102.00    mmol/L  \n",
       "38            27.00     mg/dL  \n",
       "...             ...       ...  \n",
       "39132459      31.00    mmol/L  \n",
       "39132471      13.00     mg/dL  \n",
       "39132494       5.44     M/mcL  \n",
       "39132507     161.00     K/mcL  \n",
       "39132516     164.00     K/mcL  \n",
       "\n",
       "[3909385 rows x 6 columns]"
      ],
      "text/html": [
       "<div>\n",
       "<style scoped>\n",
       "    .dataframe tbody tr th:only-of-type {\n",
       "        vertical-align: middle;\n",
       "    }\n",
       "\n",
       "    .dataframe tbody tr th {\n",
       "        vertical-align: top;\n",
       "    }\n",
       "\n",
       "    .dataframe thead th {\n",
       "        text-align: right;\n",
       "    }\n",
       "</style>\n",
       "<table border=\"1\" class=\"dataframe\">\n",
       "  <thead>\n",
       "    <tr style=\"text-align: right;\">\n",
       "      <th></th>\n",
       "      <th>patientunitstayid</th>\n",
       "      <th>labresultoffset</th>\n",
       "      <th>labtypeid</th>\n",
       "      <th>labname</th>\n",
       "      <th>labresult</th>\n",
       "      <th>lab_units</th>\n",
       "    </tr>\n",
       "  </thead>\n",
       "  <tbody>\n",
       "    <tr>\n",
       "      <th>8</th>\n",
       "      <td>141168</td>\n",
       "      <td>516</td>\n",
       "      <td>1</td>\n",
       "      <td>BUN</td>\n",
       "      <td>26.00</td>\n",
       "      <td>mg/dL</td>\n",
       "    </tr>\n",
       "    <tr>\n",
       "      <th>20</th>\n",
       "      <td>141168</td>\n",
       "      <td>1133</td>\n",
       "      <td>1</td>\n",
       "      <td>chloride</td>\n",
       "      <td>101.00</td>\n",
       "      <td>mmol/L</td>\n",
       "    </tr>\n",
       "    <tr>\n",
       "      <th>29</th>\n",
       "      <td>141168</td>\n",
       "      <td>1133</td>\n",
       "      <td>3</td>\n",
       "      <td>platelets x 1000</td>\n",
       "      <td>213.00</td>\n",
       "      <td>K/mcL</td>\n",
       "    </tr>\n",
       "    <tr>\n",
       "      <th>32</th>\n",
       "      <td>141168</td>\n",
       "      <td>516</td>\n",
       "      <td>1</td>\n",
       "      <td>chloride</td>\n",
       "      <td>102.00</td>\n",
       "      <td>mmol/L</td>\n",
       "    </tr>\n",
       "    <tr>\n",
       "      <th>38</th>\n",
       "      <td>141168</td>\n",
       "      <td>1133</td>\n",
       "      <td>1</td>\n",
       "      <td>BUN</td>\n",
       "      <td>27.00</td>\n",
       "      <td>mg/dL</td>\n",
       "    </tr>\n",
       "    <tr>\n",
       "      <th>...</th>\n",
       "      <td>...</td>\n",
       "      <td>...</td>\n",
       "      <td>...</td>\n",
       "      <td>...</td>\n",
       "      <td>...</td>\n",
       "      <td>...</td>\n",
       "    </tr>\n",
       "    <tr>\n",
       "      <th>39132459</th>\n",
       "      <td>3353263</td>\n",
       "      <td>-7</td>\n",
       "      <td>1</td>\n",
       "      <td>bicarbonate</td>\n",
       "      <td>31.00</td>\n",
       "      <td>mmol/L</td>\n",
       "    </tr>\n",
       "    <tr>\n",
       "      <th>39132471</th>\n",
       "      <td>3353263</td>\n",
       "      <td>-7</td>\n",
       "      <td>1</td>\n",
       "      <td>BUN</td>\n",
       "      <td>13.00</td>\n",
       "      <td>mg/dL</td>\n",
       "    </tr>\n",
       "    <tr>\n",
       "      <th>39132494</th>\n",
       "      <td>3353263</td>\n",
       "      <td>-7</td>\n",
       "      <td>3</td>\n",
       "      <td>RBC</td>\n",
       "      <td>5.44</td>\n",
       "      <td>M/mcL</td>\n",
       "    </tr>\n",
       "    <tr>\n",
       "      <th>39132507</th>\n",
       "      <td>3353263</td>\n",
       "      <td>-7</td>\n",
       "      <td>3</td>\n",
       "      <td>platelets x 1000</td>\n",
       "      <td>161.00</td>\n",
       "      <td>K/mcL</td>\n",
       "    </tr>\n",
       "    <tr>\n",
       "      <th>39132516</th>\n",
       "      <td>3353263</td>\n",
       "      <td>-7</td>\n",
       "      <td>3</td>\n",
       "      <td>platelets x 1000</td>\n",
       "      <td>164.00</td>\n",
       "      <td>K/mcL</td>\n",
       "    </tr>\n",
       "  </tbody>\n",
       "</table>\n",
       "<p>3909385 rows × 6 columns</p>\n",
       "</div>"
      ]
     },
     "execution_count": 19,
     "metadata": {},
     "output_type": "execute_result"
    }
   ],
   "execution_count": 19
  },
  {
   "metadata": {
    "ExecuteTime": {
     "end_time": "2025-02-27T18:46:08.442484Z",
     "start_time": "2025-02-27T18:46:08.346483Z"
    }
   },
   "cell_type": "code",
   "source": "filtered_lab_df['labname'].value_counts()",
   "id": "a423beb9fa3302ec",
   "outputs": [
    {
     "data": {
      "text/plain": [
       "labname\n",
       "potassium           580091\n",
       "sodium              547762\n",
       "chloride            490022\n",
       "creatinine          484263\n",
       "BUN                 480490\n",
       "bicarbonate         455994\n",
       "platelets x 1000    440008\n",
       "RBC                 430755\n",
       "Name: count, dtype: int64"
      ]
     },
     "execution_count": 16,
     "metadata": {},
     "output_type": "execute_result"
    }
   ],
   "execution_count": 16
  },
  {
   "metadata": {
    "ExecuteTime": {
     "end_time": "2025-02-27T18:46:31.479191Z",
     "start_time": "2025-02-27T18:46:31.441069Z"
    }
   },
   "cell_type": "code",
   "source": "filtered_lab_df['patientunitstayid'].nunique()",
   "id": "d54f7f06e56bc42d",
   "outputs": [
    {
     "data": {
      "text/plain": [
       "189896"
      ]
     },
     "execution_count": 17,
     "metadata": {},
     "output_type": "execute_result"
    }
   ],
   "execution_count": 17
  },
  {
   "metadata": {
    "ExecuteTime": {
     "end_time": "2025-02-27T18:59:16.069078Z",
     "start_time": "2025-02-27T18:59:15.404599Z"
    }
   },
   "cell_type": "code",
   "source": [
    "# reflect the lab names to the target labs\n",
    "target_labs = {\n",
    "    \"Serum creatinine min\": \"creatinine\",\n",
    "    \"Serum creatinine max\": \"creatinine\",\n",
    "    \"Sodium max\": \"sodium\",\n",
    "    \"Platelets x1000 min\": \"platelets x 1000\",\n",
    "    \"Platelets x1000 max\": \"platelets x 1000\",\n",
    "    \"Bicarbonate avg\": \"bicarbonate\",\n",
    "    \"Chloride min\": \"chloride\",\n",
    "    \"Chloride avg\": \"chloride\",\n",
    "    \"BUN min\": \"BUN\",\n",
    "    \"RBC max\": \"RBC\",\n",
    "    \"RBC min\": \"RBC\",\n",
    "    \"Potassium max\": \"potassium\",\n",
    "    \"Potassium min\": \"potassium\"\n",
    "}\n",
    "\n",
    "\n",
    "lab_summary = filtered_lab_df.groupby([\"patientunitstayid\", \"labname\"])[\"labresult\"].agg(['min', 'max', 'mean']).reset_index()\n",
    "\n",
    "\n",
    "\n"
   ],
   "id": "c23d6fa89184ee4e",
   "outputs": [],
   "execution_count": 20
  },
  {
   "metadata": {
    "ExecuteTime": {
     "end_time": "2025-02-27T18:59:21.553080Z",
     "start_time": "2025-02-27T18:59:21.546612Z"
    }
   },
   "cell_type": "code",
   "source": "lab_summary",
   "id": "fe9989d1b7664deb",
   "outputs": [
    {
     "data": {
      "text/plain": [
       "         patientunitstayid           labname     min     max     mean\n",
       "0                   141168               BUN   26.00   27.00   26.500\n",
       "1                   141168               RBC    4.49    4.52    4.505\n",
       "2                   141168       bicarbonate   22.00   26.00   24.000\n",
       "3                   141168          chloride  101.00  102.00  101.500\n",
       "4                   141168        creatinine    1.95    2.30    2.125\n",
       "...                    ...               ...     ...     ...      ...\n",
       "1473734            3353263          chloride  101.00  101.00  101.000\n",
       "1473735            3353263        creatinine    1.06    1.06    1.060\n",
       "1473736            3353263  platelets x 1000  161.00  164.00  162.500\n",
       "1473737            3353263         potassium    4.10    4.10    4.100\n",
       "1473738            3353263            sodium  135.00  135.00  135.000\n",
       "\n",
       "[1473739 rows x 5 columns]"
      ],
      "text/html": [
       "<div>\n",
       "<style scoped>\n",
       "    .dataframe tbody tr th:only-of-type {\n",
       "        vertical-align: middle;\n",
       "    }\n",
       "\n",
       "    .dataframe tbody tr th {\n",
       "        vertical-align: top;\n",
       "    }\n",
       "\n",
       "    .dataframe thead th {\n",
       "        text-align: right;\n",
       "    }\n",
       "</style>\n",
       "<table border=\"1\" class=\"dataframe\">\n",
       "  <thead>\n",
       "    <tr style=\"text-align: right;\">\n",
       "      <th></th>\n",
       "      <th>patientunitstayid</th>\n",
       "      <th>labname</th>\n",
       "      <th>min</th>\n",
       "      <th>max</th>\n",
       "      <th>mean</th>\n",
       "    </tr>\n",
       "  </thead>\n",
       "  <tbody>\n",
       "    <tr>\n",
       "      <th>0</th>\n",
       "      <td>141168</td>\n",
       "      <td>BUN</td>\n",
       "      <td>26.00</td>\n",
       "      <td>27.00</td>\n",
       "      <td>26.500</td>\n",
       "    </tr>\n",
       "    <tr>\n",
       "      <th>1</th>\n",
       "      <td>141168</td>\n",
       "      <td>RBC</td>\n",
       "      <td>4.49</td>\n",
       "      <td>4.52</td>\n",
       "      <td>4.505</td>\n",
       "    </tr>\n",
       "    <tr>\n",
       "      <th>2</th>\n",
       "      <td>141168</td>\n",
       "      <td>bicarbonate</td>\n",
       "      <td>22.00</td>\n",
       "      <td>26.00</td>\n",
       "      <td>24.000</td>\n",
       "    </tr>\n",
       "    <tr>\n",
       "      <th>3</th>\n",
       "      <td>141168</td>\n",
       "      <td>chloride</td>\n",
       "      <td>101.00</td>\n",
       "      <td>102.00</td>\n",
       "      <td>101.500</td>\n",
       "    </tr>\n",
       "    <tr>\n",
       "      <th>4</th>\n",
       "      <td>141168</td>\n",
       "      <td>creatinine</td>\n",
       "      <td>1.95</td>\n",
       "      <td>2.30</td>\n",
       "      <td>2.125</td>\n",
       "    </tr>\n",
       "    <tr>\n",
       "      <th>...</th>\n",
       "      <td>...</td>\n",
       "      <td>...</td>\n",
       "      <td>...</td>\n",
       "      <td>...</td>\n",
       "      <td>...</td>\n",
       "    </tr>\n",
       "    <tr>\n",
       "      <th>1473734</th>\n",
       "      <td>3353263</td>\n",
       "      <td>chloride</td>\n",
       "      <td>101.00</td>\n",
       "      <td>101.00</td>\n",
       "      <td>101.000</td>\n",
       "    </tr>\n",
       "    <tr>\n",
       "      <th>1473735</th>\n",
       "      <td>3353263</td>\n",
       "      <td>creatinine</td>\n",
       "      <td>1.06</td>\n",
       "      <td>1.06</td>\n",
       "      <td>1.060</td>\n",
       "    </tr>\n",
       "    <tr>\n",
       "      <th>1473736</th>\n",
       "      <td>3353263</td>\n",
       "      <td>platelets x 1000</td>\n",
       "      <td>161.00</td>\n",
       "      <td>164.00</td>\n",
       "      <td>162.500</td>\n",
       "    </tr>\n",
       "    <tr>\n",
       "      <th>1473737</th>\n",
       "      <td>3353263</td>\n",
       "      <td>potassium</td>\n",
       "      <td>4.10</td>\n",
       "      <td>4.10</td>\n",
       "      <td>4.100</td>\n",
       "    </tr>\n",
       "    <tr>\n",
       "      <th>1473738</th>\n",
       "      <td>3353263</td>\n",
       "      <td>sodium</td>\n",
       "      <td>135.00</td>\n",
       "      <td>135.00</td>\n",
       "      <td>135.000</td>\n",
       "    </tr>\n",
       "  </tbody>\n",
       "</table>\n",
       "<p>1473739 rows × 5 columns</p>\n",
       "</div>"
      ]
     },
     "execution_count": 21,
     "metadata": {},
     "output_type": "execute_result"
    }
   ],
   "execution_count": 21
  },
  {
   "metadata": {
    "ExecuteTime": {
     "end_time": "2025-02-27T19:04:23.844105Z",
     "start_time": "2025-02-27T19:04:23.458235Z"
    }
   },
   "cell_type": "code",
   "source": [
    "final_lab_results = lab_summary.pivot(index=\"patientunitstayid\", columns=\"labname\", values=[\"min\", \"max\", \"mean\"])\n",
    "final_lab_results.columns = ['_'.join(col).strip() for col in final_lab_results.columns]\n",
    "final_lab_results.reset_index(inplace=True)\n",
    "\n",
    "column_mapping = {\n",
    "    \"min_creatinine\": \"Serum creatinine min\",\n",
    "    \"max_creatinine\": \"Serum creatinine max\",\n",
    "    \"max_sodium\": \"Sodium max\",\n",
    "    \"min_platelets x 1000\": \"Platelets x1000 min\",\n",
    "    \"max_platelets x 1000\": \"Platelets x1000 max\",\n",
    "    \"mean_bicarbonate\": \"Bicarbonate avg\",\n",
    "    \"min_chloride\": \"Chloride min\",\n",
    "    \"mean_chloride\": \"Chloride avg\",\n",
    "    \"min_BUN\": \"BUN min\",\n",
    "    \"max_RBC\": \"RBC max\",\n",
    "    \"min_RBC\": \"RBC min\",\n",
    "    \"max_potassium\": \"Potassium max\",\n",
    "    \"min_potassium\": \"Potassium min\"\n",
    "}\n",
    "final_lab_df = final_lab_results.rename(columns=column_mapping)[[\"patientunitstayid\"] + list(column_mapping.values())]"
   ],
   "id": "b9f00d80b68ee79e",
   "outputs": [],
   "execution_count": 24
  },
  {
   "metadata": {
    "ExecuteTime": {
     "end_time": "2025-02-27T19:04:25.999479Z",
     "start_time": "2025-02-27T19:04:25.985295Z"
    }
   },
   "cell_type": "code",
   "source": "final_lab_df",
   "id": "cd86c6863c459b93",
   "outputs": [
    {
     "data": {
      "text/plain": [
       "        patientunitstayid  Serum creatinine min  Serum creatinine max  \\\n",
       "0                  141168                  1.95                  2.30   \n",
       "1                  141178                  0.70                  0.70   \n",
       "2                  141179                  0.70                  0.70   \n",
       "3                  141194                  2.23                  2.94   \n",
       "4                  141196                  0.80                  0.80   \n",
       "...                   ...                   ...                   ...   \n",
       "189891            3353235                  1.04                  1.04   \n",
       "189892            3353237                  1.07                  1.07   \n",
       "189893            3353251                  1.81                  2.65   \n",
       "189894            3353254                  2.21                  2.38   \n",
       "189895            3353263                  1.06                  1.06   \n",
       "\n",
       "        Sodium max  Platelets x1000 min  Platelets x1000 max  Bicarbonate avg  \\\n",
       "0            139.0                209.0                213.0             24.0   \n",
       "1            146.0                273.0                273.0             25.0   \n",
       "2            146.0                  NaN                  NaN             22.0   \n",
       "3            136.0                233.0                298.0             17.5   \n",
       "4            135.0                453.0                453.0             30.0   \n",
       "...            ...                  ...                  ...              ...   \n",
       "189891       137.0                133.0                133.0             24.0   \n",
       "189892       140.0                128.0                132.0             27.0   \n",
       "189893       142.0                196.0                233.0             21.2   \n",
       "189894       141.0                183.0                268.0             22.0   \n",
       "189895       135.0                161.0                164.0             31.0   \n",
       "\n",
       "        Chloride min  Chloride avg  BUN min  RBC max  RBC min  Potassium max  \\\n",
       "0              101.0         101.5     26.0     4.52     4.49            4.2   \n",
       "1              108.0         108.0     11.0     4.60     4.60            3.6   \n",
       "2              106.0         107.5     20.0      NaN      NaN            4.2   \n",
       "3              102.0         105.5     30.0     3.64     3.43            4.6   \n",
       "4               97.0          97.0     16.0     3.67     3.67            4.1   \n",
       "...              ...           ...      ...      ...      ...            ...   \n",
       "189891         109.0         109.0     16.0     5.49     5.49            4.1   \n",
       "189892         101.0         101.0     32.0     4.12     4.08            3.6   \n",
       "189893         101.0         103.4     19.0     3.54     3.41            4.4   \n",
       "189894         109.0         113.0     42.0     3.89     2.75            5.7   \n",
       "189895         101.0         101.0     13.0     5.47     5.44            4.1   \n",
       "\n",
       "        Potassium min  \n",
       "0                 4.0  \n",
       "1                 3.6  \n",
       "2                 3.6  \n",
       "3                 3.4  \n",
       "4                 4.1  \n",
       "...               ...  \n",
       "189891            4.1  \n",
       "189892            3.6  \n",
       "189893            3.1  \n",
       "189894            5.0  \n",
       "189895            4.1  \n",
       "\n",
       "[189896 rows x 14 columns]"
      ],
      "text/html": [
       "<div>\n",
       "<style scoped>\n",
       "    .dataframe tbody tr th:only-of-type {\n",
       "        vertical-align: middle;\n",
       "    }\n",
       "\n",
       "    .dataframe tbody tr th {\n",
       "        vertical-align: top;\n",
       "    }\n",
       "\n",
       "    .dataframe thead th {\n",
       "        text-align: right;\n",
       "    }\n",
       "</style>\n",
       "<table border=\"1\" class=\"dataframe\">\n",
       "  <thead>\n",
       "    <tr style=\"text-align: right;\">\n",
       "      <th></th>\n",
       "      <th>patientunitstayid</th>\n",
       "      <th>Serum creatinine min</th>\n",
       "      <th>Serum creatinine max</th>\n",
       "      <th>Sodium max</th>\n",
       "      <th>Platelets x1000 min</th>\n",
       "      <th>Platelets x1000 max</th>\n",
       "      <th>Bicarbonate avg</th>\n",
       "      <th>Chloride min</th>\n",
       "      <th>Chloride avg</th>\n",
       "      <th>BUN min</th>\n",
       "      <th>RBC max</th>\n",
       "      <th>RBC min</th>\n",
       "      <th>Potassium max</th>\n",
       "      <th>Potassium min</th>\n",
       "    </tr>\n",
       "  </thead>\n",
       "  <tbody>\n",
       "    <tr>\n",
       "      <th>0</th>\n",
       "      <td>141168</td>\n",
       "      <td>1.95</td>\n",
       "      <td>2.30</td>\n",
       "      <td>139.0</td>\n",
       "      <td>209.0</td>\n",
       "      <td>213.0</td>\n",
       "      <td>24.0</td>\n",
       "      <td>101.0</td>\n",
       "      <td>101.5</td>\n",
       "      <td>26.0</td>\n",
       "      <td>4.52</td>\n",
       "      <td>4.49</td>\n",
       "      <td>4.2</td>\n",
       "      <td>4.0</td>\n",
       "    </tr>\n",
       "    <tr>\n",
       "      <th>1</th>\n",
       "      <td>141178</td>\n",
       "      <td>0.70</td>\n",
       "      <td>0.70</td>\n",
       "      <td>146.0</td>\n",
       "      <td>273.0</td>\n",
       "      <td>273.0</td>\n",
       "      <td>25.0</td>\n",
       "      <td>108.0</td>\n",
       "      <td>108.0</td>\n",
       "      <td>11.0</td>\n",
       "      <td>4.60</td>\n",
       "      <td>4.60</td>\n",
       "      <td>3.6</td>\n",
       "      <td>3.6</td>\n",
       "    </tr>\n",
       "    <tr>\n",
       "      <th>2</th>\n",
       "      <td>141179</td>\n",
       "      <td>0.70</td>\n",
       "      <td>0.70</td>\n",
       "      <td>146.0</td>\n",
       "      <td>NaN</td>\n",
       "      <td>NaN</td>\n",
       "      <td>22.0</td>\n",
       "      <td>106.0</td>\n",
       "      <td>107.5</td>\n",
       "      <td>20.0</td>\n",
       "      <td>NaN</td>\n",
       "      <td>NaN</td>\n",
       "      <td>4.2</td>\n",
       "      <td>3.6</td>\n",
       "    </tr>\n",
       "    <tr>\n",
       "      <th>3</th>\n",
       "      <td>141194</td>\n",
       "      <td>2.23</td>\n",
       "      <td>2.94</td>\n",
       "      <td>136.0</td>\n",
       "      <td>233.0</td>\n",
       "      <td>298.0</td>\n",
       "      <td>17.5</td>\n",
       "      <td>102.0</td>\n",
       "      <td>105.5</td>\n",
       "      <td>30.0</td>\n",
       "      <td>3.64</td>\n",
       "      <td>3.43</td>\n",
       "      <td>4.6</td>\n",
       "      <td>3.4</td>\n",
       "    </tr>\n",
       "    <tr>\n",
       "      <th>4</th>\n",
       "      <td>141196</td>\n",
       "      <td>0.80</td>\n",
       "      <td>0.80</td>\n",
       "      <td>135.0</td>\n",
       "      <td>453.0</td>\n",
       "      <td>453.0</td>\n",
       "      <td>30.0</td>\n",
       "      <td>97.0</td>\n",
       "      <td>97.0</td>\n",
       "      <td>16.0</td>\n",
       "      <td>3.67</td>\n",
       "      <td>3.67</td>\n",
       "      <td>4.1</td>\n",
       "      <td>4.1</td>\n",
       "    </tr>\n",
       "    <tr>\n",
       "      <th>...</th>\n",
       "      <td>...</td>\n",
       "      <td>...</td>\n",
       "      <td>...</td>\n",
       "      <td>...</td>\n",
       "      <td>...</td>\n",
       "      <td>...</td>\n",
       "      <td>...</td>\n",
       "      <td>...</td>\n",
       "      <td>...</td>\n",
       "      <td>...</td>\n",
       "      <td>...</td>\n",
       "      <td>...</td>\n",
       "      <td>...</td>\n",
       "      <td>...</td>\n",
       "    </tr>\n",
       "    <tr>\n",
       "      <th>189891</th>\n",
       "      <td>3353235</td>\n",
       "      <td>1.04</td>\n",
       "      <td>1.04</td>\n",
       "      <td>137.0</td>\n",
       "      <td>133.0</td>\n",
       "      <td>133.0</td>\n",
       "      <td>24.0</td>\n",
       "      <td>109.0</td>\n",
       "      <td>109.0</td>\n",
       "      <td>16.0</td>\n",
       "      <td>5.49</td>\n",
       "      <td>5.49</td>\n",
       "      <td>4.1</td>\n",
       "      <td>4.1</td>\n",
       "    </tr>\n",
       "    <tr>\n",
       "      <th>189892</th>\n",
       "      <td>3353237</td>\n",
       "      <td>1.07</td>\n",
       "      <td>1.07</td>\n",
       "      <td>140.0</td>\n",
       "      <td>128.0</td>\n",
       "      <td>132.0</td>\n",
       "      <td>27.0</td>\n",
       "      <td>101.0</td>\n",
       "      <td>101.0</td>\n",
       "      <td>32.0</td>\n",
       "      <td>4.12</td>\n",
       "      <td>4.08</td>\n",
       "      <td>3.6</td>\n",
       "      <td>3.6</td>\n",
       "    </tr>\n",
       "    <tr>\n",
       "      <th>189893</th>\n",
       "      <td>3353251</td>\n",
       "      <td>1.81</td>\n",
       "      <td>2.65</td>\n",
       "      <td>142.0</td>\n",
       "      <td>196.0</td>\n",
       "      <td>233.0</td>\n",
       "      <td>21.2</td>\n",
       "      <td>101.0</td>\n",
       "      <td>103.4</td>\n",
       "      <td>19.0</td>\n",
       "      <td>3.54</td>\n",
       "      <td>3.41</td>\n",
       "      <td>4.4</td>\n",
       "      <td>3.1</td>\n",
       "    </tr>\n",
       "    <tr>\n",
       "      <th>189894</th>\n",
       "      <td>3353254</td>\n",
       "      <td>2.21</td>\n",
       "      <td>2.38</td>\n",
       "      <td>141.0</td>\n",
       "      <td>183.0</td>\n",
       "      <td>268.0</td>\n",
       "      <td>22.0</td>\n",
       "      <td>109.0</td>\n",
       "      <td>113.0</td>\n",
       "      <td>42.0</td>\n",
       "      <td>3.89</td>\n",
       "      <td>2.75</td>\n",
       "      <td>5.7</td>\n",
       "      <td>5.0</td>\n",
       "    </tr>\n",
       "    <tr>\n",
       "      <th>189895</th>\n",
       "      <td>3353263</td>\n",
       "      <td>1.06</td>\n",
       "      <td>1.06</td>\n",
       "      <td>135.0</td>\n",
       "      <td>161.0</td>\n",
       "      <td>164.0</td>\n",
       "      <td>31.0</td>\n",
       "      <td>101.0</td>\n",
       "      <td>101.0</td>\n",
       "      <td>13.0</td>\n",
       "      <td>5.47</td>\n",
       "      <td>5.44</td>\n",
       "      <td>4.1</td>\n",
       "      <td>4.1</td>\n",
       "    </tr>\n",
       "  </tbody>\n",
       "</table>\n",
       "<p>189896 rows × 14 columns</p>\n",
       "</div>"
      ]
     },
     "execution_count": 25,
     "metadata": {},
     "output_type": "execute_result"
    }
   ],
   "execution_count": 25
  },
  {
   "metadata": {
    "ExecuteTime": {
     "end_time": "2025-02-27T19:07:44.780042Z",
     "start_time": "2025-02-27T19:07:43.797536Z"
    }
   },
   "cell_type": "code",
   "source": "final_lab_df.to_csv('lab_variable.csv')",
   "id": "fd8735f743625205",
   "outputs": [],
   "execution_count": 27
  },
  {
   "metadata": {},
   "cell_type": "code",
   "outputs": [],
   "execution_count": null,
   "source": "",
   "id": "35c006945918b163"
  }
 ],
 "metadata": {
  "kernelspec": {
   "display_name": "Python 3",
   "language": "python",
   "name": "python3"
  },
  "language_info": {
   "codemirror_mode": {
    "name": "ipython",
    "version": 2
   },
   "file_extension": ".py",
   "mimetype": "text/x-python",
   "name": "python",
   "nbconvert_exporter": "python",
   "pygments_lexer": "ipython2",
   "version": "2.7.6"
  }
 },
 "nbformat": 4,
 "nbformat_minor": 5
}
