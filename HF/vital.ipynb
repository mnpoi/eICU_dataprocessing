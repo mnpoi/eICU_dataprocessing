{
 "cells": [
  {
   "metadata": {},
   "cell_type": "markdown",
   "source": "# Vital",
   "id": "76aa9e5e52dd52f6"
  },
  {
   "metadata": {},
   "cell_type": "code",
   "outputs": [],
   "execution_count": 1,
   "source": [
    "import pandas as pd\n",
    "import numpy as np\n",
    "import matplotlib.pyplot as plt\n",
    "import seaborn as sns\n",
    "import os\n",
    "import random\n",
    "random.seed(1) \n",
    "np.random.seed(1)\n",
    "from tqdm import tqdm\n"
   ],
   "id": "initial_id"
  },
  {
   "metadata": {
    "ExecuteTime": {
     "end_time": "2025-03-11T08:13:44.332948Z",
     "start_time": "2025-03-11T08:12:41.738702Z"
    }
   },
   "cell_type": "code",
   "source": [
    "file_path = r\"E:\\EICU\\eicu-collaborative-research-database-2.0\\vitalPeriodic.csv.gz\"\n",
    "\n",
    "# The file is large, so we will read it in chunks\n",
    "chunk_size = 100000\n",
    "chunks = []\n",
    "total_rows = sum(1 for _ in pd.read_csv(file_path, compression=\"gzip\", usecols=['patientunitstayid'], chunksize=chunk_size))\n"
   ],
   "id": "9bbf817f8f9e7490",
   "outputs": [],
   "execution_count": 2
  },
  {
   "metadata": {
    "ExecuteTime": {
     "end_time": "2025-03-11T08:14:17.611523Z",
     "start_time": "2025-03-11T08:14:17.607146Z"
    }
   },
   "cell_type": "code",
   "source": "columns_to_read = ['patientunitstayid', 'observationoffset', 'systemicsystolic', 'systemicdiastolic','systemicmean','heartrate','respiration']",
   "id": "3e687799ba0ff0f1",
   "outputs": [],
   "execution_count": 3
  },
  {
   "metadata": {
    "ExecuteTime": {
     "end_time": "2025-03-11T08:14:19.043959Z",
     "start_time": "2025-03-11T08:14:19.039385Z"
    }
   },
   "cell_type": "code",
   "source": "total_rows",
   "id": "c76dcd576fc668c1",
   "outputs": [
    {
     "data": {
      "text/plain": [
       "1467"
      ]
     },
     "execution_count": 4,
     "metadata": {},
     "output_type": "execute_result"
    }
   ],
   "execution_count": 4
  },
  {
   "metadata": {
    "ExecuteTime": {
     "end_time": "2025-03-11T08:16:07.245427Z",
     "start_time": "2025-03-11T08:14:20.845729Z"
    }
   },
   "cell_type": "code",
   "source": [
    "with tqdm(total=total_rows, desc=\"Processing nurseCharting.csv\") as pbar:\n",
    "    for chunk in pd.read_csv(file_path, compression=\"gzip\", low_memory=False, usecols=columns_to_read,chunksize=chunk_size):\n",
    "        chunk_filtered = chunk[chunk['observationoffset'] <= 1440]\n",
    "        chunks.append(chunk_filtered)\n",
    "        \n",
    "        pbar.update(len(chunk))"
   ],
   "id": "cf49dd81d7c60fd7",
   "outputs": [
    {
     "name": "stderr",
     "output_type": "stream",
     "text": [
      "Processing nurseCharting.csv: 146671642it [01:46, 1378640.07it/s]     \n"
     ]
    }
   ],
   "execution_count": 5
  },
  {
   "metadata": {
    "ExecuteTime": {
     "end_time": "2025-03-11T08:18:42.229842Z",
     "start_time": "2025-03-11T08:18:41.116272Z"
    }
   },
   "cell_type": "code",
   "source": "vital_df = pd.concat(chunks, ignore_index=True)",
   "id": "e78bb65a470bd359",
   "outputs": [],
   "execution_count": 6
  },
  {
   "metadata": {
    "ExecuteTime": {
     "end_time": "2025-03-11T08:18:47.014461Z",
     "start_time": "2025-03-11T08:18:47.002227Z"
    }
   },
   "cell_type": "code",
   "source": "vital_df",
   "id": "d302e1b8663f53e7",
   "outputs": [
    {
     "data": {
      "text/plain": [
       "          patientunitstayid  observationoffset  heartrate  respiration  \\\n",
       "0                    141168               1289      118.0          NaN   \n",
       "1                    141168               1374      118.0          NaN   \n",
       "2                    141168                419      132.0          NaN   \n",
       "3                    141168                754      128.0          NaN   \n",
       "4                    141168               1389       78.0          NaN   \n",
       "...                     ...                ...        ...          ...   \n",
       "45526935            3353263                504       87.0         36.0   \n",
       "45526936            3353263                534       81.0         21.0   \n",
       "45526937            3353263                549       78.0         14.0   \n",
       "45526938            3353263                544       85.0         25.0   \n",
       "45526939            3353263                599       75.0         13.0   \n",
       "\n",
       "          systemicsystolic  systemicdiastolic  systemicmean  \n",
       "0                      NaN                NaN           NaN  \n",
       "1                      NaN                NaN           NaN  \n",
       "2                      NaN                NaN           NaN  \n",
       "3                      NaN                NaN           NaN  \n",
       "4                      NaN                NaN           NaN  \n",
       "...                    ...                ...           ...  \n",
       "45526935               NaN                NaN           NaN  \n",
       "45526936               NaN                NaN           NaN  \n",
       "45526937               NaN                NaN           NaN  \n",
       "45526938               NaN                NaN           NaN  \n",
       "45526939               NaN                NaN           NaN  \n",
       "\n",
       "[45526940 rows x 7 columns]"
      ],
      "text/html": [
       "<div>\n",
       "<style scoped>\n",
       "    .dataframe tbody tr th:only-of-type {\n",
       "        vertical-align: middle;\n",
       "    }\n",
       "\n",
       "    .dataframe tbody tr th {\n",
       "        vertical-align: top;\n",
       "    }\n",
       "\n",
       "    .dataframe thead th {\n",
       "        text-align: right;\n",
       "    }\n",
       "</style>\n",
       "<table border=\"1\" class=\"dataframe\">\n",
       "  <thead>\n",
       "    <tr style=\"text-align: right;\">\n",
       "      <th></th>\n",
       "      <th>patientunitstayid</th>\n",
       "      <th>observationoffset</th>\n",
       "      <th>heartrate</th>\n",
       "      <th>respiration</th>\n",
       "      <th>systemicsystolic</th>\n",
       "      <th>systemicdiastolic</th>\n",
       "      <th>systemicmean</th>\n",
       "    </tr>\n",
       "  </thead>\n",
       "  <tbody>\n",
       "    <tr>\n",
       "      <th>0</th>\n",
       "      <td>141168</td>\n",
       "      <td>1289</td>\n",
       "      <td>118.0</td>\n",
       "      <td>NaN</td>\n",
       "      <td>NaN</td>\n",
       "      <td>NaN</td>\n",
       "      <td>NaN</td>\n",
       "    </tr>\n",
       "    <tr>\n",
       "      <th>1</th>\n",
       "      <td>141168</td>\n",
       "      <td>1374</td>\n",
       "      <td>118.0</td>\n",
       "      <td>NaN</td>\n",
       "      <td>NaN</td>\n",
       "      <td>NaN</td>\n",
       "      <td>NaN</td>\n",
       "    </tr>\n",
       "    <tr>\n",
       "      <th>2</th>\n",
       "      <td>141168</td>\n",
       "      <td>419</td>\n",
       "      <td>132.0</td>\n",
       "      <td>NaN</td>\n",
       "      <td>NaN</td>\n",
       "      <td>NaN</td>\n",
       "      <td>NaN</td>\n",
       "    </tr>\n",
       "    <tr>\n",
       "      <th>3</th>\n",
       "      <td>141168</td>\n",
       "      <td>754</td>\n",
       "      <td>128.0</td>\n",
       "      <td>NaN</td>\n",
       "      <td>NaN</td>\n",
       "      <td>NaN</td>\n",
       "      <td>NaN</td>\n",
       "    </tr>\n",
       "    <tr>\n",
       "      <th>4</th>\n",
       "      <td>141168</td>\n",
       "      <td>1389</td>\n",
       "      <td>78.0</td>\n",
       "      <td>NaN</td>\n",
       "      <td>NaN</td>\n",
       "      <td>NaN</td>\n",
       "      <td>NaN</td>\n",
       "    </tr>\n",
       "    <tr>\n",
       "      <th>...</th>\n",
       "      <td>...</td>\n",
       "      <td>...</td>\n",
       "      <td>...</td>\n",
       "      <td>...</td>\n",
       "      <td>...</td>\n",
       "      <td>...</td>\n",
       "      <td>...</td>\n",
       "    </tr>\n",
       "    <tr>\n",
       "      <th>45526935</th>\n",
       "      <td>3353263</td>\n",
       "      <td>504</td>\n",
       "      <td>87.0</td>\n",
       "      <td>36.0</td>\n",
       "      <td>NaN</td>\n",
       "      <td>NaN</td>\n",
       "      <td>NaN</td>\n",
       "    </tr>\n",
       "    <tr>\n",
       "      <th>45526936</th>\n",
       "      <td>3353263</td>\n",
       "      <td>534</td>\n",
       "      <td>81.0</td>\n",
       "      <td>21.0</td>\n",
       "      <td>NaN</td>\n",
       "      <td>NaN</td>\n",
       "      <td>NaN</td>\n",
       "    </tr>\n",
       "    <tr>\n",
       "      <th>45526937</th>\n",
       "      <td>3353263</td>\n",
       "      <td>549</td>\n",
       "      <td>78.0</td>\n",
       "      <td>14.0</td>\n",
       "      <td>NaN</td>\n",
       "      <td>NaN</td>\n",
       "      <td>NaN</td>\n",
       "    </tr>\n",
       "    <tr>\n",
       "      <th>45526938</th>\n",
       "      <td>3353263</td>\n",
       "      <td>544</td>\n",
       "      <td>85.0</td>\n",
       "      <td>25.0</td>\n",
       "      <td>NaN</td>\n",
       "      <td>NaN</td>\n",
       "      <td>NaN</td>\n",
       "    </tr>\n",
       "    <tr>\n",
       "      <th>45526939</th>\n",
       "      <td>3353263</td>\n",
       "      <td>599</td>\n",
       "      <td>75.0</td>\n",
       "      <td>13.0</td>\n",
       "      <td>NaN</td>\n",
       "      <td>NaN</td>\n",
       "      <td>NaN</td>\n",
       "    </tr>\n",
       "  </tbody>\n",
       "</table>\n",
       "<p>45526940 rows × 7 columns</p>\n",
       "</div>"
      ]
     },
     "execution_count": 7,
     "metadata": {},
     "output_type": "execute_result"
    }
   ],
   "execution_count": 7
  },
  {
   "metadata": {
    "ExecuteTime": {
     "end_time": "2025-03-11T08:19:07.672256Z",
     "start_time": "2025-03-11T08:19:06.368070Z"
    }
   },
   "cell_type": "code",
   "source": [
    "vital_df['nipd_systolic_avg'] = vital_df.groupby('patientunitstayid')['systemicsystolic'].transform('mean')\n",
    "vital_df['nipd_diastolic_avg'] = vital_df.groupby('patientunitstayid')['systemicdiastolic'].transform('mean')"
   ],
   "id": "af2df7616393f968",
   "outputs": [],
   "execution_count": 8
  },
  {
   "metadata": {
    "ExecuteTime": {
     "end_time": "2025-03-11T08:10:32.948726Z",
     "start_time": "2025-03-11T08:10:32.937299Z"
    }
   },
   "cell_type": "code",
   "source": "vital_df.head()",
   "id": "57d1ea57a7796294",
   "outputs": [
    {
     "data": {
      "text/plain": [
       "   patientunitstayid  observationoffset  heartrate  respiration  \\\n",
       "0             141168               1289      118.0          NaN   \n",
       "1             141168               1374      118.0          NaN   \n",
       "2             141168                419      132.0          NaN   \n",
       "3             141168                754      128.0          NaN   \n",
       "4             141168               1389       78.0          NaN   \n",
       "\n",
       "   systemicsystolic  systemicdiastolic  systemicmean  nipd_systolic_avg  \\\n",
       "0               NaN                NaN           NaN                NaN   \n",
       "1               NaN                NaN           NaN                NaN   \n",
       "2               NaN                NaN           NaN                NaN   \n",
       "3               NaN                NaN           NaN                NaN   \n",
       "4               NaN                NaN           NaN                NaN   \n",
       "\n",
       "   nipd_diastolic_avg  \n",
       "0                 NaN  \n",
       "1                 NaN  \n",
       "2                 NaN  \n",
       "3                 NaN  \n",
       "4                 NaN  "
      ],
      "text/html": [
       "<div>\n",
       "<style scoped>\n",
       "    .dataframe tbody tr th:only-of-type {\n",
       "        vertical-align: middle;\n",
       "    }\n",
       "\n",
       "    .dataframe tbody tr th {\n",
       "        vertical-align: top;\n",
       "    }\n",
       "\n",
       "    .dataframe thead th {\n",
       "        text-align: right;\n",
       "    }\n",
       "</style>\n",
       "<table border=\"1\" class=\"dataframe\">\n",
       "  <thead>\n",
       "    <tr style=\"text-align: right;\">\n",
       "      <th></th>\n",
       "      <th>patientunitstayid</th>\n",
       "      <th>observationoffset</th>\n",
       "      <th>heartrate</th>\n",
       "      <th>respiration</th>\n",
       "      <th>systemicsystolic</th>\n",
       "      <th>systemicdiastolic</th>\n",
       "      <th>systemicmean</th>\n",
       "      <th>nipd_systolic_avg</th>\n",
       "      <th>nipd_diastolic_avg</th>\n",
       "    </tr>\n",
       "  </thead>\n",
       "  <tbody>\n",
       "    <tr>\n",
       "      <th>0</th>\n",
       "      <td>141168</td>\n",
       "      <td>1289</td>\n",
       "      <td>118.0</td>\n",
       "      <td>NaN</td>\n",
       "      <td>NaN</td>\n",
       "      <td>NaN</td>\n",
       "      <td>NaN</td>\n",
       "      <td>NaN</td>\n",
       "      <td>NaN</td>\n",
       "    </tr>\n",
       "    <tr>\n",
       "      <th>1</th>\n",
       "      <td>141168</td>\n",
       "      <td>1374</td>\n",
       "      <td>118.0</td>\n",
       "      <td>NaN</td>\n",
       "      <td>NaN</td>\n",
       "      <td>NaN</td>\n",
       "      <td>NaN</td>\n",
       "      <td>NaN</td>\n",
       "      <td>NaN</td>\n",
       "    </tr>\n",
       "    <tr>\n",
       "      <th>2</th>\n",
       "      <td>141168</td>\n",
       "      <td>419</td>\n",
       "      <td>132.0</td>\n",
       "      <td>NaN</td>\n",
       "      <td>NaN</td>\n",
       "      <td>NaN</td>\n",
       "      <td>NaN</td>\n",
       "      <td>NaN</td>\n",
       "      <td>NaN</td>\n",
       "    </tr>\n",
       "    <tr>\n",
       "      <th>3</th>\n",
       "      <td>141168</td>\n",
       "      <td>754</td>\n",
       "      <td>128.0</td>\n",
       "      <td>NaN</td>\n",
       "      <td>NaN</td>\n",
       "      <td>NaN</td>\n",
       "      <td>NaN</td>\n",
       "      <td>NaN</td>\n",
       "      <td>NaN</td>\n",
       "    </tr>\n",
       "    <tr>\n",
       "      <th>4</th>\n",
       "      <td>141168</td>\n",
       "      <td>1389</td>\n",
       "      <td>78.0</td>\n",
       "      <td>NaN</td>\n",
       "      <td>NaN</td>\n",
       "      <td>NaN</td>\n",
       "      <td>NaN</td>\n",
       "      <td>NaN</td>\n",
       "      <td>NaN</td>\n",
       "    </tr>\n",
       "  </tbody>\n",
       "</table>\n",
       "</div>"
      ]
     },
     "execution_count": 10,
     "metadata": {},
     "output_type": "execute_result"
    }
   ],
   "execution_count": 10
  },
  {
   "metadata": {
    "ExecuteTime": {
     "end_time": "2025-03-11T08:19:26.836667Z",
     "start_time": "2025-03-11T08:19:25.399949Z"
    }
   },
   "cell_type": "code",
   "source": [
    "vital_df['nipd_systolic_min'] = vital_df.groupby('patientunitstayid')['systemicsystolic'].transform('min')\n",
    "vital_df['nipd_diastolic_min'] = vital_df.groupby('patientunitstayid')['systemicdiastolic'].transform('min')"
   ],
   "id": "cc4bdd84eec144ea",
   "outputs": [],
   "execution_count": 9
  },
  {
   "metadata": {
    "ExecuteTime": {
     "end_time": "2025-03-11T08:19:29.589807Z",
     "start_time": "2025-03-11T08:19:28.220226Z"
    }
   },
   "cell_type": "code",
   "source": [
    "vital_df['nipd_systolic_max'] = vital_df.groupby('patientunitstayid')['systemicsystolic'].transform('max')\n",
    "vital_df['nipd_diastolic_max'] = vital_df.groupby('patientunitstayid')['systemicdiastolic'].transform('max')"
   ],
   "id": "7b266f095423ae43",
   "outputs": [],
   "execution_count": 10
  },
  {
   "metadata": {
    "ExecuteTime": {
     "end_time": "2025-03-11T08:19:31.526163Z",
     "start_time": "2025-03-11T08:19:30.172657Z"
    }
   },
   "cell_type": "code",
   "source": [
    "vital_df['heartrate_min'] = vital_df.groupby('patientunitstayid')['heartrate'].transform('min')\n",
    "vital_df['heartrate_max'] = vital_df.groupby('patientunitstayid')['heartrate'].transform('max')"
   ],
   "id": "a4dec7de026d7778",
   "outputs": [],
   "execution_count": 11
  },
  {
   "metadata": {
    "ExecuteTime": {
     "end_time": "2025-03-11T08:19:34.461163Z",
     "start_time": "2025-03-11T08:19:31.957802Z"
    }
   },
   "cell_type": "code",
   "source": [
    "vital_df['respiration_min'] = vital_df.groupby('patientunitstayid')['respiration'].transform('min')\n",
    "vital_df['respiration_max'] = vital_df.groupby('patientunitstayid')['respiration'].transform('max')\n",
    "vital_df['respiration_avg'] = vital_df.groupby('patientunitstayid')['respiration'].transform('mean')"
   ],
   "id": "d7f51f6809f1869a",
   "outputs": [],
   "execution_count": 12
  },
  {
   "metadata": {
    "ExecuteTime": {
     "end_time": "2025-03-11T08:19:46.827514Z",
     "start_time": "2025-03-11T08:19:36.622964Z"
    }
   },
   "cell_type": "code",
   "source": "vital_df.drop(columns=['systemicsystolic', 'systemicdiastolic', 'heartrate', 'respiration','observationoffset'], inplace=True)",
   "id": "bdc58e6726ae88ff",
   "outputs": [],
   "execution_count": 13
  },
  {
   "metadata": {
    "ExecuteTime": {
     "end_time": "2025-03-11T08:20:06.052794Z",
     "start_time": "2025-03-11T08:19:48.219978Z"
    }
   },
   "cell_type": "code",
   "source": "vital_df.drop_duplicates(inplace=True)",
   "id": "9809f0e854e58ef",
   "outputs": [],
   "execution_count": 14
  },
  {
   "metadata": {
    "ExecuteTime": {
     "end_time": "2025-03-11T08:20:08.584089Z",
     "start_time": "2025-03-11T08:20:08.552176Z"
    }
   },
   "cell_type": "code",
   "source": "vital_df",
   "id": "adb999a3029217c7",
   "outputs": [
    {
     "data": {
      "text/plain": [
       "          patientunitstayid  systemicmean  nipd_systolic_avg  \\\n",
       "0                    141168           NaN                NaN   \n",
       "265                  141178           NaN                NaN   \n",
       "266                  141179           NaN                NaN   \n",
       "554                  141194          54.0          97.573248   \n",
       "555                  141194          52.0          97.573248   \n",
       "...                     ...           ...                ...   \n",
       "45526615            3353251          67.0         121.559140   \n",
       "45526630            3353251          68.0         121.559140   \n",
       "45526663            3353251          87.0         121.559140   \n",
       "45526672            3353254           NaN                NaN   \n",
       "45526756            3353263           NaN                NaN   \n",
       "\n",
       "          nipd_diastolic_avg  nipd_systolic_min  nipd_diastolic_min  \\\n",
       "0                        NaN                NaN                 NaN   \n",
       "265                      NaN                NaN                 NaN   \n",
       "266                      NaN                NaN                 NaN   \n",
       "554                39.859873               56.0                30.0   \n",
       "555                39.859873               56.0                30.0   \n",
       "...                      ...                ...                 ...   \n",
       "45526615           60.487455                0.0                 0.0   \n",
       "45526630           60.487455                0.0                 0.0   \n",
       "45526663           60.487455                0.0                 0.0   \n",
       "45526672                 NaN                NaN                 NaN   \n",
       "45526756                 NaN                NaN                 NaN   \n",
       "\n",
       "          nipd_systolic_max  nipd_diastolic_max  heartrate_min  heartrate_max  \\\n",
       "0                       NaN                 NaN           78.0          140.0   \n",
       "265                     NaN                 NaN           88.0           88.0   \n",
       "266                     NaN                 NaN           78.0          110.0   \n",
       "554                   120.0                62.0           72.0          117.0   \n",
       "555                   120.0                62.0           72.0          117.0   \n",
       "...                     ...                 ...            ...            ...   \n",
       "45526615              208.0               121.0           60.0          104.0   \n",
       "45526630              208.0               121.0           60.0          104.0   \n",
       "45526663              208.0               121.0           60.0          104.0   \n",
       "45526672                NaN                 NaN           72.0           83.0   \n",
       "45526756                NaN                 NaN           69.0           95.0   \n",
       "\n",
       "          respiration_min  respiration_max  respiration_avg  \n",
       "0                     NaN              NaN              NaN  \n",
       "265                   NaN              NaN              NaN  \n",
       "266                   NaN              NaN              NaN  \n",
       "554                   0.0             34.0        22.961672  \n",
       "555                   0.0             34.0        22.961672  \n",
       "...                   ...              ...              ...  \n",
       "45526615             13.0             33.0        25.414035  \n",
       "45526630             13.0             33.0        25.414035  \n",
       "45526663             13.0             33.0        25.414035  \n",
       "45526672              9.0             31.0        22.226190  \n",
       "45526756             10.0             57.0        19.483696  \n",
       "\n",
       "[1685433 rows x 13 columns]"
      ],
      "text/html": [
       "<div>\n",
       "<style scoped>\n",
       "    .dataframe tbody tr th:only-of-type {\n",
       "        vertical-align: middle;\n",
       "    }\n",
       "\n",
       "    .dataframe tbody tr th {\n",
       "        vertical-align: top;\n",
       "    }\n",
       "\n",
       "    .dataframe thead th {\n",
       "        text-align: right;\n",
       "    }\n",
       "</style>\n",
       "<table border=\"1\" class=\"dataframe\">\n",
       "  <thead>\n",
       "    <tr style=\"text-align: right;\">\n",
       "      <th></th>\n",
       "      <th>patientunitstayid</th>\n",
       "      <th>systemicmean</th>\n",
       "      <th>nipd_systolic_avg</th>\n",
       "      <th>nipd_diastolic_avg</th>\n",
       "      <th>nipd_systolic_min</th>\n",
       "      <th>nipd_diastolic_min</th>\n",
       "      <th>nipd_systolic_max</th>\n",
       "      <th>nipd_diastolic_max</th>\n",
       "      <th>heartrate_min</th>\n",
       "      <th>heartrate_max</th>\n",
       "      <th>respiration_min</th>\n",
       "      <th>respiration_max</th>\n",
       "      <th>respiration_avg</th>\n",
       "    </tr>\n",
       "  </thead>\n",
       "  <tbody>\n",
       "    <tr>\n",
       "      <th>0</th>\n",
       "      <td>141168</td>\n",
       "      <td>NaN</td>\n",
       "      <td>NaN</td>\n",
       "      <td>NaN</td>\n",
       "      <td>NaN</td>\n",
       "      <td>NaN</td>\n",
       "      <td>NaN</td>\n",
       "      <td>NaN</td>\n",
       "      <td>78.0</td>\n",
       "      <td>140.0</td>\n",
       "      <td>NaN</td>\n",
       "      <td>NaN</td>\n",
       "      <td>NaN</td>\n",
       "    </tr>\n",
       "    <tr>\n",
       "      <th>265</th>\n",
       "      <td>141178</td>\n",
       "      <td>NaN</td>\n",
       "      <td>NaN</td>\n",
       "      <td>NaN</td>\n",
       "      <td>NaN</td>\n",
       "      <td>NaN</td>\n",
       "      <td>NaN</td>\n",
       "      <td>NaN</td>\n",
       "      <td>88.0</td>\n",
       "      <td>88.0</td>\n",
       "      <td>NaN</td>\n",
       "      <td>NaN</td>\n",
       "      <td>NaN</td>\n",
       "    </tr>\n",
       "    <tr>\n",
       "      <th>266</th>\n",
       "      <td>141179</td>\n",
       "      <td>NaN</td>\n",
       "      <td>NaN</td>\n",
       "      <td>NaN</td>\n",
       "      <td>NaN</td>\n",
       "      <td>NaN</td>\n",
       "      <td>NaN</td>\n",
       "      <td>NaN</td>\n",
       "      <td>78.0</td>\n",
       "      <td>110.0</td>\n",
       "      <td>NaN</td>\n",
       "      <td>NaN</td>\n",
       "      <td>NaN</td>\n",
       "    </tr>\n",
       "    <tr>\n",
       "      <th>554</th>\n",
       "      <td>141194</td>\n",
       "      <td>54.0</td>\n",
       "      <td>97.573248</td>\n",
       "      <td>39.859873</td>\n",
       "      <td>56.0</td>\n",
       "      <td>30.0</td>\n",
       "      <td>120.0</td>\n",
       "      <td>62.0</td>\n",
       "      <td>72.0</td>\n",
       "      <td>117.0</td>\n",
       "      <td>0.0</td>\n",
       "      <td>34.0</td>\n",
       "      <td>22.961672</td>\n",
       "    </tr>\n",
       "    <tr>\n",
       "      <th>555</th>\n",
       "      <td>141194</td>\n",
       "      <td>52.0</td>\n",
       "      <td>97.573248</td>\n",
       "      <td>39.859873</td>\n",
       "      <td>56.0</td>\n",
       "      <td>30.0</td>\n",
       "      <td>120.0</td>\n",
       "      <td>62.0</td>\n",
       "      <td>72.0</td>\n",
       "      <td>117.0</td>\n",
       "      <td>0.0</td>\n",
       "      <td>34.0</td>\n",
       "      <td>22.961672</td>\n",
       "    </tr>\n",
       "    <tr>\n",
       "      <th>...</th>\n",
       "      <td>...</td>\n",
       "      <td>...</td>\n",
       "      <td>...</td>\n",
       "      <td>...</td>\n",
       "      <td>...</td>\n",
       "      <td>...</td>\n",
       "      <td>...</td>\n",
       "      <td>...</td>\n",
       "      <td>...</td>\n",
       "      <td>...</td>\n",
       "      <td>...</td>\n",
       "      <td>...</td>\n",
       "      <td>...</td>\n",
       "    </tr>\n",
       "    <tr>\n",
       "      <th>45526615</th>\n",
       "      <td>3353251</td>\n",
       "      <td>67.0</td>\n",
       "      <td>121.559140</td>\n",
       "      <td>60.487455</td>\n",
       "      <td>0.0</td>\n",
       "      <td>0.0</td>\n",
       "      <td>208.0</td>\n",
       "      <td>121.0</td>\n",
       "      <td>60.0</td>\n",
       "      <td>104.0</td>\n",
       "      <td>13.0</td>\n",
       "      <td>33.0</td>\n",
       "      <td>25.414035</td>\n",
       "    </tr>\n",
       "    <tr>\n",
       "      <th>45526630</th>\n",
       "      <td>3353251</td>\n",
       "      <td>68.0</td>\n",
       "      <td>121.559140</td>\n",
       "      <td>60.487455</td>\n",
       "      <td>0.0</td>\n",
       "      <td>0.0</td>\n",
       "      <td>208.0</td>\n",
       "      <td>121.0</td>\n",
       "      <td>60.0</td>\n",
       "      <td>104.0</td>\n",
       "      <td>13.0</td>\n",
       "      <td>33.0</td>\n",
       "      <td>25.414035</td>\n",
       "    </tr>\n",
       "    <tr>\n",
       "      <th>45526663</th>\n",
       "      <td>3353251</td>\n",
       "      <td>87.0</td>\n",
       "      <td>121.559140</td>\n",
       "      <td>60.487455</td>\n",
       "      <td>0.0</td>\n",
       "      <td>0.0</td>\n",
       "      <td>208.0</td>\n",
       "      <td>121.0</td>\n",
       "      <td>60.0</td>\n",
       "      <td>104.0</td>\n",
       "      <td>13.0</td>\n",
       "      <td>33.0</td>\n",
       "      <td>25.414035</td>\n",
       "    </tr>\n",
       "    <tr>\n",
       "      <th>45526672</th>\n",
       "      <td>3353254</td>\n",
       "      <td>NaN</td>\n",
       "      <td>NaN</td>\n",
       "      <td>NaN</td>\n",
       "      <td>NaN</td>\n",
       "      <td>NaN</td>\n",
       "      <td>NaN</td>\n",
       "      <td>NaN</td>\n",
       "      <td>72.0</td>\n",
       "      <td>83.0</td>\n",
       "      <td>9.0</td>\n",
       "      <td>31.0</td>\n",
       "      <td>22.226190</td>\n",
       "    </tr>\n",
       "    <tr>\n",
       "      <th>45526756</th>\n",
       "      <td>3353263</td>\n",
       "      <td>NaN</td>\n",
       "      <td>NaN</td>\n",
       "      <td>NaN</td>\n",
       "      <td>NaN</td>\n",
       "      <td>NaN</td>\n",
       "      <td>NaN</td>\n",
       "      <td>NaN</td>\n",
       "      <td>69.0</td>\n",
       "      <td>95.0</td>\n",
       "      <td>10.0</td>\n",
       "      <td>57.0</td>\n",
       "      <td>19.483696</td>\n",
       "    </tr>\n",
       "  </tbody>\n",
       "</table>\n",
       "<p>1685433 rows × 13 columns</p>\n",
       "</div>"
      ]
     },
     "execution_count": 15,
     "metadata": {},
     "output_type": "execute_result"
    }
   ],
   "execution_count": 15
  },
  {
   "metadata": {
    "ExecuteTime": {
     "end_time": "2025-03-11T08:20:28.380585Z",
     "start_time": "2025-03-11T08:20:21.379217Z"
    }
   },
   "cell_type": "code",
   "source": "vital_df.to_csv('vital_variable.csv', index=False)",
   "id": "a13ce1818a44fc62",
   "outputs": [],
   "execution_count": 16
  },
  {
   "metadata": {
    "ExecuteTime": {
     "end_time": "2025-03-11T09:19:58.471954Z",
     "start_time": "2025-03-11T09:19:58.440149Z"
    }
   },
   "cell_type": "code",
   "source": "vital_df['patientunitstayid'].nunique()",
   "id": "3a4a8a7b25d8baeb",
   "outputs": [
    {
     "data": {
      "text/plain": [
       "192320"
      ]
     },
     "execution_count": 17,
     "metadata": {},
     "output_type": "execute_result"
    }
   ],
   "execution_count": 17
  },
  {
   "metadata": {},
   "cell_type": "markdown",
   "source": "# Vital Signs Summary",
   "id": "6ca2b07973d1c1c2"
  },
  {
   "metadata": {},
   "cell_type": "code",
   "outputs": [],
   "execution_count": null,
   "source": [
    "import pandas as pd\n",
    "import numpy as np\n",
    "import os\n",
    "import random\n",
    "from tqdm import tqdm\n",
    "\n",
    "random.seed(1)\n",
    "np.random.seed(1)\n",
    "\n",
    "# read vitalPeriodic data in chunks\n",
    "file_path = r\"E:\\EICU\\eicu-collaborative-research-database-2.0\\vitalPeriodic.csv.gz\"\n",
    "\n",
    "chunk_size = 100000\n",
    "columns_to_read = ['patientunitstayid', 'observationoffset', 'systemicmean', 'heartrate', 'respiration']\n",
    "\n",
    "total_rows = sum(1 for _ in pd.read_csv(file_path, compression=\"gzip\", usecols=['patientunitstayid'], chunksize=chunk_size))\n",
    "\n",
    "chunks = []\n",
    "with tqdm(total=total_rows, desc=\"Processing vitalPeriodic.csv\") as pbar:\n",
    "    for chunk in pd.read_csv(file_path, compression=\"gzip\", low_memory=False, usecols=columns_to_read, chunksize=chunk_size):\n",
    "        chunk_filtered = chunk[(chunk['observationoffset'] >= 0) & (chunk['observationoffset'] <= 1440)]  # only keep records within 0 to 1440 minutes\n",
    "        chunks.append(chunk_filtered)\n",
    "        pbar.update(len(chunk))\n",
    "\n",
    "vital_df = pd.concat(chunks, ignore_index=True)\n"
   ],
   "id": "55a9f6ae5ba4e96e"
  },
  {
   "metadata": {},
   "cell_type": "code",
   "outputs": [],
   "execution_count": null,
   "source": [
    "# retrieve the latest `systemicmean` for each `patientunitstayid`\n",
    "systemicmean_latest = vital_df.loc[vital_df.groupby(\"patientunitstayid\")[\"observationoffset\"].idxmin(), [\"patientunitstayid\", \"systemicmean\"]]\n",
    "\n",
    "# calculate statistics for `heartrate` and `respiration` based on ICU admission data\n",
    "vital_stats = vital_df.groupby(\"patientunitstayid\").agg(\n",
    "    heartrate_min=('heartrate', 'min'),\n",
    "    heartrate_max=('heartrate', 'max'),\n",
    "    respiration_min=('respiration', 'min'),\n",
    "    respiration_max=('respiration', 'max'),\n",
    "    respiration_avg=('respiration', 'mean')\n",
    ").reset_index()\n",
    "\n",
    "vital_summary = systemicmean_latest.merge(vital_stats, on=\"patientunitstayid\", how=\"left\")"
   ],
   "id": "14b8001d2195b6b"
  },
  {
   "metadata": {},
   "cell_type": "code",
   "outputs": [],
   "execution_count": null,
   "source": "vital_summary.to_csv(\"vital_summary.csv\", index=False)",
   "id": "67577bbfdbc8e58e"
  }
 ],
 "metadata": {
  "kernelspec": {
   "display_name": "Python 3",
   "language": "python",
   "name": "python3"
  },
  "language_info": {
   "codemirror_mode": {
    "name": "ipython",
    "version": 2
   },
   "file_extension": ".py",
   "mimetype": "text/x-python",
   "name": "python",
   "nbconvert_exporter": "python",
   "pygments_lexer": "ipython2",
   "version": "2.7.6"
  }
 },
 "nbformat": 4,
 "nbformat_minor": 5
}
