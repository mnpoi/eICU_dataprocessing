{
 "cells": [
  {
   "cell_type": "code",
   "id": "initial_id",
   "metadata": {
    "collapsed": true
   },
   "source": [
    "import pandas as pd\n",
    "\n",
    "patient_file = r\"E:\\EICU\\eicu-collaborative-research-database-2.0\\patient.csv.gz\"\n",
    "patient_df = pd.read_csv(patient_file, compression=\"gzip\")\n",
    "patient_df = patient_df.sort_values(by=['patienthealthsystemstayid', 'hospitaladmitoffset'])\n",
    "patient_df = patient_df.drop_duplicates(subset=['patienthealthsystemstayid'], keep='first')\n",
    "\n",
    "diagnosis_file = r\"E:\\EICU\\eicu-collaborative-research-database-2.0\\diagnosis.csv.gz\"\n",
    "diagnosis_df = pd.read_csv(diagnosis_file, compression=\"gzip\")\n"
   ],
   "outputs": [],
   "execution_count": null
  },
  {
   "metadata": {},
   "cell_type": "code",
   "source": [
    "HF_ICD_CODES = {\n",
    "    # ICD-9 codes for heart failure\n",
    "    '402.01', '402.91','404.91','404.93'\n",
    "    '428', '428.1', '428.2', '428.21', '428.22', '428.23',\n",
    "    '428.3', '428.31', '428.32', '428.33', '428.4', '428.41', '428.42', '428.43', '428.9',\n",
    "\n",
    "    # ICD-10 codes for heart failure\n",
    "    'I509', 'I110', 'I132', 'I5020', 'I5021', 'I5022', 'I5023',\n",
    "    'I5030', 'I5031', 'I5032', 'I5033', 'I5040', 'I5041', 'I5042', 'I5043'\n",
    "}\n",
    "diagnosis_df = diagnosis_df.dropna(subset=['icd9code'])\n",
    "diagnosis_df['icd9code'] = diagnosis_df['icd9code'].astype(str).str.strip()\n",
    "\n",
    "def contains_hf(icd_list):\n",
    "    icd_codes = set(code.strip() for code in icd_list.split(','))\n",
    "    return not icd_codes.isdisjoint(HF_ICD_CODES)\n",
    "\n",
    "hf_diag = diagnosis_df[diagnosis_df['icd9code'].apply(contains_hf)]"
   ],
   "id": "cd3cf178f867bcc7",
   "outputs": [],
   "execution_count": null
  },
  {
   "metadata": {},
   "cell_type": "code",
   "source": "hf_diag['diagnosispriority'].value_counts()",
   "id": "1355970e68e0f85",
   "outputs": [],
   "execution_count": null
  },
  {
   "metadata": {},
   "cell_type": "code",
   "source": "hf_diag",
   "id": "9dc7c1e9a6050e1a",
   "outputs": [],
   "execution_count": null
  },
  {
   "metadata": {},
   "cell_type": "code",
   "source": "hf_diag['patientunitstayid'].nunique()",
   "id": "2bb2d7af2eedc640",
   "outputs": [],
   "execution_count": null
  },
  {
   "metadata": {},
   "cell_type": "code",
   "source": [
    "hf_diag = hf_diag[hf_diag['diagnosispriority'] == 'Primary']\n",
    "\n",
    "hf_df = patient_df.merge(hf_diag[['patientunitstayid']], on='patientunitstayid', how='inner')"
   ],
   "id": "99fd20ede39077aa",
   "outputs": [],
   "execution_count": null
  },
  {
   "metadata": {},
   "cell_type": "code",
   "source": "hf_df = hf_df[hf_df['unitdischargeoffset'] > 24 * 60]",
   "id": "92c634b236f593a4",
   "outputs": [],
   "execution_count": null
  },
  {
   "metadata": {},
   "cell_type": "code",
   "source": [
    "def clean_age(age):\n",
    "    if age == \">89\":\n",
    "        return 90\n",
    "    elif age.isdigit():  \n",
    "        return int(age)\n",
    "    else:\n",
    "        return None\n",
    "\n",
    "hf_df['age'] = hf_df['age'].astype(str).str.strip().apply(clean_age)\n",
    "\n",
    "# only keep patients aged 18 and above\n",
    "aki_df = hf_df[hf_df['age'] >= 18]"
   ],
   "id": "2bfc70ea9abcf06c",
   "outputs": [],
   "execution_count": null
  },
  {
   "metadata": {},
   "cell_type": "code",
   "source": "hf_df['BMI'] = hf_df['admissionweight'] / (hf_df['admissionheight'] / 100) ** 2",
   "id": "9788db335449576c",
   "outputs": [],
   "execution_count": null
  },
  {
   "metadata": {},
   "cell_type": "code",
   "source": "hf_df = hf_df[['patientunitstayid', 'gender', 'age','hospitalid','unitdischargeoffset', 'unitdischargestatus', 'hospitaldischargestatus', 'BMI']]",
   "id": "6270c5a5c940fc04",
   "outputs": [],
   "execution_count": null
  },
  {
   "metadata": {},
   "cell_type": "code",
   "source": "hf_df.drop_duplicates(inplace=True)",
   "id": "f3b74881b673c2b7",
   "outputs": [],
   "execution_count": null
  },
  {
   "metadata": {},
   "cell_type": "code",
   "source": "hf_df['patientunitstayid'].nunique()",
   "id": "9e99d8608be15779",
   "outputs": [],
   "execution_count": null
  },
  {
   "metadata": {},
   "cell_type": "code",
   "source": [
    "lab_variables = pd.read_csv('lab_variable.csv')\n",
    "vital_variables = pd.read_csv('vital_summary.csv')\n",
    "treatment_variables = pd.read_csv('vasopressor.csv')"
   ],
   "id": "8b422b3ef868f72d",
   "outputs": [],
   "execution_count": null
  },
  {
   "metadata": {},
   "cell_type": "code",
   "source": [
    "# Merge datasets one by one on patientunitstayid\n",
    "merged_df = hf_df.merge(lab_variables, on=\"patientunitstayid\", how=\"left\") \\\n",
    "                      .merge(vital_variables, on=\"patientunitstayid\", how=\"left\") \\\n",
    "                        .merge(treatment_variables, on=\"patientunitstayid\", how=\"left\")"
   ],
   "id": "68ec4183e7dfeecb",
   "outputs": [],
   "execution_count": null
  },
  {
   "metadata": {},
   "cell_type": "code",
   "source": "merged_df.head()",
   "id": "853f2aad4cdf4ecd",
   "outputs": [],
   "execution_count": null
  },
  {
   "metadata": {},
   "cell_type": "code",
   "source": [
    "missing_ratio = merged_df.isnull().mean(axis=1)\n",
    "merged_df = merged_df[missing_ratio < 0.3]"
   ],
   "id": "7fc3058d4c7988cb",
   "outputs": [],
   "execution_count": null
  },
  {
   "metadata": {},
   "cell_type": "code",
   "source": [
    "print(f\"Number of patients: {len(merged_df)}\")\n",
    "\n",
    "output_path = \"hf_merged.csv\"\n",
    "hf_df.to_csv(output_path, index=False)\n",
    "print(f\"The data has been saved to {output_path}\")"
   ],
   "id": "167186cd43053bf9",
   "outputs": [],
   "execution_count": null
  },
  {
   "metadata": {},
   "cell_type": "code",
   "source": [
    "# calculate the number and percentage of missing values\n",
    "na_counts = merged_df.isna().sum()\n",
    "na_percentage = (na_counts / len(merged_df)) * 100\n",
    "\n",
    "# create a summary DataFrame\n",
    "na_summary = pd.DataFrame({\n",
    "    \"Missing Values\": na_counts,\n",
    "    \"Missing Percentage (%)\": na_percentage\n",
    "})"
   ],
   "id": "b514ab4939d5c0a2",
   "outputs": [],
   "execution_count": null
  },
  {
   "metadata": {},
   "cell_type": "code",
   "source": "na_summary",
   "id": "8cf51e23afbd6de1",
   "outputs": [],
   "execution_count": null
  },
  {
   "metadata": {},
   "cell_type": "code",
   "source": "merged_df = merged_df.drop(columns=['nipd_systolic_avg', 'nipd_diastolic_avg', 'nipd_systolic_min', 'nipd_diastolic_min', 'nipd_systolic_max', 'nipd_diastolic_max'])",
   "id": "f04308eae5640bf7",
   "outputs": [],
   "execution_count": null
  },
  {
   "metadata": {},
   "cell_type": "code",
   "source": "merged_df.dropna(inplace=True)",
   "id": "b1bab170e4e8e4c",
   "outputs": [],
   "execution_count": null
  },
  {
   "metadata": {},
   "cell_type": "code",
   "source": "merged_df.drop(columns=['treatmentstring'], inplace=True)",
   "id": "3f9951fdfbcea141",
   "outputs": [],
   "execution_count": null
  },
  {
   "metadata": {},
   "cell_type": "code",
   "source": "merged_df.drop_duplicates(inplace=True)",
   "id": "7549866e798a567a",
   "outputs": [],
   "execution_count": null
  },
  {
   "metadata": {},
   "cell_type": "code",
   "source": "merged_df.to_csv('hf_merged2.csv', index=False)",
   "id": "786847753926100d",
   "outputs": [],
   "execution_count": null
  }
 ],
 "metadata": {
  "kernelspec": {
   "display_name": "Python 3",
   "language": "python",
   "name": "python3"
  },
  "language_info": {
   "codemirror_mode": {
    "name": "ipython",
    "version": 2
   },
   "file_extension": ".py",
   "mimetype": "text/x-python",
   "name": "python",
   "nbconvert_exporter": "python",
   "pygments_lexer": "ipython2",
   "version": "2.7.6"
  }
 },
 "nbformat": 4,
 "nbformat_minor": 5
}
