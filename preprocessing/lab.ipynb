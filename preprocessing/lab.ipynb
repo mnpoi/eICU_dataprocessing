{
 "cells": [
  {
   "metadata": {},
   "cell_type": "markdown",
   "source": "# Lab",
   "id": "1626dbd7b011c60e"
  },
  {
   "metadata": {
    "ExecuteTime": {
     "end_time": "2025-02-07T00:17:40.005044Z",
     "start_time": "2025-02-07T00:17:40.001958Z"
    }
   },
   "cell_type": "code",
   "source": [
    "import pandas as pd\n",
    "import numpy as np\n",
    "import matplotlib.pyplot as plt\n",
    "import seaborn as sns\n",
    "import os\n",
    "import random\n",
    "random.seed(1) \n",
    "np.random.seed(1)"
   ],
   "id": "829d620b532f5c19",
   "outputs": [],
   "execution_count": 1
  },
  {
   "metadata": {},
   "cell_type": "markdown",
   "source": "### Load Data",
   "id": "e8f28239c822dd99"
  },
  {
   "metadata": {
    "ExecuteTime": {
     "end_time": "2025-02-07T00:19:37.332890Z",
     "start_time": "2025-02-07T00:18:35.289822Z"
    }
   },
   "cell_type": "code",
   "source": [
    "file_path = r\"E:\\EICU\\eicu-collaborative-research-database-2.0\\lab.csv.gz\"\n",
    "lab_df = pd.read_csv(file_path, compression=\"gzip\", low_memory=False,)"
   ],
   "id": "79c75ec51cb7db04",
   "outputs": [],
   "execution_count": 2
  },
  {
   "metadata": {
    "ExecuteTime": {
     "end_time": "2025-02-07T00:20:10.713005Z",
     "start_time": "2025-02-07T00:20:10.688563Z"
    }
   },
   "cell_type": "code",
   "source": "lab_df.head()",
   "id": "9c827e6039b5d901",
   "outputs": [
    {
     "data": {
      "text/plain": [
       "      labid  patientunitstayid  labresultoffset  labtypeid     labname  \\\n",
       "0  52307161             141168             2026          3  fibrinogen   \n",
       "1  50363251             141168             1133          3    PT - INR   \n",
       "2  49149139             141168             2026          1   magnesium   \n",
       "3  50363250             141168             1133          3          PT   \n",
       "4  66695374             141168             2141          7          pH   \n",
       "\n",
       "   labresult labresulttext labmeasurenamesystem labmeasurenameinterface  \\\n",
       "0      177.0           177                mg/dL                   mg/dL   \n",
       "1        2.5           2.5                ratio                     NaN   \n",
       "2        2.0           2.0                mg/dL                   mg/dL   \n",
       "3       26.6          26.6                  sec                     sec   \n",
       "4        7.2          7.20                  NaN                   Units   \n",
       "\n",
       "   labresultrevisedoffset  \n",
       "0                    2219  \n",
       "1                    1208  \n",
       "2                    2090  \n",
       "3                    1208  \n",
       "4                    2155  "
      ],
      "text/html": [
       "<div>\n",
       "<style scoped>\n",
       "    .dataframe tbody tr th:only-of-type {\n",
       "        vertical-align: middle;\n",
       "    }\n",
       "\n",
       "    .dataframe tbody tr th {\n",
       "        vertical-align: top;\n",
       "    }\n",
       "\n",
       "    .dataframe thead th {\n",
       "        text-align: right;\n",
       "    }\n",
       "</style>\n",
       "<table border=\"1\" class=\"dataframe\">\n",
       "  <thead>\n",
       "    <tr style=\"text-align: right;\">\n",
       "      <th></th>\n",
       "      <th>labid</th>\n",
       "      <th>patientunitstayid</th>\n",
       "      <th>labresultoffset</th>\n",
       "      <th>labtypeid</th>\n",
       "      <th>labname</th>\n",
       "      <th>labresult</th>\n",
       "      <th>labresulttext</th>\n",
       "      <th>labmeasurenamesystem</th>\n",
       "      <th>labmeasurenameinterface</th>\n",
       "      <th>labresultrevisedoffset</th>\n",
       "    </tr>\n",
       "  </thead>\n",
       "  <tbody>\n",
       "    <tr>\n",
       "      <th>0</th>\n",
       "      <td>52307161</td>\n",
       "      <td>141168</td>\n",
       "      <td>2026</td>\n",
       "      <td>3</td>\n",
       "      <td>fibrinogen</td>\n",
       "      <td>177.0</td>\n",
       "      <td>177</td>\n",
       "      <td>mg/dL</td>\n",
       "      <td>mg/dL</td>\n",
       "      <td>2219</td>\n",
       "    </tr>\n",
       "    <tr>\n",
       "      <th>1</th>\n",
       "      <td>50363251</td>\n",
       "      <td>141168</td>\n",
       "      <td>1133</td>\n",
       "      <td>3</td>\n",
       "      <td>PT - INR</td>\n",
       "      <td>2.5</td>\n",
       "      <td>2.5</td>\n",
       "      <td>ratio</td>\n",
       "      <td>NaN</td>\n",
       "      <td>1208</td>\n",
       "    </tr>\n",
       "    <tr>\n",
       "      <th>2</th>\n",
       "      <td>49149139</td>\n",
       "      <td>141168</td>\n",
       "      <td>2026</td>\n",
       "      <td>1</td>\n",
       "      <td>magnesium</td>\n",
       "      <td>2.0</td>\n",
       "      <td>2.0</td>\n",
       "      <td>mg/dL</td>\n",
       "      <td>mg/dL</td>\n",
       "      <td>2090</td>\n",
       "    </tr>\n",
       "    <tr>\n",
       "      <th>3</th>\n",
       "      <td>50363250</td>\n",
       "      <td>141168</td>\n",
       "      <td>1133</td>\n",
       "      <td>3</td>\n",
       "      <td>PT</td>\n",
       "      <td>26.6</td>\n",
       "      <td>26.6</td>\n",
       "      <td>sec</td>\n",
       "      <td>sec</td>\n",
       "      <td>1208</td>\n",
       "    </tr>\n",
       "    <tr>\n",
       "      <th>4</th>\n",
       "      <td>66695374</td>\n",
       "      <td>141168</td>\n",
       "      <td>2141</td>\n",
       "      <td>7</td>\n",
       "      <td>pH</td>\n",
       "      <td>7.2</td>\n",
       "      <td>7.20</td>\n",
       "      <td>NaN</td>\n",
       "      <td>Units</td>\n",
       "      <td>2155</td>\n",
       "    </tr>\n",
       "  </tbody>\n",
       "</table>\n",
       "</div>"
      ]
     },
     "execution_count": 3,
     "metadata": {},
     "output_type": "execute_result"
    }
   ],
   "execution_count": 3
  },
  {
   "metadata": {
    "ExecuteTime": {
     "end_time": "2025-02-07T00:20:18.404903Z",
     "start_time": "2025-02-07T00:20:18.400666Z"
    }
   },
   "cell_type": "code",
   "source": "len(lab_df)",
   "id": "76cf5cd628b195a3",
   "outputs": [
    {
     "data": {
      "text/plain": [
       "39132531"
      ]
     },
     "execution_count": 4,
     "metadata": {},
     "output_type": "execute_result"
    }
   ],
   "execution_count": 4
  },
  {
   "metadata": {},
   "cell_type": "code",
   "outputs": [],
   "execution_count": null,
   "source": "",
   "id": "6576112b19f1cad2"
  }
 ],
 "metadata": {
  "kernelspec": {
   "display_name": "Python 3",
   "language": "python",
   "name": "python3"
  },
  "language_info": {
   "codemirror_mode": {
    "name": "ipython",
    "version": 2
   },
   "file_extension": ".py",
   "mimetype": "text/x-python",
   "name": "python",
   "nbconvert_exporter": "python",
   "pygments_lexer": "ipython2",
   "version": "2.7.6"
  }
 },
 "nbformat": 4,
 "nbformat_minor": 5
}
