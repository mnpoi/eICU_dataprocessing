{
 "cells": [
  {
   "metadata": {},
   "cell_type": "markdown",
   "source": "# Treatment",
   "id": "d8aa4b09a0887d27"
  },
  {
   "metadata": {
    "ExecuteTime": {
     "end_time": "2025-02-14T03:42:50.787568Z",
     "start_time": "2025-02-14T03:42:50.783112Z"
    }
   },
   "cell_type": "code",
   "source": [
    "import pandas as pd\n",
    "import numpy as np\n",
    "import matplotlib.pyplot as plt\n",
    "import seaborn as sns\n",
    "import os\n",
    "import random\n",
    "random.seed(1) \n",
    "np.random.seed(1)"
   ],
   "id": "initial_id",
   "outputs": [],
   "execution_count": 1
  },
  {
   "metadata": {},
   "cell_type": "markdown",
   "source": "### Load data",
   "id": "6b520a8f30da1877"
  },
  {
   "metadata": {
    "ExecuteTime": {
     "end_time": "2025-02-14T03:43:25.714380Z",
     "start_time": "2025-02-14T03:43:23.499125Z"
    }
   },
   "cell_type": "code",
   "source": [
    "file_path = r\"E:\\EICU\\eicu-collaborative-research-database-2.0\\treatment.csv.gz\"\n",
    "treatment_df = pd.read_csv(file_path, compression=\"gzip\", low_memory=False, usecols=[\"patientunitstayid\", \"treatmentstring\"])"
   ],
   "id": "298b923f5c7dd9af",
   "outputs": [],
   "execution_count": 2
  },
  {
   "metadata": {
    "ExecuteTime": {
     "end_time": "2025-02-14T03:43:41.189083Z",
     "start_time": "2025-02-14T03:43:41.180769Z"
    }
   },
   "cell_type": "code",
   "source": "treatment_df.head()",
   "id": "5f2e935a1c28c481",
   "outputs": [
    {
     "data": {
      "text/plain": [
       "   patientunitstayid                                    treatmentstring\n",
       "0             242040  cardiovascular|hypertension|angiotensin II rec...\n",
       "1             242040  cardiovascular|myocardial ischemia / infarctio...\n",
       "2             242040  infectious diseases|medications|therapeutic an...\n",
       "3             242040  cardiovascular|non-operative procedures|diagno...\n",
       "4             242040  infectious diseases|medications|therapeutic an..."
      ],
      "text/html": [
       "<div>\n",
       "<style scoped>\n",
       "    .dataframe tbody tr th:only-of-type {\n",
       "        vertical-align: middle;\n",
       "    }\n",
       "\n",
       "    .dataframe tbody tr th {\n",
       "        vertical-align: top;\n",
       "    }\n",
       "\n",
       "    .dataframe thead th {\n",
       "        text-align: right;\n",
       "    }\n",
       "</style>\n",
       "<table border=\"1\" class=\"dataframe\">\n",
       "  <thead>\n",
       "    <tr style=\"text-align: right;\">\n",
       "      <th></th>\n",
       "      <th>patientunitstayid</th>\n",
       "      <th>treatmentstring</th>\n",
       "    </tr>\n",
       "  </thead>\n",
       "  <tbody>\n",
       "    <tr>\n",
       "      <th>0</th>\n",
       "      <td>242040</td>\n",
       "      <td>cardiovascular|hypertension|angiotensin II rec...</td>\n",
       "    </tr>\n",
       "    <tr>\n",
       "      <th>1</th>\n",
       "      <td>242040</td>\n",
       "      <td>cardiovascular|myocardial ischemia / infarctio...</td>\n",
       "    </tr>\n",
       "    <tr>\n",
       "      <th>2</th>\n",
       "      <td>242040</td>\n",
       "      <td>infectious diseases|medications|therapeutic an...</td>\n",
       "    </tr>\n",
       "    <tr>\n",
       "      <th>3</th>\n",
       "      <td>242040</td>\n",
       "      <td>cardiovascular|non-operative procedures|diagno...</td>\n",
       "    </tr>\n",
       "    <tr>\n",
       "      <th>4</th>\n",
       "      <td>242040</td>\n",
       "      <td>infectious diseases|medications|therapeutic an...</td>\n",
       "    </tr>\n",
       "  </tbody>\n",
       "</table>\n",
       "</div>"
      ]
     },
     "execution_count": 3,
     "metadata": {},
     "output_type": "execute_result"
    }
   ],
   "execution_count": 3
  },
  {
   "metadata": {
    "ExecuteTime": {
     "end_time": "2025-02-14T03:44:02.180124Z",
     "start_time": "2025-02-14T03:44:02.106432Z"
    }
   },
   "cell_type": "code",
   "source": "treatment_df.isnull().sum()",
   "id": "553574e52dae90ac",
   "outputs": [
    {
     "data": {
      "text/plain": [
       "patientunitstayid    0\n",
       "treatmentstring      0\n",
       "dtype: int64"
      ]
     },
     "execution_count": 5,
     "metadata": {},
     "output_type": "execute_result"
    }
   ],
   "execution_count": 5
  },
  {
   "metadata": {
    "ExecuteTime": {
     "end_time": "2025-02-14T03:46:30.346326Z",
     "start_time": "2025-02-14T03:46:26.357419Z"
    }
   },
   "cell_type": "code",
   "source": "treatment_df.treatmentstring.map(lambda x: x.split('|')).head()",
   "id": "d7e16fd413b7261e",
   "outputs": [
    {
     "data": {
      "text/plain": [
       "0    [cardiovascular, hypertension, angiotensin ii ...\n",
       "1    [cardiovascular, myocardial ischemia / infarct...\n",
       "2    [infectious diseases, medications, therapeutic...\n",
       "3    [cardiovascular, non-operative procedures, dia...\n",
       "4    [infectious diseases, medications, therapeutic...\n",
       "Name: treatmentstring, dtype: object"
      ]
     },
     "execution_count": 10,
     "metadata": {},
     "output_type": "execute_result"
    }
   ],
   "execution_count": 10
  },
  {
   "metadata": {
    "ExecuteTime": {
     "end_time": "2025-02-14T03:48:46.617473Z",
     "start_time": "2025-02-14T03:48:41.189141Z"
    }
   },
   "cell_type": "code",
   "source": [
    "treatment_df[\"treatmentstring\"] = treatment_df[\"treatmentstring\"].astype(str).str.lower()\n",
    "\n",
    "# Create binary column for Vasopressor use\n",
    "treatment_df[\"has_Vasopressor\"] = treatment_df[\"treatmentstring\"].str.contains(r\"vasopress|vasopressor|vasopressors\", na=False).astype(int)\n",
    "\n"
   ],
   "id": "1f0dc84a3e26b18f",
   "outputs": [],
   "execution_count": 13
  },
  {
   "metadata": {
    "ExecuteTime": {
     "end_time": "2025-02-14T03:44:45.518091Z",
     "start_time": "2025-02-14T03:44:41.378386Z"
    }
   },
   "cell_type": "code",
   "source": "treatment_df.to_csv(\"processed_treatment.csv\", index=False)",
   "id": "91f61d1e1728ffd6",
   "outputs": [],
   "execution_count": 7
  },
  {
   "metadata": {
    "ExecuteTime": {
     "end_time": "2025-02-14T03:48:53.873907Z",
     "start_time": "2025-02-14T03:48:53.855778Z"
    }
   },
   "cell_type": "code",
   "source": "treatment_df[\"has_Vasopressor\"].value_counts()",
   "id": "d66e22def34cfffd",
   "outputs": [
    {
     "data": {
      "text/plain": [
       "has_Vasopressor\n",
       "0    3596613\n",
       "1      92132\n",
       "Name: count, dtype: int64"
      ]
     },
     "execution_count": 14,
     "metadata": {},
     "output_type": "execute_result"
    }
   ],
   "execution_count": 14
  },
  {
   "metadata": {
    "ExecuteTime": {
     "end_time": "2025-02-14T03:45:09.531543Z",
     "start_time": "2025-02-14T03:45:09.525563Z"
    }
   },
   "cell_type": "code",
   "source": "treatment_df.head()",
   "id": "a436c1731b24e4d2",
   "outputs": [
    {
     "data": {
      "text/plain": [
       "   patientunitstayid                                    treatmentstring  \\\n",
       "0             242040  cardiovascular|hypertension|angiotensin ii rec...   \n",
       "1             242040  cardiovascular|myocardial ischemia / infarctio...   \n",
       "2             242040  infectious diseases|medications|therapeutic an...   \n",
       "3             242040  cardiovascular|non-operative procedures|diagno...   \n",
       "4             242040  infectious diseases|medications|therapeutic an...   \n",
       "\n",
       "   has_Vasopressor  \n",
       "0                0  \n",
       "1                0  \n",
       "2                0  \n",
       "3                0  \n",
       "4                0  "
      ],
      "text/html": [
       "<div>\n",
       "<style scoped>\n",
       "    .dataframe tbody tr th:only-of-type {\n",
       "        vertical-align: middle;\n",
       "    }\n",
       "\n",
       "    .dataframe tbody tr th {\n",
       "        vertical-align: top;\n",
       "    }\n",
       "\n",
       "    .dataframe thead th {\n",
       "        text-align: right;\n",
       "    }\n",
       "</style>\n",
       "<table border=\"1\" class=\"dataframe\">\n",
       "  <thead>\n",
       "    <tr style=\"text-align: right;\">\n",
       "      <th></th>\n",
       "      <th>patientunitstayid</th>\n",
       "      <th>treatmentstring</th>\n",
       "      <th>has_Vasopressor</th>\n",
       "    </tr>\n",
       "  </thead>\n",
       "  <tbody>\n",
       "    <tr>\n",
       "      <th>0</th>\n",
       "      <td>242040</td>\n",
       "      <td>cardiovascular|hypertension|angiotensin ii rec...</td>\n",
       "      <td>0</td>\n",
       "    </tr>\n",
       "    <tr>\n",
       "      <th>1</th>\n",
       "      <td>242040</td>\n",
       "      <td>cardiovascular|myocardial ischemia / infarctio...</td>\n",
       "      <td>0</td>\n",
       "    </tr>\n",
       "    <tr>\n",
       "      <th>2</th>\n",
       "      <td>242040</td>\n",
       "      <td>infectious diseases|medications|therapeutic an...</td>\n",
       "      <td>0</td>\n",
       "    </tr>\n",
       "    <tr>\n",
       "      <th>3</th>\n",
       "      <td>242040</td>\n",
       "      <td>cardiovascular|non-operative procedures|diagno...</td>\n",
       "      <td>0</td>\n",
       "    </tr>\n",
       "    <tr>\n",
       "      <th>4</th>\n",
       "      <td>242040</td>\n",
       "      <td>infectious diseases|medications|therapeutic an...</td>\n",
       "      <td>0</td>\n",
       "    </tr>\n",
       "  </tbody>\n",
       "</table>\n",
       "</div>"
      ]
     },
     "execution_count": 9,
     "metadata": {},
     "output_type": "execute_result"
    }
   ],
   "execution_count": 9
  },
  {
   "metadata": {},
   "cell_type": "code",
   "outputs": [],
   "execution_count": null,
   "source": "",
   "id": "cbf2ece743bbf654"
  }
 ],
 "metadata": {
  "kernelspec": {
   "display_name": "Python 3",
   "language": "python",
   "name": "python3"
  },
  "language_info": {
   "codemirror_mode": {
    "name": "ipython",
    "version": 2
   },
   "file_extension": ".py",
   "mimetype": "text/x-python",
   "name": "python",
   "nbconvert_exporter": "python",
   "pygments_lexer": "ipython2",
   "version": "2.7.6"
  }
 },
 "nbformat": 4,
 "nbformat_minor": 5
}
