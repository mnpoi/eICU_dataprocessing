{
 "cells": [
  {
   "metadata": {},
   "cell_type": "markdown",
   "source": "# admissiondx",
   "id": "56331e7ff25cae13"
  },
  {
   "metadata": {},
   "cell_type": "markdown",
   "source": "## ",
   "id": "b22d2e371cb95929"
  },
  {
   "metadata": {
    "ExecuteTime": {
     "end_time": "2025-02-06T19:47:16.611437Z",
     "start_time": "2025-02-06T19:47:16.606370Z"
    }
   },
   "cell_type": "code",
   "source": [
    "import pandas as pd\n",
    "import numpy as np\n",
    "import matplotlib.pyplot as plt\n",
    "import seaborn as sns\n",
    "import os\n",
    "import random\n",
    "random.seed(1) \n",
    "np.random.seed(1)"
   ],
   "id": "c9a91122362276ca",
   "outputs": [],
   "execution_count": 1
  },
  {
   "metadata": {},
   "cell_type": "markdown",
   "source": "### Load data",
   "id": "33c391dac8be0cd5"
  },
  {
   "metadata": {
    "ExecuteTime": {
     "end_time": "2025-02-06T19:48:20.741815Z",
     "start_time": "2025-02-06T19:48:20.033229Z"
    }
   },
   "cell_type": "code",
   "source": [
    "file_path = r\"E:\\EICU\\eicu-collaborative-research-database-2.0\\admissionDx.csv.gz\"\n",
    "df = pd.read_csv(file_path, compression=\"gzip\", low_memory=False)"
   ],
   "id": "d4df4815d008000d",
   "outputs": [],
   "execution_count": 2
  },
  {
   "metadata": {
    "ExecuteTime": {
     "end_time": "2025-02-06T19:48:24.225462Z",
     "start_time": "2025-02-06T19:48:24.213430Z"
    }
   },
   "cell_type": "code",
   "source": "df.head()",
   "id": "25083e8f57701c2d",
   "outputs": [
    {
     "data": {
      "text/plain": [
       "   admissiondxid  patientunitstayid  admitdxenteredoffset  \\\n",
       "0        8023778            2900217                    62   \n",
       "1        8023777            2900217                    62   \n",
       "2        8023779            2900217                    62   \n",
       "3        7929318            2900240                    53   \n",
       "4        7929317            2900240                    53   \n",
       "\n",
       "                                         admitdxpath  \\\n",
       "0  admission diagnosis|Operative Organ Systems|Or...   \n",
       "1  admission diagnosis|Was the patient admitted f...   \n",
       "2  admission diagnosis|All Diagnosis|Operative|Di...   \n",
       "3  admission diagnosis|Non-operative Organ System...   \n",
       "4  admission diagnosis|Was the patient admitted f...   \n",
       "\n",
       "                           admitdxname                          admitdxtext  \n",
       "0                       Cardiovascular                       Cardiovascular  \n",
       "1                                  Yes                                  Yes  \n",
       "2  Aortic and Mitral valve replacement  Aortic and Mitral valve replacement  \n",
       "3                     Gastrointestinal                     Gastrointestinal  \n",
       "4                                   No                                   No  "
      ],
      "text/html": [
       "<div>\n",
       "<style scoped>\n",
       "    .dataframe tbody tr th:only-of-type {\n",
       "        vertical-align: middle;\n",
       "    }\n",
       "\n",
       "    .dataframe tbody tr th {\n",
       "        vertical-align: top;\n",
       "    }\n",
       "\n",
       "    .dataframe thead th {\n",
       "        text-align: right;\n",
       "    }\n",
       "</style>\n",
       "<table border=\"1\" class=\"dataframe\">\n",
       "  <thead>\n",
       "    <tr style=\"text-align: right;\">\n",
       "      <th></th>\n",
       "      <th>admissiondxid</th>\n",
       "      <th>patientunitstayid</th>\n",
       "      <th>admitdxenteredoffset</th>\n",
       "      <th>admitdxpath</th>\n",
       "      <th>admitdxname</th>\n",
       "      <th>admitdxtext</th>\n",
       "    </tr>\n",
       "  </thead>\n",
       "  <tbody>\n",
       "    <tr>\n",
       "      <th>0</th>\n",
       "      <td>8023778</td>\n",
       "      <td>2900217</td>\n",
       "      <td>62</td>\n",
       "      <td>admission diagnosis|Operative Organ Systems|Or...</td>\n",
       "      <td>Cardiovascular</td>\n",
       "      <td>Cardiovascular</td>\n",
       "    </tr>\n",
       "    <tr>\n",
       "      <th>1</th>\n",
       "      <td>8023777</td>\n",
       "      <td>2900217</td>\n",
       "      <td>62</td>\n",
       "      <td>admission diagnosis|Was the patient admitted f...</td>\n",
       "      <td>Yes</td>\n",
       "      <td>Yes</td>\n",
       "    </tr>\n",
       "    <tr>\n",
       "      <th>2</th>\n",
       "      <td>8023779</td>\n",
       "      <td>2900217</td>\n",
       "      <td>62</td>\n",
       "      <td>admission diagnosis|All Diagnosis|Operative|Di...</td>\n",
       "      <td>Aortic and Mitral valve replacement</td>\n",
       "      <td>Aortic and Mitral valve replacement</td>\n",
       "    </tr>\n",
       "    <tr>\n",
       "      <th>3</th>\n",
       "      <td>7929318</td>\n",
       "      <td>2900240</td>\n",
       "      <td>53</td>\n",
       "      <td>admission diagnosis|Non-operative Organ System...</td>\n",
       "      <td>Gastrointestinal</td>\n",
       "      <td>Gastrointestinal</td>\n",
       "    </tr>\n",
       "    <tr>\n",
       "      <th>4</th>\n",
       "      <td>7929317</td>\n",
       "      <td>2900240</td>\n",
       "      <td>53</td>\n",
       "      <td>admission diagnosis|Was the patient admitted f...</td>\n",
       "      <td>No</td>\n",
       "      <td>No</td>\n",
       "    </tr>\n",
       "  </tbody>\n",
       "</table>\n",
       "</div>"
      ]
     },
     "execution_count": 3,
     "metadata": {},
     "output_type": "execute_result"
    }
   ],
   "execution_count": 3
  },
  {
   "metadata": {
    "ExecuteTime": {
     "end_time": "2025-02-06T19:48:33.960075Z",
     "start_time": "2025-02-06T19:48:33.917583Z"
    }
   },
   "cell_type": "code",
   "source": "df.info()",
   "id": "d9642e0fc79d7148",
   "outputs": [
    {
     "name": "stdout",
     "output_type": "stream",
     "text": [
      "<class 'pandas.core.frame.DataFrame'>\n",
      "RangeIndex: 626858 entries, 0 to 626857\n",
      "Data columns (total 6 columns):\n",
      " #   Column                Non-Null Count   Dtype \n",
      "---  ------                --------------   ----- \n",
      " 0   admissiondxid         626858 non-null  int64 \n",
      " 1   patientunitstayid     626858 non-null  int64 \n",
      " 2   admitdxenteredoffset  626858 non-null  int64 \n",
      " 3   admitdxpath           626858 non-null  object\n",
      " 4   admitdxname           626858 non-null  object\n",
      " 5   admitdxtext           626858 non-null  object\n",
      "dtypes: int64(3), object(3)\n",
      "memory usage: 28.7+ MB\n"
     ]
    }
   ],
   "execution_count": 4
  },
  {
   "metadata": {
    "ExecuteTime": {
     "end_time": "2025-02-06T19:55:28.194360Z",
     "start_time": "2025-02-06T19:55:28.059615Z"
    }
   },
   "cell_type": "code",
   "source": [
    "print(\"\\nUnique Diagnosis Categories:\")\n",
    "print(df[\"admitdxpath\"].nunique())  # number of unique diagnosis categories\n",
    "print(\"\\nUnique Diagnosis Names:\")\n",
    "print(df[\"admitdxname\"].nunique())  # number of unique diagnosis names\n"
   ],
   "id": "c6f88cee66ba9f63",
   "outputs": [
    {
     "name": "stdout",
     "output_type": "stream",
     "text": [
      "\n",
      "Unique Diagnosis Categories:\n",
      "487\n",
      "\n",
      "Unique Diagnosis Names:\n",
      "431\n",
      "\n",
      "Top 10 Most Common Admission Diagnoses:\n",
      "admitdxname\n",
      "No                                   163534\n",
      "Cardiovascular                        79560\n",
      "Yes                                   77703\n",
      "Neurologic                            31113\n",
      "Respiratory                           25813\n",
      "Gastrointestinal                      17726\n",
      "Sepsis, pulmonary                      8862\n",
      "Metabolic/Endocrine                    8025\n",
      "Infarction, acute myocardial (MI)      7228\n",
      "Trauma                                 7136\n",
      "Name: count, dtype: int64\n"
     ]
    }
   ],
   "execution_count": 9
  },
  {
   "metadata": {
    "ExecuteTime": {
     "end_time": "2025-02-06T19:59:25.799606Z",
     "start_time": "2025-02-06T19:59:25.785592Z"
    }
   },
   "cell_type": "code",
   "source": [
    "print(\"\\nStatistics of Admission Diagnosis Entry Time (in minutes):\")\n",
    "print(df[\"admitdxenteredoffset\"].describe())"
   ],
   "id": "31bfc242387d8429",
   "outputs": [
    {
     "name": "stdout",
     "output_type": "stream",
     "text": [
      "\n",
      "Statistics of Admission Diagnosis Entry Time (in minutes):\n",
      "count    626858.000000\n",
      "mean        113.279197\n",
      "std        1205.040850\n",
      "min      -49763.000000\n",
      "25%          12.000000\n",
      "50%          36.000000\n",
      "75%          96.000000\n",
      "max      371774.000000\n",
      "Name: admitdxenteredoffset, dtype: float64\n"
     ]
    }
   ],
   "execution_count": 12
  },
  {
   "metadata": {},
   "cell_type": "code",
   "outputs": [],
   "execution_count": null,
   "source": "df_patient = pd.read_csv(r\"E:\\EICU\\eicu-collaborative-research-database-2.0\\apachePatientResult.csv.gz\", compression=\"gzip\", low_memory=False, usecols=[\"patientUnitStayID\", \"actualHospitalMortality\"])",
   "id": "277e19bbc21f13b6"
  },
  {
   "metadata": {},
   "cell_type": "code",
   "outputs": [],
   "execution_count": null,
   "source": "",
   "id": "bae86ca07c46fee4"
  }
 ],
 "metadata": {
  "kernelspec": {
   "display_name": "Python 3",
   "language": "python",
   "name": "python3"
  },
  "language_info": {
   "codemirror_mode": {
    "name": "ipython",
    "version": 2
   },
   "file_extension": ".py",
   "mimetype": "text/x-python",
   "name": "python",
   "nbconvert_exporter": "python",
   "pygments_lexer": "ipython2",
   "version": "2.7.6"
  }
 },
 "nbformat": 4,
 "nbformat_minor": 5
}
