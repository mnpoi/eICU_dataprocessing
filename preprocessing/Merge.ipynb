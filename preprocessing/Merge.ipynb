{
 "cells": [
  {
   "metadata": {
    "ExecuteTime": {
     "end_time": "2025-02-14T04:11:31.531590Z",
     "start_time": "2025-02-14T04:11:31.527328Z"
    }
   },
   "cell_type": "code",
   "source": "import pandas as pd",
   "id": "abfe684dd3cf3456",
   "outputs": [],
   "execution_count": 14
  },
  {
   "metadata": {
    "ExecuteTime": {
     "end_time": "2025-02-14T04:11:34.833399Z",
     "start_time": "2025-02-14T04:11:32.025192Z"
    }
   },
   "cell_type": "code",
   "source": [
    "patient_df = pd.read_csv(\"patient_cleaned.csv\")\n",
    "apache_df = pd.read_csv(\"processed_apacheApsVar.csv\")\n",
    "diagnosis_df = pd.read_csv(\"processed_diagnosis.csv\")\n",
    "lab_df = pd.read_csv(\"processed_lab.csv\")\n",
    "treatment_df = pd.read_csv(\"processed_treatment.csv\")\n"
   ],
   "id": "initial_id",
   "outputs": [],
   "execution_count": 15
  },
  {
   "metadata": {
    "ExecuteTime": {
     "end_time": "2025-02-14T04:11:35.720971Z",
     "start_time": "2025-02-14T04:11:35.602833Z"
    }
   },
   "cell_type": "code",
   "source": [
    "# Drop duplicate rows based on patientunitstayid\n",
    "patient_df = patient_df.drop_duplicates(subset=\"patientunitstayid\")\n",
    "apache_df = apache_df.drop_duplicates(subset=\"patientunitstayid\")\n",
    "diagnosis_df = diagnosis_df.drop_duplicates(subset=\"patientunitstayid\")\n",
    "lab_df = lab_df.drop_duplicates(subset=\"patientunitstayid\")\n",
    "treatment_df = treatment_df.drop_duplicates(subset=\"patientunitstayid\")"
   ],
   "id": "fc81e24af07d2614",
   "outputs": [],
   "execution_count": 16
  },
  {
   "metadata": {
    "ExecuteTime": {
     "end_time": "2025-02-14T04:11:37.394958Z",
     "start_time": "2025-02-14T04:11:37.255497Z"
    }
   },
   "cell_type": "code",
   "source": [
    "# Merge datasets one by one on patientunitstayid\n",
    "merged_df = patient_df.merge(apache_df, on=\"patientunitstayid\", how=\"left\") \\\n",
    "                      .merge(diagnosis_df, on=\"patientunitstayid\", how=\"left\") \\\n",
    "                      .merge(lab_df, on=\"patientunitstayid\", how=\"left\") \\\n",
    "                      .merge(treatment_df, on=\"patientunitstayid\", how=\"left\")"
   ],
   "id": "86f62f0887c9097e",
   "outputs": [],
   "execution_count": 17
  },
  {
   "metadata": {
    "ExecuteTime": {
     "end_time": "2025-02-14T04:11:39.799063Z",
     "start_time": "2025-02-14T04:11:39.786970Z"
    }
   },
   "cell_type": "code",
   "source": "merged_df.head()",
   "id": "fae0996553aa4448",
   "outputs": [
    {
     "data": {
      "text/plain": [
       "   Unnamed: 0  patientunitstayid  gender  age  ethnicity  \\\n",
       "0           0             141168  Female   70  Caucasian   \n",
       "1           3             141194    Male   68  Caucasian   \n",
       "2           5             141197    Male   71  Caucasian   \n",
       "3           6             141203  Female   77  Caucasian   \n",
       "4           7             141208  Female   25  Caucasian   \n",
       "\n",
       "                                   apacheadmissiondx      unittype  \\\n",
       "0      Rhythm disturbance (atrial, supraventricular)  Med-Surg ICU   \n",
       "1              Sepsis, renal/UTI (including bladder)         CTICU   \n",
       "2                                  Sepsis, pulmonary  Med-Surg ICU   \n",
       "3       Arrest, respiratory (without cardiac arrest)  Med-Surg ICU   \n",
       "4  Overdose, sedatives, hypnotics, antipsychotics...  Med-Surg ICU   \n",
       "\n",
       "  unitadmittime24       unitadmitsource unitstaytype  ...   Hgb  WBC x 1000  \\\n",
       "0        15:54:00          Direct Admit        admit  ...  11.4        19.8   \n",
       "1        07:18:00                 Floor        admit  ...   8.4         4.4   \n",
       "2        20:46:00  Emergency Department        admit  ...  11.5        29.5   \n",
       "3        20:39:00                 Floor        admit  ...  11.3        12.7   \n",
       "4        11:24:00  Emergency Department        admit  ...  14.3        11.1   \n",
       "\n",
       "  albumin anion gap creatinine    pH  platelets x 1000  total bilirubin  \\\n",
       "0     3.0      25.0    260.780  7.20             213.0            88.92   \n",
       "1     2.3      11.0    154.700  7.31             139.0             6.84   \n",
       "2     2.9      15.0     82.212   NaN             589.0             5.13   \n",
       "3     1.4      15.0     49.504  7.45             557.0             6.84   \n",
       "4     4.7      16.0     70.720   NaN             440.0            11.97   \n",
       "\n",
       "   treatmentstring  has_Vasopressor  \n",
       "0              NaN              NaN  \n",
       "1              NaN              NaN  \n",
       "2              NaN              NaN  \n",
       "3              NaN              NaN  \n",
       "4              NaN              NaN  \n",
       "\n",
       "[5 rows x 35 columns]"
      ],
      "text/html": [
       "<div>\n",
       "<style scoped>\n",
       "    .dataframe tbody tr th:only-of-type {\n",
       "        vertical-align: middle;\n",
       "    }\n",
       "\n",
       "    .dataframe tbody tr th {\n",
       "        vertical-align: top;\n",
       "    }\n",
       "\n",
       "    .dataframe thead th {\n",
       "        text-align: right;\n",
       "    }\n",
       "</style>\n",
       "<table border=\"1\" class=\"dataframe\">\n",
       "  <thead>\n",
       "    <tr style=\"text-align: right;\">\n",
       "      <th></th>\n",
       "      <th>Unnamed: 0</th>\n",
       "      <th>patientunitstayid</th>\n",
       "      <th>gender</th>\n",
       "      <th>age</th>\n",
       "      <th>ethnicity</th>\n",
       "      <th>apacheadmissiondx</th>\n",
       "      <th>unittype</th>\n",
       "      <th>unitadmittime24</th>\n",
       "      <th>unitadmitsource</th>\n",
       "      <th>unitstaytype</th>\n",
       "      <th>...</th>\n",
       "      <th>Hgb</th>\n",
       "      <th>WBC x 1000</th>\n",
       "      <th>albumin</th>\n",
       "      <th>anion gap</th>\n",
       "      <th>creatinine</th>\n",
       "      <th>pH</th>\n",
       "      <th>platelets x 1000</th>\n",
       "      <th>total bilirubin</th>\n",
       "      <th>treatmentstring</th>\n",
       "      <th>has_Vasopressor</th>\n",
       "    </tr>\n",
       "  </thead>\n",
       "  <tbody>\n",
       "    <tr>\n",
       "      <th>0</th>\n",
       "      <td>0</td>\n",
       "      <td>141168</td>\n",
       "      <td>Female</td>\n",
       "      <td>70</td>\n",
       "      <td>Caucasian</td>\n",
       "      <td>Rhythm disturbance (atrial, supraventricular)</td>\n",
       "      <td>Med-Surg ICU</td>\n",
       "      <td>15:54:00</td>\n",
       "      <td>Direct Admit</td>\n",
       "      <td>admit</td>\n",
       "      <td>...</td>\n",
       "      <td>11.4</td>\n",
       "      <td>19.8</td>\n",
       "      <td>3.0</td>\n",
       "      <td>25.0</td>\n",
       "      <td>260.780</td>\n",
       "      <td>7.20</td>\n",
       "      <td>213.0</td>\n",
       "      <td>88.92</td>\n",
       "      <td>NaN</td>\n",
       "      <td>NaN</td>\n",
       "    </tr>\n",
       "    <tr>\n",
       "      <th>1</th>\n",
       "      <td>3</td>\n",
       "      <td>141194</td>\n",
       "      <td>Male</td>\n",
       "      <td>68</td>\n",
       "      <td>Caucasian</td>\n",
       "      <td>Sepsis, renal/UTI (including bladder)</td>\n",
       "      <td>CTICU</td>\n",
       "      <td>07:18:00</td>\n",
       "      <td>Floor</td>\n",
       "      <td>admit</td>\n",
       "      <td>...</td>\n",
       "      <td>8.4</td>\n",
       "      <td>4.4</td>\n",
       "      <td>2.3</td>\n",
       "      <td>11.0</td>\n",
       "      <td>154.700</td>\n",
       "      <td>7.31</td>\n",
       "      <td>139.0</td>\n",
       "      <td>6.84</td>\n",
       "      <td>NaN</td>\n",
       "      <td>NaN</td>\n",
       "    </tr>\n",
       "    <tr>\n",
       "      <th>2</th>\n",
       "      <td>5</td>\n",
       "      <td>141197</td>\n",
       "      <td>Male</td>\n",
       "      <td>71</td>\n",
       "      <td>Caucasian</td>\n",
       "      <td>Sepsis, pulmonary</td>\n",
       "      <td>Med-Surg ICU</td>\n",
       "      <td>20:46:00</td>\n",
       "      <td>Emergency Department</td>\n",
       "      <td>admit</td>\n",
       "      <td>...</td>\n",
       "      <td>11.5</td>\n",
       "      <td>29.5</td>\n",
       "      <td>2.9</td>\n",
       "      <td>15.0</td>\n",
       "      <td>82.212</td>\n",
       "      <td>NaN</td>\n",
       "      <td>589.0</td>\n",
       "      <td>5.13</td>\n",
       "      <td>NaN</td>\n",
       "      <td>NaN</td>\n",
       "    </tr>\n",
       "    <tr>\n",
       "      <th>3</th>\n",
       "      <td>6</td>\n",
       "      <td>141203</td>\n",
       "      <td>Female</td>\n",
       "      <td>77</td>\n",
       "      <td>Caucasian</td>\n",
       "      <td>Arrest, respiratory (without cardiac arrest)</td>\n",
       "      <td>Med-Surg ICU</td>\n",
       "      <td>20:39:00</td>\n",
       "      <td>Floor</td>\n",
       "      <td>admit</td>\n",
       "      <td>...</td>\n",
       "      <td>11.3</td>\n",
       "      <td>12.7</td>\n",
       "      <td>1.4</td>\n",
       "      <td>15.0</td>\n",
       "      <td>49.504</td>\n",
       "      <td>7.45</td>\n",
       "      <td>557.0</td>\n",
       "      <td>6.84</td>\n",
       "      <td>NaN</td>\n",
       "      <td>NaN</td>\n",
       "    </tr>\n",
       "    <tr>\n",
       "      <th>4</th>\n",
       "      <td>7</td>\n",
       "      <td>141208</td>\n",
       "      <td>Female</td>\n",
       "      <td>25</td>\n",
       "      <td>Caucasian</td>\n",
       "      <td>Overdose, sedatives, hypnotics, antipsychotics...</td>\n",
       "      <td>Med-Surg ICU</td>\n",
       "      <td>11:24:00</td>\n",
       "      <td>Emergency Department</td>\n",
       "      <td>admit</td>\n",
       "      <td>...</td>\n",
       "      <td>14.3</td>\n",
       "      <td>11.1</td>\n",
       "      <td>4.7</td>\n",
       "      <td>16.0</td>\n",
       "      <td>70.720</td>\n",
       "      <td>NaN</td>\n",
       "      <td>440.0</td>\n",
       "      <td>11.97</td>\n",
       "      <td>NaN</td>\n",
       "      <td>NaN</td>\n",
       "    </tr>\n",
       "  </tbody>\n",
       "</table>\n",
       "<p>5 rows × 35 columns</p>\n",
       "</div>"
      ]
     },
     "execution_count": 18,
     "metadata": {},
     "output_type": "execute_result"
    }
   ],
   "execution_count": 18
  },
  {
   "metadata": {
    "ExecuteTime": {
     "end_time": "2025-02-14T04:20:19.771741Z",
     "start_time": "2025-02-14T04:20:19.768943Z"
    }
   },
   "cell_type": "code",
   "source": "columns = [\"patientunitstayid\", \"gender\", \"age\",\"ethnicity\",\"admission_type\",\"unitdischargestatus\",\"unitdischargeoffset\",\"has_COPD\",\"has_Diabetes\",\"has_Metastasis\",\"GCS\",\"vent\",\"has_Vasopressor\",\"WBC x 1000\",\"Hgb\",\"platelets x 1000\",\"total bilirubin\",\"creatinine\",\"albumin\",\"pH\",\"anion gap\"]",
   "id": "f3b126872deec0ad",
   "outputs": [],
   "execution_count": 21
  },
  {
   "metadata": {
    "ExecuteTime": {
     "end_time": "2025-02-14T04:20:21.358776Z",
     "start_time": "2025-02-14T04:20:21.337972Z"
    }
   },
   "cell_type": "code",
   "source": "merged_df = merged_df[columns]",
   "id": "238691d631c3b76a",
   "outputs": [],
   "execution_count": 22
  },
  {
   "metadata": {
    "ExecuteTime": {
     "end_time": "2025-02-14T04:20:24.522792Z",
     "start_time": "2025-02-14T04:20:24.503066Z"
    }
   },
   "cell_type": "code",
   "source": [
    "# Check for missing values\n",
    "missing_values = merged_df.isnull().sum()"
   ],
   "id": "b4eca450ffaa1cd8",
   "outputs": [],
   "execution_count": 23
  },
  {
   "metadata": {
    "ExecuteTime": {
     "end_time": "2025-02-14T04:20:25.896055Z",
     "start_time": "2025-02-14T04:20:25.889993Z"
    }
   },
   "cell_type": "code",
   "source": "missing_values",
   "id": "d229c81b6478f3dc",
   "outputs": [
    {
     "data": {
      "text/plain": [
       "patientunitstayid          0\n",
       "gender                     0\n",
       "age                        0\n",
       "ethnicity                  0\n",
       "admission_type             0\n",
       "unitdischargestatus        0\n",
       "unitdischargeoffset        0\n",
       "has_COPD                6760\n",
       "has_Diabetes            6760\n",
       "has_Metastasis          6760\n",
       "GCS                    10174\n",
       "vent                   10174\n",
       "has_Vasopressor        26643\n",
       "WBC x 1000              5529\n",
       "Hgb                     5769\n",
       "platelets x 1000        8001\n",
       "total bilirubin        51276\n",
       "creatinine              4729\n",
       "albumin                43824\n",
       "pH                     95183\n",
       "anion gap              39456\n",
       "dtype: int64"
      ]
     },
     "execution_count": 24,
     "metadata": {},
     "output_type": "execute_result"
    }
   ],
   "execution_count": 24
  },
  {
   "metadata": {
    "ExecuteTime": {
     "end_time": "2025-02-14T04:20:36.873353Z",
     "start_time": "2025-02-14T04:20:36.857871Z"
    }
   },
   "cell_type": "code",
   "source": [
    "# Drop columns with more than 50% missing values\n",
    "columns_to_drop = missing_values[missing_values > 0.5 * len(merged_df)].index\n",
    "merged_df = merged_df.drop(columns=columns_to_drop)\n"
   ],
   "id": "cc4bd22d467d27ac",
   "outputs": [],
   "execution_count": 25
  },
  {
   "metadata": {
    "ExecuteTime": {
     "end_time": "2025-02-14T04:20:38.802231Z",
     "start_time": "2025-02-14T04:20:38.781725Z"
    }
   },
   "cell_type": "code",
   "source": [
    "# Check for missing values again\n",
    "missing_values = merged_df.isnull().sum()\n",
    "missing_values"
   ],
   "id": "fdf5210d3d9bf2cc",
   "outputs": [
    {
     "data": {
      "text/plain": [
       "patientunitstayid          0\n",
       "gender                     0\n",
       "age                        0\n",
       "ethnicity                  0\n",
       "admission_type             0\n",
       "unitdischargestatus        0\n",
       "unitdischargeoffset        0\n",
       "has_COPD                6760\n",
       "has_Diabetes            6760\n",
       "has_Metastasis          6760\n",
       "GCS                    10174\n",
       "vent                   10174\n",
       "has_Vasopressor        26643\n",
       "WBC x 1000              5529\n",
       "Hgb                     5769\n",
       "platelets x 1000        8001\n",
       "total bilirubin        51276\n",
       "creatinine              4729\n",
       "albumin                43824\n",
       "anion gap              39456\n",
       "dtype: int64"
      ]
     },
     "execution_count": 26,
     "metadata": {},
     "output_type": "execute_result"
    }
   ],
   "execution_count": 26
  },
  {
   "metadata": {
    "ExecuteTime": {
     "end_time": "2025-02-14T04:20:40.256289Z",
     "start_time": "2025-02-14T04:20:40.228386Z"
    }
   },
   "cell_type": "code",
   "source": [
    "# drop rows with missing values\n",
    "merged_df = merged_df.dropna()"
   ],
   "id": "f910a2c3112a30c5",
   "outputs": [],
   "execution_count": 27
  },
  {
   "metadata": {
    "ExecuteTime": {
     "end_time": "2025-02-14T04:20:40.962280Z",
     "start_time": "2025-02-14T04:20:40.949519Z"
    }
   },
   "cell_type": "code",
   "source": [
    "# Check for missing values again\n",
    "missing_values = merged_df.isnull().sum()\n",
    "missing_values"
   ],
   "id": "72492d0e084192d0",
   "outputs": [
    {
     "data": {
      "text/plain": [
       "patientunitstayid      0\n",
       "gender                 0\n",
       "age                    0\n",
       "ethnicity              0\n",
       "admission_type         0\n",
       "unitdischargestatus    0\n",
       "unitdischargeoffset    0\n",
       "has_COPD               0\n",
       "has_Diabetes           0\n",
       "has_Metastasis         0\n",
       "GCS                    0\n",
       "vent                   0\n",
       "has_Vasopressor        0\n",
       "WBC x 1000             0\n",
       "Hgb                    0\n",
       "platelets x 1000       0\n",
       "total bilirubin        0\n",
       "creatinine             0\n",
       "albumin                0\n",
       "anion gap              0\n",
       "dtype: int64"
      ]
     },
     "execution_count": 28,
     "metadata": {},
     "output_type": "execute_result"
    }
   ],
   "execution_count": 28
  },
  {
   "metadata": {
    "ExecuteTime": {
     "end_time": "2025-02-14T04:20:42.287317Z",
     "start_time": "2025-02-14T04:20:42.283334Z"
    }
   },
   "cell_type": "code",
   "source": "len(merged_df)",
   "id": "5b8c530695483350",
   "outputs": [
    {
     "data": {
      "text/plain": [
       "79461"
      ]
     },
     "execution_count": 29,
     "metadata": {},
     "output_type": "execute_result"
    }
   ],
   "execution_count": 29
  },
  {
   "metadata": {
    "ExecuteTime": {
     "end_time": "2025-02-14T04:51:04.793833Z",
     "start_time": "2025-02-14T04:51:04.269882Z"
    }
   },
   "cell_type": "code",
   "source": [
    "# Save the final merged dataset\n",
    "merged_df.to_csv(\"final_merged_dataset.csv\", index=False)\n"
   ],
   "id": "c01400efde88896b",
   "outputs": [],
   "execution_count": 30
  },
  {
   "metadata": {
    "ExecuteTime": {
     "end_time": "2025-02-14T04:52:03.449412Z",
     "start_time": "2025-02-14T04:52:03.439571Z"
    }
   },
   "cell_type": "code",
   "source": "len(merged_df.patientunitstayid.unique())",
   "id": "f1ffb14796e3c9d3",
   "outputs": [
    {
     "data": {
      "text/plain": [
       "79461"
      ]
     },
     "execution_count": 31,
     "metadata": {},
     "output_type": "execute_result"
    }
   ],
   "execution_count": 31
  },
  {
   "metadata": {},
   "cell_type": "code",
   "outputs": [],
   "execution_count": null,
   "source": "",
   "id": "6f6cae2e8aa76d67"
  }
 ],
 "metadata": {
  "kernelspec": {
   "display_name": "Python 3",
   "language": "python",
   "name": "python3"
  },
  "language_info": {
   "codemirror_mode": {
    "name": "ipython",
    "version": 2
   },
   "file_extension": ".py",
   "mimetype": "text/x-python",
   "name": "python",
   "nbconvert_exporter": "python",
   "pygments_lexer": "ipython2",
   "version": "2.7.6"
  }
 },
 "nbformat": 4,
 "nbformat_minor": 5
}
