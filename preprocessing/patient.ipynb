{
 "cells": [
  {
   "metadata": {},
   "cell_type": "markdown",
   "source": [
    "# Patient\n",
    "\n",
    "Choose `unitDischargeStatus` as the target variable."
   ],
   "id": "4b5aca0372039c1d"
  },
  {
   "metadata": {
    "ExecuteTime": {
     "end_time": "2025-02-06T21:47:56.046358Z",
     "start_time": "2025-02-06T21:47:56.043053Z"
    }
   },
   "cell_type": "code",
   "source": [
    "import pandas as pd\n",
    "import numpy as np\n",
    "import matplotlib.pyplot as plt\n",
    "import seaborn as sns\n",
    "import os\n",
    "import random\n",
    "random.seed(1) \n",
    "np.random.seed(1)"
   ],
   "id": "initial_id",
   "outputs": [],
   "execution_count": 63
  },
  {
   "metadata": {},
   "cell_type": "markdown",
   "source": "### Load Data",
   "id": "15c91dea3b89c7ed"
  },
  {
   "metadata": {
    "ExecuteTime": {
     "end_time": "2025-02-06T21:47:57.532808Z",
     "start_time": "2025-02-06T21:47:57.067295Z"
    }
   },
   "cell_type": "code",
   "source": [
    "file_path = r\"E:\\EICU\\eicu-collaborative-research-database-2.0\\patient.csv.gz\"\n",
    "patient_df = pd.read_csv(file_path, compression=\"gzip\", low_memory=False,usecols=[\"patientunitstayid\",\"unittype\", \"unitadmitsource\", \"unitadmittime24\", \n",
    "                    \"unitvisitnumber\", \"unitstaytype\", \"age\", \n",
    "                    \"gender\", \"ethnicity\", \"apacheadmissiondx\",\"unitdischargestatus\"])"
   ],
   "id": "b64827960369fd38",
   "outputs": [],
   "execution_count": 64
  },
  {
   "metadata": {
    "ExecuteTime": {
     "end_time": "2025-02-06T21:47:57.619119Z",
     "start_time": "2025-02-06T21:47:57.611895Z"
    }
   },
   "cell_type": "code",
   "source": "patient_df.head()",
   "id": "a78660bfc20ec152",
   "outputs": [
    {
     "data": {
      "text/plain": [
       "   patientunitstayid  gender age  ethnicity  \\\n",
       "0             141168  Female  70  Caucasian   \n",
       "1             141178  Female  52  Caucasian   \n",
       "2             141179  Female  52  Caucasian   \n",
       "3             141194    Male  68  Caucasian   \n",
       "4             141196    Male  71  Caucasian   \n",
       "\n",
       "                               apacheadmissiondx      unittype  \\\n",
       "0  Rhythm disturbance (atrial, supraventricular)  Med-Surg ICU   \n",
       "1                                            NaN  Med-Surg ICU   \n",
       "2                                            NaN  Med-Surg ICU   \n",
       "3          Sepsis, renal/UTI (including bladder)         CTICU   \n",
       "4                                            NaN  Med-Surg ICU   \n",
       "\n",
       "  unitadmittime24       unitadmitsource  unitvisitnumber    unitstaytype  \\\n",
       "0        15:54:00          Direct Admit                1           admit   \n",
       "1        09:10:00  Emergency Department                1           admit   \n",
       "2        09:18:00            ICU to SDU                2  stepdown/other   \n",
       "3        07:18:00                 Floor                1           admit   \n",
       "4        22:00:00            ICU to SDU                2  stepdown/other   \n",
       "\n",
       "  unitdischargestatus  \n",
       "0             Expired  \n",
       "1               Alive  \n",
       "2               Alive  \n",
       "3               Alive  \n",
       "4               Alive  "
      ],
      "text/html": [
       "<div>\n",
       "<style scoped>\n",
       "    .dataframe tbody tr th:only-of-type {\n",
       "        vertical-align: middle;\n",
       "    }\n",
       "\n",
       "    .dataframe tbody tr th {\n",
       "        vertical-align: top;\n",
       "    }\n",
       "\n",
       "    .dataframe thead th {\n",
       "        text-align: right;\n",
       "    }\n",
       "</style>\n",
       "<table border=\"1\" class=\"dataframe\">\n",
       "  <thead>\n",
       "    <tr style=\"text-align: right;\">\n",
       "      <th></th>\n",
       "      <th>patientunitstayid</th>\n",
       "      <th>gender</th>\n",
       "      <th>age</th>\n",
       "      <th>ethnicity</th>\n",
       "      <th>apacheadmissiondx</th>\n",
       "      <th>unittype</th>\n",
       "      <th>unitadmittime24</th>\n",
       "      <th>unitadmitsource</th>\n",
       "      <th>unitvisitnumber</th>\n",
       "      <th>unitstaytype</th>\n",
       "      <th>unitdischargestatus</th>\n",
       "    </tr>\n",
       "  </thead>\n",
       "  <tbody>\n",
       "    <tr>\n",
       "      <th>0</th>\n",
       "      <td>141168</td>\n",
       "      <td>Female</td>\n",
       "      <td>70</td>\n",
       "      <td>Caucasian</td>\n",
       "      <td>Rhythm disturbance (atrial, supraventricular)</td>\n",
       "      <td>Med-Surg ICU</td>\n",
       "      <td>15:54:00</td>\n",
       "      <td>Direct Admit</td>\n",
       "      <td>1</td>\n",
       "      <td>admit</td>\n",
       "      <td>Expired</td>\n",
       "    </tr>\n",
       "    <tr>\n",
       "      <th>1</th>\n",
       "      <td>141178</td>\n",
       "      <td>Female</td>\n",
       "      <td>52</td>\n",
       "      <td>Caucasian</td>\n",
       "      <td>NaN</td>\n",
       "      <td>Med-Surg ICU</td>\n",
       "      <td>09:10:00</td>\n",
       "      <td>Emergency Department</td>\n",
       "      <td>1</td>\n",
       "      <td>admit</td>\n",
       "      <td>Alive</td>\n",
       "    </tr>\n",
       "    <tr>\n",
       "      <th>2</th>\n",
       "      <td>141179</td>\n",
       "      <td>Female</td>\n",
       "      <td>52</td>\n",
       "      <td>Caucasian</td>\n",
       "      <td>NaN</td>\n",
       "      <td>Med-Surg ICU</td>\n",
       "      <td>09:18:00</td>\n",
       "      <td>ICU to SDU</td>\n",
       "      <td>2</td>\n",
       "      <td>stepdown/other</td>\n",
       "      <td>Alive</td>\n",
       "    </tr>\n",
       "    <tr>\n",
       "      <th>3</th>\n",
       "      <td>141194</td>\n",
       "      <td>Male</td>\n",
       "      <td>68</td>\n",
       "      <td>Caucasian</td>\n",
       "      <td>Sepsis, renal/UTI (including bladder)</td>\n",
       "      <td>CTICU</td>\n",
       "      <td>07:18:00</td>\n",
       "      <td>Floor</td>\n",
       "      <td>1</td>\n",
       "      <td>admit</td>\n",
       "      <td>Alive</td>\n",
       "    </tr>\n",
       "    <tr>\n",
       "      <th>4</th>\n",
       "      <td>141196</td>\n",
       "      <td>Male</td>\n",
       "      <td>71</td>\n",
       "      <td>Caucasian</td>\n",
       "      <td>NaN</td>\n",
       "      <td>Med-Surg ICU</td>\n",
       "      <td>22:00:00</td>\n",
       "      <td>ICU to SDU</td>\n",
       "      <td>2</td>\n",
       "      <td>stepdown/other</td>\n",
       "      <td>Alive</td>\n",
       "    </tr>\n",
       "  </tbody>\n",
       "</table>\n",
       "</div>"
      ]
     },
     "execution_count": 65,
     "metadata": {},
     "output_type": "execute_result"
    }
   ],
   "execution_count": 65
  },
  {
   "metadata": {
    "ExecuteTime": {
     "end_time": "2025-02-06T21:47:58.297212Z",
     "start_time": "2025-02-06T21:47:58.293040Z"
    }
   },
   "cell_type": "code",
   "source": "patient_df.dtypes",
   "id": "8c079ce38912adab",
   "outputs": [
    {
     "data": {
      "text/plain": [
       "patientunitstayid       int64\n",
       "gender                 object\n",
       "age                    object\n",
       "ethnicity              object\n",
       "apacheadmissiondx      object\n",
       "unittype               object\n",
       "unitadmittime24        object\n",
       "unitadmitsource        object\n",
       "unitvisitnumber         int64\n",
       "unitstaytype           object\n",
       "unitdischargestatus    object\n",
       "dtype: object"
      ]
     },
     "execution_count": 66,
     "metadata": {},
     "output_type": "execute_result"
    }
   ],
   "execution_count": 66
  },
  {
   "metadata": {
    "ExecuteTime": {
     "end_time": "2025-02-06T21:47:58.791168Z",
     "start_time": "2025-02-06T21:47:58.787165Z"
    }
   },
   "cell_type": "code",
   "source": "patient_df.shape",
   "id": "19a3ff1b2fdb727d",
   "outputs": [
    {
     "data": {
      "text/plain": [
       "(200859, 11)"
      ]
     },
     "execution_count": 67,
     "metadata": {},
     "output_type": "execute_result"
    }
   ],
   "execution_count": 67
  },
  {
   "metadata": {
    "ExecuteTime": {
     "end_time": "2025-02-06T21:47:59.293311Z",
     "start_time": "2025-02-06T21:47:59.279281Z"
    }
   },
   "cell_type": "code",
   "source": "patient_df.describe().transpose()",
   "id": "cd884706a34a8350",
   "outputs": [
    {
     "data": {
      "text/plain": [
       "                      count          mean            std       min       25%  \\\n",
       "patientunitstayid  200859.0  1.674016e+06  999589.819762  141168.0  831173.0   \n",
       "unitvisitnumber    200859.0  1.279614e+00       0.655562       1.0       1.0   \n",
       "\n",
       "                         50%        75%        max  \n",
       "patientunitstayid  1579307.0  2695827.0  3353263.0  \n",
       "unitvisitnumber          1.0        1.0       18.0  "
      ],
      "text/html": [
       "<div>\n",
       "<style scoped>\n",
       "    .dataframe tbody tr th:only-of-type {\n",
       "        vertical-align: middle;\n",
       "    }\n",
       "\n",
       "    .dataframe tbody tr th {\n",
       "        vertical-align: top;\n",
       "    }\n",
       "\n",
       "    .dataframe thead th {\n",
       "        text-align: right;\n",
       "    }\n",
       "</style>\n",
       "<table border=\"1\" class=\"dataframe\">\n",
       "  <thead>\n",
       "    <tr style=\"text-align: right;\">\n",
       "      <th></th>\n",
       "      <th>count</th>\n",
       "      <th>mean</th>\n",
       "      <th>std</th>\n",
       "      <th>min</th>\n",
       "      <th>25%</th>\n",
       "      <th>50%</th>\n",
       "      <th>75%</th>\n",
       "      <th>max</th>\n",
       "    </tr>\n",
       "  </thead>\n",
       "  <tbody>\n",
       "    <tr>\n",
       "      <th>patientunitstayid</th>\n",
       "      <td>200859.0</td>\n",
       "      <td>1.674016e+06</td>\n",
       "      <td>999589.819762</td>\n",
       "      <td>141168.0</td>\n",
       "      <td>831173.0</td>\n",
       "      <td>1579307.0</td>\n",
       "      <td>2695827.0</td>\n",
       "      <td>3353263.0</td>\n",
       "    </tr>\n",
       "    <tr>\n",
       "      <th>unitvisitnumber</th>\n",
       "      <td>200859.0</td>\n",
       "      <td>1.279614e+00</td>\n",
       "      <td>0.655562</td>\n",
       "      <td>1.0</td>\n",
       "      <td>1.0</td>\n",
       "      <td>1.0</td>\n",
       "      <td>1.0</td>\n",
       "      <td>18.0</td>\n",
       "    </tr>\n",
       "  </tbody>\n",
       "</table>\n",
       "</div>"
      ]
     },
     "execution_count": 68,
     "metadata": {},
     "output_type": "execute_result"
    }
   ],
   "execution_count": 68
  },
  {
   "metadata": {
    "ExecuteTime": {
     "end_time": "2025-02-06T21:47:59.836036Z",
     "start_time": "2025-02-06T21:47:59.796566Z"
    }
   },
   "cell_type": "code",
   "source": [
    "missing_values = patient_df.isnull().sum()\n",
    "missing_percentage = (missing_values / len(patient_df)) * 100\n",
    "missing_df = pd.DataFrame({\"Missing Count\": missing_values, \"Missing Percentage (%)\": missing_percentage})\n",
    "missing_df = missing_df[missing_df[\"Missing Count\"] > 0].sort_values(by=\"Missing Percentage (%)\", ascending=False)\n",
    "missing_df"
   ],
   "id": "dcf78af1c5f2d8c3",
   "outputs": [
    {
     "data": {
      "text/plain": [
       "                     Missing Count  Missing Percentage (%)\n",
       "apacheadmissiondx            22996               11.448827\n",
       "ethnicity                     2290                1.140103\n",
       "unitadmitsource               1090                0.542669\n",
       "gender                         134                0.066713\n",
       "age                             95                0.047297\n",
       "unitdischargestatus             34                0.016927"
      ],
      "text/html": [
       "<div>\n",
       "<style scoped>\n",
       "    .dataframe tbody tr th:only-of-type {\n",
       "        vertical-align: middle;\n",
       "    }\n",
       "\n",
       "    .dataframe tbody tr th {\n",
       "        vertical-align: top;\n",
       "    }\n",
       "\n",
       "    .dataframe thead th {\n",
       "        text-align: right;\n",
       "    }\n",
       "</style>\n",
       "<table border=\"1\" class=\"dataframe\">\n",
       "  <thead>\n",
       "    <tr style=\"text-align: right;\">\n",
       "      <th></th>\n",
       "      <th>Missing Count</th>\n",
       "      <th>Missing Percentage (%)</th>\n",
       "    </tr>\n",
       "  </thead>\n",
       "  <tbody>\n",
       "    <tr>\n",
       "      <th>apacheadmissiondx</th>\n",
       "      <td>22996</td>\n",
       "      <td>11.448827</td>\n",
       "    </tr>\n",
       "    <tr>\n",
       "      <th>ethnicity</th>\n",
       "      <td>2290</td>\n",
       "      <td>1.140103</td>\n",
       "    </tr>\n",
       "    <tr>\n",
       "      <th>unitadmitsource</th>\n",
       "      <td>1090</td>\n",
       "      <td>0.542669</td>\n",
       "    </tr>\n",
       "    <tr>\n",
       "      <th>gender</th>\n",
       "      <td>134</td>\n",
       "      <td>0.066713</td>\n",
       "    </tr>\n",
       "    <tr>\n",
       "      <th>age</th>\n",
       "      <td>95</td>\n",
       "      <td>0.047297</td>\n",
       "    </tr>\n",
       "    <tr>\n",
       "      <th>unitdischargestatus</th>\n",
       "      <td>34</td>\n",
       "      <td>0.016927</td>\n",
       "    </tr>\n",
       "  </tbody>\n",
       "</table>\n",
       "</div>"
      ]
     },
     "execution_count": 69,
     "metadata": {},
     "output_type": "execute_result"
    }
   ],
   "execution_count": 69
  },
  {
   "metadata": {},
   "cell_type": "markdown",
   "source": "### drop missing values",
   "id": "97b015aac8b8f84f"
  },
  {
   "metadata": {
    "ExecuteTime": {
     "end_time": "2025-02-06T21:48:00.897650Z",
     "start_time": "2025-02-06T21:48:00.821861Z"
    }
   },
   "cell_type": "code",
   "source": [
    "patient_df_cleaned = patient_df.dropna()\n",
    "patient_df_cleaned.isnull().sum()"
   ],
   "id": "68354c4c02cdab47",
   "outputs": [
    {
     "data": {
      "text/plain": [
       "patientunitstayid      0\n",
       "gender                 0\n",
       "age                    0\n",
       "ethnicity              0\n",
       "apacheadmissiondx      0\n",
       "unittype               0\n",
       "unitadmittime24        0\n",
       "unitadmitsource        0\n",
       "unitvisitnumber        0\n",
       "unitstaytype           0\n",
       "unitdischargestatus    0\n",
       "dtype: int64"
      ]
     },
     "execution_count": 70,
     "metadata": {},
     "output_type": "execute_result"
    }
   ],
   "execution_count": 70
  },
  {
   "metadata": {
    "ExecuteTime": {
     "end_time": "2025-02-06T21:48:01.341443Z",
     "start_time": "2025-02-06T21:48:01.337038Z"
    }
   },
   "cell_type": "code",
   "source": "patient_df_cleaned.shape",
   "id": "1031d6396bf01cab",
   "outputs": [
    {
     "data": {
      "text/plain": [
       "(175400, 11)"
      ]
     },
     "execution_count": 71,
     "metadata": {},
     "output_type": "execute_result"
    }
   ],
   "execution_count": 71
  },
  {
   "metadata": {
    "ExecuteTime": {
     "end_time": "2025-02-06T21:48:01.853046Z",
     "start_time": "2025-02-06T21:48:01.843042Z"
    }
   },
   "cell_type": "code",
   "source": "patient_df_cleaned[\"unitdischargestatus\"].value_counts()",
   "id": "a90ae5e8b69ef8da",
   "outputs": [
    {
     "data": {
      "text/plain": [
       "unitdischargestatus\n",
       "Alive      165349\n",
       "Expired     10051\n",
       "Name: count, dtype: int64"
      ]
     },
     "execution_count": 72,
     "metadata": {},
     "output_type": "execute_result"
    }
   ],
   "execution_count": 72
  },
  {
   "metadata": {},
   "cell_type": "markdown",
   "source": "### convert age to categorical",
   "id": "d05c7d625ca9b385"
  },
  {
   "metadata": {
    "ExecuteTime": {
     "end_time": "2025-02-06T21:48:02.876873Z",
     "start_time": "2025-02-06T21:48:02.866081Z"
    }
   },
   "cell_type": "code",
   "source": "patient_df_cleaned.loc[:, \"age\"] = patient_df_cleaned[\"age\"].replace(\"> 89\", 90)",
   "id": "fd4a866583cb8670",
   "outputs": [],
   "execution_count": 73
  },
  {
   "metadata": {
    "ExecuteTime": {
     "end_time": "2025-02-06T21:48:03.467120Z",
     "start_time": "2025-02-06T21:48:03.404863Z"
    }
   },
   "cell_type": "code",
   "source": "patient_df_cleaned.loc[:,\"age\"] = pd.to_numeric(patient_df_cleaned[\"age\"], errors=\"coerce\") ",
   "id": "1d580b527171e63a",
   "outputs": [],
   "execution_count": 74
  },
  {
   "metadata": {
    "ExecuteTime": {
     "end_time": "2025-02-06T21:48:03.877329Z",
     "start_time": "2025-02-06T21:48:03.853011Z"
    }
   },
   "cell_type": "code",
   "source": [
    "age_bins = [0, 44, 54, 64, 74, np.inf]  # 5 bins\n",
    "age_labels = [\"≤44\", \"45-54\", \"55-64\", \"65-74\", \"≥75\"] # corresponding labels\n",
    "patient_df_cleaned.loc[:,\"age_group\"] = pd.cut(patient_df_cleaned[\"age\"], bins=age_bins, labels=age_labels, right=True)"
   ],
   "id": "a687c338e9338eda",
   "outputs": [
    {
     "name": "stderr",
     "output_type": "stream",
     "text": [
      "C:\\Users\\85313\\AppData\\Local\\Temp\\ipykernel_25816\\880787762.py:3: SettingWithCopyWarning: \n",
      "A value is trying to be set on a copy of a slice from a DataFrame.\n",
      "Try using .loc[row_indexer,col_indexer] = value instead\n",
      "\n",
      "See the caveats in the documentation: https://pandas.pydata.org/pandas-docs/stable/user_guide/indexing.html#returning-a-view-versus-a-copy\n",
      "  patient_df_cleaned.loc[:,\"age_group\"] = pd.cut(patient_df_cleaned[\"age\"], bins=age_bins, labels=age_labels, right=True)\n"
     ]
    }
   ],
   "execution_count": 75
  },
  {
   "metadata": {
    "ExecuteTime": {
     "end_time": "2025-02-06T21:48:04.423379Z",
     "start_time": "2025-02-06T21:48:04.417002Z"
    }
   },
   "cell_type": "code",
   "source": "patient_df_cleaned[\"age_group\"].value_counts()",
   "id": "7918a04b2547a3",
   "outputs": [
    {
     "data": {
      "text/plain": [
       "age_group\n",
       "≥75      49846\n",
       "65-74    40028\n",
       "55-64    36095\n",
       "≤44      25666\n",
       "45-54    23749\n",
       "Name: count, dtype: int64"
      ]
     },
     "execution_count": 76,
     "metadata": {},
     "output_type": "execute_result"
    }
   ],
   "execution_count": 76
  },
  {
   "metadata": {
    "ExecuteTime": {
     "end_time": "2025-02-06T21:48:14.508424Z",
     "start_time": "2025-02-06T21:48:14.473869Z"
    }
   },
   "cell_type": "code",
   "source": "patient_df_cleaned.isnull().sum()",
   "id": "b7506b5c4219eb56",
   "outputs": [
    {
     "data": {
      "text/plain": [
       "patientunitstayid       0\n",
       "gender                  0\n",
       "age                     0\n",
       "ethnicity               0\n",
       "apacheadmissiondx       0\n",
       "unittype                0\n",
       "unitadmittime24         0\n",
       "unitadmitsource         0\n",
       "unitvisitnumber         0\n",
       "unitstaytype            0\n",
       "unitdischargestatus     0\n",
       "age_group              16\n",
       "dtype: int64"
      ]
     },
     "execution_count": 77,
     "metadata": {},
     "output_type": "execute_result"
    }
   ],
   "execution_count": 77
  },
  {
   "metadata": {
    "ExecuteTime": {
     "end_time": "2025-02-06T21:48:17.058629Z",
     "start_time": "2025-02-06T21:48:17.043295Z"
    }
   },
   "cell_type": "code",
   "source": "print(patient_df_cleaned[\"age\"].min(), patient_df_cleaned[\"age\"].max()) ",
   "id": "cb9fe804049ad170",
   "outputs": [
    {
     "name": "stdout",
     "output_type": "stream",
     "text": [
      "0 90\n"
     ]
    }
   ],
   "execution_count": 78
  },
  {
   "metadata": {
    "ExecuteTime": {
     "end_time": "2025-02-06T21:48:18.411064Z",
     "start_time": "2025-02-06T21:48:18.407327Z"
    }
   },
   "cell_type": "code",
   "source": "missing_age_group_rows = patient_df_cleaned[patient_df_cleaned[\"age_group\"].isnull()]",
   "id": "48b65e5714d105ec",
   "outputs": [],
   "execution_count": 79
  },
  {
   "metadata": {
    "ExecuteTime": {
     "end_time": "2025-02-06T21:48:18.978384Z",
     "start_time": "2025-02-06T21:48:18.970146Z"
    }
   },
   "cell_type": "code",
   "source": "missing_age_group_rows",
   "id": "3ff9ea1d7f487084",
   "outputs": [
    {
     "data": {
      "text/plain": [
       "        patientunitstayid  gender age  ethnicity  \\\n",
       "18998              330125    Male   0  Caucasian   \n",
       "23196              403944  Female   0  Caucasian   \n",
       "23958              417283  Female   0  Caucasian   \n",
       "135002            2313728    Male   0  Caucasian   \n",
       "139107            2408918    Male   0  Caucasian   \n",
       "139144            2409571  Female   0  Caucasian   \n",
       "139258            2412237    Male   0  Caucasian   \n",
       "139305            2413304    Male   0   Hispanic   \n",
       "139579            2418976  Female   0  Caucasian   \n",
       "140001            2429243    Male   0  Caucasian   \n",
       "140173            2433174    Male   0  Caucasian   \n",
       "140174            2433175    Male   0  Caucasian   \n",
       "141510            2465530    Male   0  Caucasian   \n",
       "141902            2474812  Female   0  Caucasian   \n",
       "142347            2484860    Male   0  Caucasian   \n",
       "144211            2526560  Female   0  Caucasian   \n",
       "\n",
       "                                        apacheadmissiondx      unittype  \\\n",
       "18998   Overdose, alcohols (bethanol, methanol, ethyle...  Med-Surg ICU   \n",
       "23196                                Renal failure, acute  Med-Surg ICU   \n",
       "23958       Rhythm disturbance (atrial, supraventricular)  Med-Surg ICU   \n",
       "135002                               Pneumonia, bacterial  Med-Surg ICU   \n",
       "139107                               Emphysema/bronchitis  Med-Surg ICU   \n",
       "139144                               Pneumonia, bacterial  Med-Surg ICU   \n",
       "139258  Overdose, street drugs (opiates, cocaine, amph...  Med-Surg ICU   \n",
       "139305                               Pneumonia, bacterial  Med-Surg ICU   \n",
       "139579                                   Pneumonia, viral  Med-Surg ICU   \n",
       "140001                  Acid-base/electrolyte disturbance  Med-Surg ICU   \n",
       "140173                                       Hypoglycemia  Med-Surg ICU   \n",
       "140174                                       Hypoglycemia  Med-Surg ICU   \n",
       "141510                                             Asthma  Med-Surg ICU   \n",
       "141902                                 Bleeding, lower GI  Med-Surg ICU   \n",
       "142347                                 Effusions, pleural  Med-Surg ICU   \n",
       "144211  Hypovolemia (including dehydration, Do not inc...  Med-Surg ICU   \n",
       "\n",
       "       unitadmittime24       unitadmitsource  unitvisitnumber    unitstaytype  \\\n",
       "18998         11:00:00  Emergency Department                1           admit   \n",
       "23196         00:14:00  Emergency Department                1           admit   \n",
       "23958         11:59:00  Emergency Department                1           admit   \n",
       "135002        02:43:00            ICU to SDU                2  stepdown/other   \n",
       "139107        06:53:00  Emergency Department                1           admit   \n",
       "139144        20:24:00          Direct Admit                1           admit   \n",
       "139258        10:27:00  Emergency Department                1           admit   \n",
       "139305        17:22:00                   ICU                2  stepdown/other   \n",
       "139579        07:41:00  Emergency Department                1  stepdown/other   \n",
       "140001        12:42:00  Emergency Department                1  stepdown/other   \n",
       "140173        01:43:00                   ICU                2  stepdown/other   \n",
       "140174        00:12:00  Emergency Department                1           admit   \n",
       "141510        15:04:00          Direct Admit                1  stepdown/other   \n",
       "141902        19:34:00          Direct Admit                1  stepdown/other   \n",
       "142347        21:13:00  Emergency Department                1           admit   \n",
       "144211        16:57:00          Direct Admit                1  stepdown/other   \n",
       "\n",
       "       unitdischargestatus age_group  \n",
       "18998                Alive       NaN  \n",
       "23196                Alive       NaN  \n",
       "23958                Alive       NaN  \n",
       "135002               Alive       NaN  \n",
       "139107               Alive       NaN  \n",
       "139144               Alive       NaN  \n",
       "139258               Alive       NaN  \n",
       "139305               Alive       NaN  \n",
       "139579               Alive       NaN  \n",
       "140001               Alive       NaN  \n",
       "140173               Alive       NaN  \n",
       "140174               Alive       NaN  \n",
       "141510               Alive       NaN  \n",
       "141902               Alive       NaN  \n",
       "142347               Alive       NaN  \n",
       "144211               Alive       NaN  "
      ],
      "text/html": [
       "<div>\n",
       "<style scoped>\n",
       "    .dataframe tbody tr th:only-of-type {\n",
       "        vertical-align: middle;\n",
       "    }\n",
       "\n",
       "    .dataframe tbody tr th {\n",
       "        vertical-align: top;\n",
       "    }\n",
       "\n",
       "    .dataframe thead th {\n",
       "        text-align: right;\n",
       "    }\n",
       "</style>\n",
       "<table border=\"1\" class=\"dataframe\">\n",
       "  <thead>\n",
       "    <tr style=\"text-align: right;\">\n",
       "      <th></th>\n",
       "      <th>patientunitstayid</th>\n",
       "      <th>gender</th>\n",
       "      <th>age</th>\n",
       "      <th>ethnicity</th>\n",
       "      <th>apacheadmissiondx</th>\n",
       "      <th>unittype</th>\n",
       "      <th>unitadmittime24</th>\n",
       "      <th>unitadmitsource</th>\n",
       "      <th>unitvisitnumber</th>\n",
       "      <th>unitstaytype</th>\n",
       "      <th>unitdischargestatus</th>\n",
       "      <th>age_group</th>\n",
       "    </tr>\n",
       "  </thead>\n",
       "  <tbody>\n",
       "    <tr>\n",
       "      <th>18998</th>\n",
       "      <td>330125</td>\n",
       "      <td>Male</td>\n",
       "      <td>0</td>\n",
       "      <td>Caucasian</td>\n",
       "      <td>Overdose, alcohols (bethanol, methanol, ethyle...</td>\n",
       "      <td>Med-Surg ICU</td>\n",
       "      <td>11:00:00</td>\n",
       "      <td>Emergency Department</td>\n",
       "      <td>1</td>\n",
       "      <td>admit</td>\n",
       "      <td>Alive</td>\n",
       "      <td>NaN</td>\n",
       "    </tr>\n",
       "    <tr>\n",
       "      <th>23196</th>\n",
       "      <td>403944</td>\n",
       "      <td>Female</td>\n",
       "      <td>0</td>\n",
       "      <td>Caucasian</td>\n",
       "      <td>Renal failure, acute</td>\n",
       "      <td>Med-Surg ICU</td>\n",
       "      <td>00:14:00</td>\n",
       "      <td>Emergency Department</td>\n",
       "      <td>1</td>\n",
       "      <td>admit</td>\n",
       "      <td>Alive</td>\n",
       "      <td>NaN</td>\n",
       "    </tr>\n",
       "    <tr>\n",
       "      <th>23958</th>\n",
       "      <td>417283</td>\n",
       "      <td>Female</td>\n",
       "      <td>0</td>\n",
       "      <td>Caucasian</td>\n",
       "      <td>Rhythm disturbance (atrial, supraventricular)</td>\n",
       "      <td>Med-Surg ICU</td>\n",
       "      <td>11:59:00</td>\n",
       "      <td>Emergency Department</td>\n",
       "      <td>1</td>\n",
       "      <td>admit</td>\n",
       "      <td>Alive</td>\n",
       "      <td>NaN</td>\n",
       "    </tr>\n",
       "    <tr>\n",
       "      <th>135002</th>\n",
       "      <td>2313728</td>\n",
       "      <td>Male</td>\n",
       "      <td>0</td>\n",
       "      <td>Caucasian</td>\n",
       "      <td>Pneumonia, bacterial</td>\n",
       "      <td>Med-Surg ICU</td>\n",
       "      <td>02:43:00</td>\n",
       "      <td>ICU to SDU</td>\n",
       "      <td>2</td>\n",
       "      <td>stepdown/other</td>\n",
       "      <td>Alive</td>\n",
       "      <td>NaN</td>\n",
       "    </tr>\n",
       "    <tr>\n",
       "      <th>139107</th>\n",
       "      <td>2408918</td>\n",
       "      <td>Male</td>\n",
       "      <td>0</td>\n",
       "      <td>Caucasian</td>\n",
       "      <td>Emphysema/bronchitis</td>\n",
       "      <td>Med-Surg ICU</td>\n",
       "      <td>06:53:00</td>\n",
       "      <td>Emergency Department</td>\n",
       "      <td>1</td>\n",
       "      <td>admit</td>\n",
       "      <td>Alive</td>\n",
       "      <td>NaN</td>\n",
       "    </tr>\n",
       "    <tr>\n",
       "      <th>139144</th>\n",
       "      <td>2409571</td>\n",
       "      <td>Female</td>\n",
       "      <td>0</td>\n",
       "      <td>Caucasian</td>\n",
       "      <td>Pneumonia, bacterial</td>\n",
       "      <td>Med-Surg ICU</td>\n",
       "      <td>20:24:00</td>\n",
       "      <td>Direct Admit</td>\n",
       "      <td>1</td>\n",
       "      <td>admit</td>\n",
       "      <td>Alive</td>\n",
       "      <td>NaN</td>\n",
       "    </tr>\n",
       "    <tr>\n",
       "      <th>139258</th>\n",
       "      <td>2412237</td>\n",
       "      <td>Male</td>\n",
       "      <td>0</td>\n",
       "      <td>Caucasian</td>\n",
       "      <td>Overdose, street drugs (opiates, cocaine, amph...</td>\n",
       "      <td>Med-Surg ICU</td>\n",
       "      <td>10:27:00</td>\n",
       "      <td>Emergency Department</td>\n",
       "      <td>1</td>\n",
       "      <td>admit</td>\n",
       "      <td>Alive</td>\n",
       "      <td>NaN</td>\n",
       "    </tr>\n",
       "    <tr>\n",
       "      <th>139305</th>\n",
       "      <td>2413304</td>\n",
       "      <td>Male</td>\n",
       "      <td>0</td>\n",
       "      <td>Hispanic</td>\n",
       "      <td>Pneumonia, bacterial</td>\n",
       "      <td>Med-Surg ICU</td>\n",
       "      <td>17:22:00</td>\n",
       "      <td>ICU</td>\n",
       "      <td>2</td>\n",
       "      <td>stepdown/other</td>\n",
       "      <td>Alive</td>\n",
       "      <td>NaN</td>\n",
       "    </tr>\n",
       "    <tr>\n",
       "      <th>139579</th>\n",
       "      <td>2418976</td>\n",
       "      <td>Female</td>\n",
       "      <td>0</td>\n",
       "      <td>Caucasian</td>\n",
       "      <td>Pneumonia, viral</td>\n",
       "      <td>Med-Surg ICU</td>\n",
       "      <td>07:41:00</td>\n",
       "      <td>Emergency Department</td>\n",
       "      <td>1</td>\n",
       "      <td>stepdown/other</td>\n",
       "      <td>Alive</td>\n",
       "      <td>NaN</td>\n",
       "    </tr>\n",
       "    <tr>\n",
       "      <th>140001</th>\n",
       "      <td>2429243</td>\n",
       "      <td>Male</td>\n",
       "      <td>0</td>\n",
       "      <td>Caucasian</td>\n",
       "      <td>Acid-base/electrolyte disturbance</td>\n",
       "      <td>Med-Surg ICU</td>\n",
       "      <td>12:42:00</td>\n",
       "      <td>Emergency Department</td>\n",
       "      <td>1</td>\n",
       "      <td>stepdown/other</td>\n",
       "      <td>Alive</td>\n",
       "      <td>NaN</td>\n",
       "    </tr>\n",
       "    <tr>\n",
       "      <th>140173</th>\n",
       "      <td>2433174</td>\n",
       "      <td>Male</td>\n",
       "      <td>0</td>\n",
       "      <td>Caucasian</td>\n",
       "      <td>Hypoglycemia</td>\n",
       "      <td>Med-Surg ICU</td>\n",
       "      <td>01:43:00</td>\n",
       "      <td>ICU</td>\n",
       "      <td>2</td>\n",
       "      <td>stepdown/other</td>\n",
       "      <td>Alive</td>\n",
       "      <td>NaN</td>\n",
       "    </tr>\n",
       "    <tr>\n",
       "      <th>140174</th>\n",
       "      <td>2433175</td>\n",
       "      <td>Male</td>\n",
       "      <td>0</td>\n",
       "      <td>Caucasian</td>\n",
       "      <td>Hypoglycemia</td>\n",
       "      <td>Med-Surg ICU</td>\n",
       "      <td>00:12:00</td>\n",
       "      <td>Emergency Department</td>\n",
       "      <td>1</td>\n",
       "      <td>admit</td>\n",
       "      <td>Alive</td>\n",
       "      <td>NaN</td>\n",
       "    </tr>\n",
       "    <tr>\n",
       "      <th>141510</th>\n",
       "      <td>2465530</td>\n",
       "      <td>Male</td>\n",
       "      <td>0</td>\n",
       "      <td>Caucasian</td>\n",
       "      <td>Asthma</td>\n",
       "      <td>Med-Surg ICU</td>\n",
       "      <td>15:04:00</td>\n",
       "      <td>Direct Admit</td>\n",
       "      <td>1</td>\n",
       "      <td>stepdown/other</td>\n",
       "      <td>Alive</td>\n",
       "      <td>NaN</td>\n",
       "    </tr>\n",
       "    <tr>\n",
       "      <th>141902</th>\n",
       "      <td>2474812</td>\n",
       "      <td>Female</td>\n",
       "      <td>0</td>\n",
       "      <td>Caucasian</td>\n",
       "      <td>Bleeding, lower GI</td>\n",
       "      <td>Med-Surg ICU</td>\n",
       "      <td>19:34:00</td>\n",
       "      <td>Direct Admit</td>\n",
       "      <td>1</td>\n",
       "      <td>stepdown/other</td>\n",
       "      <td>Alive</td>\n",
       "      <td>NaN</td>\n",
       "    </tr>\n",
       "    <tr>\n",
       "      <th>142347</th>\n",
       "      <td>2484860</td>\n",
       "      <td>Male</td>\n",
       "      <td>0</td>\n",
       "      <td>Caucasian</td>\n",
       "      <td>Effusions, pleural</td>\n",
       "      <td>Med-Surg ICU</td>\n",
       "      <td>21:13:00</td>\n",
       "      <td>Emergency Department</td>\n",
       "      <td>1</td>\n",
       "      <td>admit</td>\n",
       "      <td>Alive</td>\n",
       "      <td>NaN</td>\n",
       "    </tr>\n",
       "    <tr>\n",
       "      <th>144211</th>\n",
       "      <td>2526560</td>\n",
       "      <td>Female</td>\n",
       "      <td>0</td>\n",
       "      <td>Caucasian</td>\n",
       "      <td>Hypovolemia (including dehydration, Do not inc...</td>\n",
       "      <td>Med-Surg ICU</td>\n",
       "      <td>16:57:00</td>\n",
       "      <td>Direct Admit</td>\n",
       "      <td>1</td>\n",
       "      <td>stepdown/other</td>\n",
       "      <td>Alive</td>\n",
       "      <td>NaN</td>\n",
       "    </tr>\n",
       "  </tbody>\n",
       "</table>\n",
       "</div>"
      ]
     },
     "execution_count": 80,
     "metadata": {},
     "output_type": "execute_result"
    }
   ],
   "execution_count": 80
  },
  {
   "metadata": {
    "ExecuteTime": {
     "end_time": "2025-02-06T21:48:22.456150Z",
     "start_time": "2025-02-06T21:48:22.443460Z"
    }
   },
   "cell_type": "code",
   "source": "patient_df_cleaned['age'].describe()",
   "id": "d073bb15faafb446",
   "outputs": [
    {
     "data": {
      "text/plain": [
       "count     175400\n",
       "unique        91\n",
       "top           90\n",
       "freq        6236\n",
       "Name: age, dtype: int64"
      ]
     },
     "execution_count": 81,
     "metadata": {},
     "output_type": "execute_result"
    }
   ],
   "execution_count": 81
  },
  {
   "metadata": {
    "ExecuteTime": {
     "end_time": "2025-02-06T21:48:23.569508Z",
     "start_time": "2025-02-06T21:48:23.558246Z"
    }
   },
   "cell_type": "code",
   "source": "patient_df_cleaned.loc[patient_df_cleaned[\"age\"] == 0, \"age_group\"] = \"55-64\"",
   "id": "ddd9d158a67920dd",
   "outputs": [],
   "execution_count": 82
  },
  {
   "metadata": {
    "ExecuteTime": {
     "end_time": "2025-02-06T21:48:39.101595Z",
     "start_time": "2025-02-06T21:48:39.068043Z"
    }
   },
   "cell_type": "code",
   "source": "patient_df_cleaned.isnull().sum()",
   "id": "bf75a998f810ed41",
   "outputs": [
    {
     "data": {
      "text/plain": [
       "patientunitstayid      0\n",
       "gender                 0\n",
       "age                    0\n",
       "ethnicity              0\n",
       "apacheadmissiondx      0\n",
       "unittype               0\n",
       "unitadmittime24        0\n",
       "unitadmitsource        0\n",
       "unitvisitnumber        0\n",
       "unitstaytype           0\n",
       "unitdischargestatus    0\n",
       "age_group              0\n",
       "dtype: int64"
      ]
     },
     "execution_count": 83,
     "metadata": {},
     "output_type": "execute_result"
    }
   ],
   "execution_count": 83
  },
  {
   "metadata": {
    "ExecuteTime": {
     "end_time": "2025-02-06T21:48:44.117085Z",
     "start_time": "2025-02-06T21:48:44.081056Z"
    }
   },
   "cell_type": "code",
   "source": "patient_df_cleaned.info()",
   "id": "bdb3e6b012b033af",
   "outputs": [
    {
     "name": "stdout",
     "output_type": "stream",
     "text": [
      "<class 'pandas.core.frame.DataFrame'>\n",
      "Index: 175400 entries, 0 to 200858\n",
      "Data columns (total 12 columns):\n",
      " #   Column               Non-Null Count   Dtype   \n",
      "---  ------               --------------   -----   \n",
      " 0   patientunitstayid    175400 non-null  int64   \n",
      " 1   gender               175400 non-null  object  \n",
      " 2   age                  175400 non-null  object  \n",
      " 3   ethnicity            175400 non-null  object  \n",
      " 4   apacheadmissiondx    175400 non-null  object  \n",
      " 5   unittype             175400 non-null  object  \n",
      " 6   unitadmittime24      175400 non-null  object  \n",
      " 7   unitadmitsource      175400 non-null  object  \n",
      " 8   unitvisitnumber      175400 non-null  int64   \n",
      " 9   unitstaytype         175400 non-null  object  \n",
      " 10  unitdischargestatus  175400 non-null  object  \n",
      " 11  age_group            175400 non-null  category\n",
      "dtypes: category(1), int64(2), object(9)\n",
      "memory usage: 16.2+ MB\n"
     ]
    }
   ],
   "execution_count": 84
  },
  {
   "metadata": {
    "ExecuteTime": {
     "end_time": "2025-02-06T21:48:54.721709Z",
     "start_time": "2025-02-06T21:48:54.715227Z"
    }
   },
   "cell_type": "code",
   "source": "patient_df_cleaned['unitvisitnumber'].value_counts()",
   "id": "23f28f5e4d9c7d73",
   "outputs": [
    {
     "data": {
      "text/plain": [
       "unitvisitnumber\n",
       "1     151864\n",
       "2      17794\n",
       "3       4070\n",
       "4       1037\n",
       "5        372\n",
       "6        136\n",
       "7         63\n",
       "8         27\n",
       "9         14\n",
       "10        10\n",
       "12         4\n",
       "11         3\n",
       "13         2\n",
       "14         1\n",
       "16         1\n",
       "18         1\n",
       "15         1\n",
       "Name: count, dtype: int64"
      ]
     },
     "execution_count": 85,
     "metadata": {},
     "output_type": "execute_result"
    }
   ],
   "execution_count": 85
  },
  {
   "metadata": {},
   "cell_type": "markdown",
   "source": "### Convert 'unitadmittime24' to categorical",
   "id": "5f6c80c863324c63"
  },
  {
   "metadata": {
    "ExecuteTime": {
     "end_time": "2025-02-06T21:50:39.465656Z",
     "start_time": "2025-02-06T21:50:39.405743Z"
    }
   },
   "cell_type": "code",
   "source": [
    "patient_df_cleaned[\"unit_admit_hour\"] = patient_df_cleaned[\"unitadmittime24\"].str.slice(0, 2).astype(int)\n",
    "\n",
    "def classify_time(hour):\n",
    "    if 8 <= hour < 16:\n",
    "        return \"08:00-16:00\"\n",
    "    elif 16 <= hour < 24:\n",
    "        return \"16:00-24:00\"\n",
    "    else:\n",
    "        return \"00:00-08:00\"\n",
    "\n",
    "patient_df_cleaned[\"unit_admit_period\"] = patient_df_cleaned[\"unit_admit_hour\"].apply(classify_time)\n"
   ],
   "id": "fa4d19ed2ceeb8aa",
   "outputs": [
    {
     "name": "stderr",
     "output_type": "stream",
     "text": [
      "C:\\Users\\85313\\AppData\\Local\\Temp\\ipykernel_25816\\2618014633.py:1: SettingWithCopyWarning: \n",
      "A value is trying to be set on a copy of a slice from a DataFrame.\n",
      "Try using .loc[row_indexer,col_indexer] = value instead\n",
      "\n",
      "See the caveats in the documentation: https://pandas.pydata.org/pandas-docs/stable/user_guide/indexing.html#returning-a-view-versus-a-copy\n",
      "  patient_df_cleaned[\"unit_admit_hour\"] = patient_df_cleaned[\"unitadmittime24\"].str.slice(0, 2).astype(int)\n",
      "C:\\Users\\85313\\AppData\\Local\\Temp\\ipykernel_25816\\2618014633.py:11: SettingWithCopyWarning: \n",
      "A value is trying to be set on a copy of a slice from a DataFrame.\n",
      "Try using .loc[row_indexer,col_indexer] = value instead\n",
      "\n",
      "See the caveats in the documentation: https://pandas.pydata.org/pandas-docs/stable/user_guide/indexing.html#returning-a-view-versus-a-copy\n",
      "  patient_df_cleaned[\"unit_admit_period\"] = patient_df_cleaned[\"unit_admit_hour\"].apply(classify_time)\n"
     ]
    }
   ],
   "execution_count": 87
  },
  {
   "metadata": {
    "ExecuteTime": {
     "end_time": "2025-02-06T21:50:44.403969Z",
     "start_time": "2025-02-06T21:50:44.394454Z"
    }
   },
   "cell_type": "code",
   "source": "patient_df_cleaned[\"unit_admit_period\"].value_counts()",
   "id": "da866fb6500d54f1",
   "outputs": [
    {
     "data": {
      "text/plain": [
       "unit_admit_period\n",
       "16:00-24:00    74913\n",
       "00:00-08:00    66221\n",
       "08:00-16:00    34266\n",
       "Name: count, dtype: int64"
      ]
     },
     "execution_count": 88,
     "metadata": {},
     "output_type": "execute_result"
    }
   ],
   "execution_count": 88
  },
  {
   "metadata": {
    "ExecuteTime": {
     "end_time": "2025-02-06T21:51:08.223315Z",
     "start_time": "2025-02-06T21:51:08.186708Z"
    }
   },
   "cell_type": "code",
   "source": "patient_df_cleaned.isnull().sum()",
   "id": "7b891116406008c2",
   "outputs": [
    {
     "data": {
      "text/plain": [
       "patientunitstayid      0\n",
       "gender                 0\n",
       "age                    0\n",
       "ethnicity              0\n",
       "apacheadmissiondx      0\n",
       "unittype               0\n",
       "unitadmittime24        0\n",
       "unitadmitsource        0\n",
       "unitvisitnumber        0\n",
       "unitstaytype           0\n",
       "unitdischargestatus    0\n",
       "age_group              0\n",
       "unit_admit_hour        0\n",
       "unit_admit_period      0\n",
       "dtype: int64"
      ]
     },
     "execution_count": 89,
     "metadata": {},
     "output_type": "execute_result"
    }
   ],
   "execution_count": 89
  },
  {
   "metadata": {
    "ExecuteTime": {
     "end_time": "2025-02-06T21:51:18.127350Z",
     "start_time": "2025-02-06T21:51:18.118299Z"
    }
   },
   "cell_type": "code",
   "source": "patient_df_cleaned",
   "id": "1a4c69a59dcfe92e",
   "outputs": [
    {
     "data": {
      "text/plain": [
       "        patientunitstayid  gender age         ethnicity  \\\n",
       "0                  141168  Female  70         Caucasian   \n",
       "3                  141194    Male  68         Caucasian   \n",
       "5                  141197    Male  71         Caucasian   \n",
       "6                  141203  Female  77         Caucasian   \n",
       "7                  141208  Female  25         Caucasian   \n",
       "...                   ...     ...  ..               ...   \n",
       "200854            3353235    Male  50         Caucasian   \n",
       "200855            3353237  Female  79         Caucasian   \n",
       "200856            3353251    Male  73  African American   \n",
       "200857            3353254    Male  81         Caucasian   \n",
       "200858            3353263    Male  35  African American   \n",
       "\n",
       "                                        apacheadmissiondx      unittype  \\\n",
       "0           Rhythm disturbance (atrial, supraventricular)  Med-Surg ICU   \n",
       "3                   Sepsis, renal/UTI (including bladder)         CTICU   \n",
       "5                                       Sepsis, pulmonary  Med-Surg ICU   \n",
       "6            Arrest, respiratory (without cardiac arrest)  Med-Surg ICU   \n",
       "7       Overdose, sedatives, hypnotics, antipsychotics...  Med-Surg ICU   \n",
       "...                                                   ...           ...   \n",
       "200854                      CHF, congestive heart failure   Cardiac ICU   \n",
       "200855                                 Embolus, pulmonary          MICU   \n",
       "200856  Cardiac arrest (with or without respiratory ar...   Cardiac ICU   \n",
       "200857                                 Bleeding, lower GI  Med-Surg ICU   \n",
       "200858                                 Embolus, pulmonary          MICU   \n",
       "\n",
       "       unitadmittime24       unitadmitsource  unitvisitnumber unitstaytype  \\\n",
       "0             15:54:00          Direct Admit                1        admit   \n",
       "3             07:18:00                 Floor                1        admit   \n",
       "5             20:46:00  Emergency Department                1        admit   \n",
       "6             20:39:00                 Floor                1        admit   \n",
       "7             11:24:00  Emergency Department                1        admit   \n",
       "...                ...                   ...              ...          ...   \n",
       "200854        05:29:00  Emergency Department                1        admit   \n",
       "200855        01:59:00          Direct Admit                1        admit   \n",
       "200856        16:17:00  Emergency Department                1        admit   \n",
       "200857        12:14:00  Emergency Department                1        admit   \n",
       "200858        05:10:00  Emergency Department                1        admit   \n",
       "\n",
       "       unitdischargestatus age_group  unit_admit_hour unit_admit_period  \n",
       "0                  Expired     65-74               15       08:00-16:00  \n",
       "3                    Alive     65-74                7       00:00-08:00  \n",
       "5                    Alive     65-74               20       16:00-24:00  \n",
       "6                    Alive       ≥75               20       16:00-24:00  \n",
       "7                    Alive       ≤44               11       08:00-16:00  \n",
       "...                    ...       ...              ...               ...  \n",
       "200854               Alive     45-54                5       00:00-08:00  \n",
       "200855               Alive       ≥75                1       00:00-08:00  \n",
       "200856               Alive     65-74               16       16:00-24:00  \n",
       "200857               Alive       ≥75               12       08:00-16:00  \n",
       "200858               Alive       ≤44                5       00:00-08:00  \n",
       "\n",
       "[175400 rows x 14 columns]"
      ],
      "text/html": [
       "<div>\n",
       "<style scoped>\n",
       "    .dataframe tbody tr th:only-of-type {\n",
       "        vertical-align: middle;\n",
       "    }\n",
       "\n",
       "    .dataframe tbody tr th {\n",
       "        vertical-align: top;\n",
       "    }\n",
       "\n",
       "    .dataframe thead th {\n",
       "        text-align: right;\n",
       "    }\n",
       "</style>\n",
       "<table border=\"1\" class=\"dataframe\">\n",
       "  <thead>\n",
       "    <tr style=\"text-align: right;\">\n",
       "      <th></th>\n",
       "      <th>patientunitstayid</th>\n",
       "      <th>gender</th>\n",
       "      <th>age</th>\n",
       "      <th>ethnicity</th>\n",
       "      <th>apacheadmissiondx</th>\n",
       "      <th>unittype</th>\n",
       "      <th>unitadmittime24</th>\n",
       "      <th>unitadmitsource</th>\n",
       "      <th>unitvisitnumber</th>\n",
       "      <th>unitstaytype</th>\n",
       "      <th>unitdischargestatus</th>\n",
       "      <th>age_group</th>\n",
       "      <th>unit_admit_hour</th>\n",
       "      <th>unit_admit_period</th>\n",
       "    </tr>\n",
       "  </thead>\n",
       "  <tbody>\n",
       "    <tr>\n",
       "      <th>0</th>\n",
       "      <td>141168</td>\n",
       "      <td>Female</td>\n",
       "      <td>70</td>\n",
       "      <td>Caucasian</td>\n",
       "      <td>Rhythm disturbance (atrial, supraventricular)</td>\n",
       "      <td>Med-Surg ICU</td>\n",
       "      <td>15:54:00</td>\n",
       "      <td>Direct Admit</td>\n",
       "      <td>1</td>\n",
       "      <td>admit</td>\n",
       "      <td>Expired</td>\n",
       "      <td>65-74</td>\n",
       "      <td>15</td>\n",
       "      <td>08:00-16:00</td>\n",
       "    </tr>\n",
       "    <tr>\n",
       "      <th>3</th>\n",
       "      <td>141194</td>\n",
       "      <td>Male</td>\n",
       "      <td>68</td>\n",
       "      <td>Caucasian</td>\n",
       "      <td>Sepsis, renal/UTI (including bladder)</td>\n",
       "      <td>CTICU</td>\n",
       "      <td>07:18:00</td>\n",
       "      <td>Floor</td>\n",
       "      <td>1</td>\n",
       "      <td>admit</td>\n",
       "      <td>Alive</td>\n",
       "      <td>65-74</td>\n",
       "      <td>7</td>\n",
       "      <td>00:00-08:00</td>\n",
       "    </tr>\n",
       "    <tr>\n",
       "      <th>5</th>\n",
       "      <td>141197</td>\n",
       "      <td>Male</td>\n",
       "      <td>71</td>\n",
       "      <td>Caucasian</td>\n",
       "      <td>Sepsis, pulmonary</td>\n",
       "      <td>Med-Surg ICU</td>\n",
       "      <td>20:46:00</td>\n",
       "      <td>Emergency Department</td>\n",
       "      <td>1</td>\n",
       "      <td>admit</td>\n",
       "      <td>Alive</td>\n",
       "      <td>65-74</td>\n",
       "      <td>20</td>\n",
       "      <td>16:00-24:00</td>\n",
       "    </tr>\n",
       "    <tr>\n",
       "      <th>6</th>\n",
       "      <td>141203</td>\n",
       "      <td>Female</td>\n",
       "      <td>77</td>\n",
       "      <td>Caucasian</td>\n",
       "      <td>Arrest, respiratory (without cardiac arrest)</td>\n",
       "      <td>Med-Surg ICU</td>\n",
       "      <td>20:39:00</td>\n",
       "      <td>Floor</td>\n",
       "      <td>1</td>\n",
       "      <td>admit</td>\n",
       "      <td>Alive</td>\n",
       "      <td>≥75</td>\n",
       "      <td>20</td>\n",
       "      <td>16:00-24:00</td>\n",
       "    </tr>\n",
       "    <tr>\n",
       "      <th>7</th>\n",
       "      <td>141208</td>\n",
       "      <td>Female</td>\n",
       "      <td>25</td>\n",
       "      <td>Caucasian</td>\n",
       "      <td>Overdose, sedatives, hypnotics, antipsychotics...</td>\n",
       "      <td>Med-Surg ICU</td>\n",
       "      <td>11:24:00</td>\n",
       "      <td>Emergency Department</td>\n",
       "      <td>1</td>\n",
       "      <td>admit</td>\n",
       "      <td>Alive</td>\n",
       "      <td>≤44</td>\n",
       "      <td>11</td>\n",
       "      <td>08:00-16:00</td>\n",
       "    </tr>\n",
       "    <tr>\n",
       "      <th>...</th>\n",
       "      <td>...</td>\n",
       "      <td>...</td>\n",
       "      <td>...</td>\n",
       "      <td>...</td>\n",
       "      <td>...</td>\n",
       "      <td>...</td>\n",
       "      <td>...</td>\n",
       "      <td>...</td>\n",
       "      <td>...</td>\n",
       "      <td>...</td>\n",
       "      <td>...</td>\n",
       "      <td>...</td>\n",
       "      <td>...</td>\n",
       "      <td>...</td>\n",
       "    </tr>\n",
       "    <tr>\n",
       "      <th>200854</th>\n",
       "      <td>3353235</td>\n",
       "      <td>Male</td>\n",
       "      <td>50</td>\n",
       "      <td>Caucasian</td>\n",
       "      <td>CHF, congestive heart failure</td>\n",
       "      <td>Cardiac ICU</td>\n",
       "      <td>05:29:00</td>\n",
       "      <td>Emergency Department</td>\n",
       "      <td>1</td>\n",
       "      <td>admit</td>\n",
       "      <td>Alive</td>\n",
       "      <td>45-54</td>\n",
       "      <td>5</td>\n",
       "      <td>00:00-08:00</td>\n",
       "    </tr>\n",
       "    <tr>\n",
       "      <th>200855</th>\n",
       "      <td>3353237</td>\n",
       "      <td>Female</td>\n",
       "      <td>79</td>\n",
       "      <td>Caucasian</td>\n",
       "      <td>Embolus, pulmonary</td>\n",
       "      <td>MICU</td>\n",
       "      <td>01:59:00</td>\n",
       "      <td>Direct Admit</td>\n",
       "      <td>1</td>\n",
       "      <td>admit</td>\n",
       "      <td>Alive</td>\n",
       "      <td>≥75</td>\n",
       "      <td>1</td>\n",
       "      <td>00:00-08:00</td>\n",
       "    </tr>\n",
       "    <tr>\n",
       "      <th>200856</th>\n",
       "      <td>3353251</td>\n",
       "      <td>Male</td>\n",
       "      <td>73</td>\n",
       "      <td>African American</td>\n",
       "      <td>Cardiac arrest (with or without respiratory ar...</td>\n",
       "      <td>Cardiac ICU</td>\n",
       "      <td>16:17:00</td>\n",
       "      <td>Emergency Department</td>\n",
       "      <td>1</td>\n",
       "      <td>admit</td>\n",
       "      <td>Alive</td>\n",
       "      <td>65-74</td>\n",
       "      <td>16</td>\n",
       "      <td>16:00-24:00</td>\n",
       "    </tr>\n",
       "    <tr>\n",
       "      <th>200857</th>\n",
       "      <td>3353254</td>\n",
       "      <td>Male</td>\n",
       "      <td>81</td>\n",
       "      <td>Caucasian</td>\n",
       "      <td>Bleeding, lower GI</td>\n",
       "      <td>Med-Surg ICU</td>\n",
       "      <td>12:14:00</td>\n",
       "      <td>Emergency Department</td>\n",
       "      <td>1</td>\n",
       "      <td>admit</td>\n",
       "      <td>Alive</td>\n",
       "      <td>≥75</td>\n",
       "      <td>12</td>\n",
       "      <td>08:00-16:00</td>\n",
       "    </tr>\n",
       "    <tr>\n",
       "      <th>200858</th>\n",
       "      <td>3353263</td>\n",
       "      <td>Male</td>\n",
       "      <td>35</td>\n",
       "      <td>African American</td>\n",
       "      <td>Embolus, pulmonary</td>\n",
       "      <td>MICU</td>\n",
       "      <td>05:10:00</td>\n",
       "      <td>Emergency Department</td>\n",
       "      <td>1</td>\n",
       "      <td>admit</td>\n",
       "      <td>Alive</td>\n",
       "      <td>≤44</td>\n",
       "      <td>5</td>\n",
       "      <td>00:00-08:00</td>\n",
       "    </tr>\n",
       "  </tbody>\n",
       "</table>\n",
       "<p>175400 rows × 14 columns</p>\n",
       "</div>"
      ]
     },
     "execution_count": 90,
     "metadata": {},
     "output_type": "execute_result"
    }
   ],
   "execution_count": 90
  },
  {
   "metadata": {
    "ExecuteTime": {
     "end_time": "2025-02-06T21:53:35.171327Z",
     "start_time": "2025-02-06T21:53:35.161762Z"
    }
   },
   "cell_type": "code",
   "source": "patient_df_cleaned['apacheadmissiondx'].value_counts()",
   "id": "e5da31feff4eb5e7",
   "outputs": [
    {
     "data": {
      "text/plain": [
       "apacheadmissiondx\n",
       "Sepsis, pulmonary                                 8763\n",
       "Infarction, acute myocardial (MI)                 7073\n",
       "CVA, cerebrovascular accident/stroke              6599\n",
       "CHF, congestive heart failure                     6542\n",
       "Sepsis, renal/UTI (including bladder)             5220\n",
       "                                                  ... \n",
       "Papillary muscle rupture                             2\n",
       "Vena cava clipping                                   2\n",
       "Thyroid neoplasm                                     1\n",
       "Pelvic relaxation (cystocele, rectocele, etc.)       1\n",
       "Myositis, viral                                      1\n",
       "Name: count, Length: 392, dtype: int64"
      ]
     },
     "execution_count": 92,
     "metadata": {},
     "output_type": "execute_result"
    }
   ],
   "execution_count": 92
  },
  {
   "metadata": {},
   "cell_type": "markdown",
   "source": "### Drop unnecessary columns",
   "id": "6f17bdec8ca35786"
  },
  {
   "metadata": {
    "ExecuteTime": {
     "end_time": "2025-02-06T21:57:28.256773Z",
     "start_time": "2025-02-06T21:57:28.243586Z"
    }
   },
   "cell_type": "code",
   "source": "patient_df_cleaned = patient_df_cleaned.drop(columns=[\"age\", \"unitadmittime24\",\"unit_admit_hour\",\"unitvisitnumber\"])",
   "id": "201f0fa20c613669",
   "outputs": [],
   "execution_count": 93
  },
  {
   "metadata": {
    "ExecuteTime": {
     "end_time": "2025-02-06T21:57:32.896582Z",
     "start_time": "2025-02-06T21:57:32.889842Z"
    }
   },
   "cell_type": "code",
   "source": "patient_df_cleaned.head()",
   "id": "9353c81e8eb90385",
   "outputs": [
    {
     "data": {
      "text/plain": [
       "   patientunitstayid  gender  ethnicity  \\\n",
       "0             141168  Female  Caucasian   \n",
       "3             141194    Male  Caucasian   \n",
       "5             141197    Male  Caucasian   \n",
       "6             141203  Female  Caucasian   \n",
       "7             141208  Female  Caucasian   \n",
       "\n",
       "                                   apacheadmissiondx      unittype  \\\n",
       "0      Rhythm disturbance (atrial, supraventricular)  Med-Surg ICU   \n",
       "3              Sepsis, renal/UTI (including bladder)         CTICU   \n",
       "5                                  Sepsis, pulmonary  Med-Surg ICU   \n",
       "6       Arrest, respiratory (without cardiac arrest)  Med-Surg ICU   \n",
       "7  Overdose, sedatives, hypnotics, antipsychotics...  Med-Surg ICU   \n",
       "\n",
       "        unitadmitsource unitstaytype unitdischargestatus age_group  \\\n",
       "0          Direct Admit        admit             Expired     65-74   \n",
       "3                 Floor        admit               Alive     65-74   \n",
       "5  Emergency Department        admit               Alive     65-74   \n",
       "6                 Floor        admit               Alive       ≥75   \n",
       "7  Emergency Department        admit               Alive       ≤44   \n",
       "\n",
       "  unit_admit_period  \n",
       "0       08:00-16:00  \n",
       "3       00:00-08:00  \n",
       "5       16:00-24:00  \n",
       "6       16:00-24:00  \n",
       "7       08:00-16:00  "
      ],
      "text/html": [
       "<div>\n",
       "<style scoped>\n",
       "    .dataframe tbody tr th:only-of-type {\n",
       "        vertical-align: middle;\n",
       "    }\n",
       "\n",
       "    .dataframe tbody tr th {\n",
       "        vertical-align: top;\n",
       "    }\n",
       "\n",
       "    .dataframe thead th {\n",
       "        text-align: right;\n",
       "    }\n",
       "</style>\n",
       "<table border=\"1\" class=\"dataframe\">\n",
       "  <thead>\n",
       "    <tr style=\"text-align: right;\">\n",
       "      <th></th>\n",
       "      <th>patientunitstayid</th>\n",
       "      <th>gender</th>\n",
       "      <th>ethnicity</th>\n",
       "      <th>apacheadmissiondx</th>\n",
       "      <th>unittype</th>\n",
       "      <th>unitadmitsource</th>\n",
       "      <th>unitstaytype</th>\n",
       "      <th>unitdischargestatus</th>\n",
       "      <th>age_group</th>\n",
       "      <th>unit_admit_period</th>\n",
       "    </tr>\n",
       "  </thead>\n",
       "  <tbody>\n",
       "    <tr>\n",
       "      <th>0</th>\n",
       "      <td>141168</td>\n",
       "      <td>Female</td>\n",
       "      <td>Caucasian</td>\n",
       "      <td>Rhythm disturbance (atrial, supraventricular)</td>\n",
       "      <td>Med-Surg ICU</td>\n",
       "      <td>Direct Admit</td>\n",
       "      <td>admit</td>\n",
       "      <td>Expired</td>\n",
       "      <td>65-74</td>\n",
       "      <td>08:00-16:00</td>\n",
       "    </tr>\n",
       "    <tr>\n",
       "      <th>3</th>\n",
       "      <td>141194</td>\n",
       "      <td>Male</td>\n",
       "      <td>Caucasian</td>\n",
       "      <td>Sepsis, renal/UTI (including bladder)</td>\n",
       "      <td>CTICU</td>\n",
       "      <td>Floor</td>\n",
       "      <td>admit</td>\n",
       "      <td>Alive</td>\n",
       "      <td>65-74</td>\n",
       "      <td>00:00-08:00</td>\n",
       "    </tr>\n",
       "    <tr>\n",
       "      <th>5</th>\n",
       "      <td>141197</td>\n",
       "      <td>Male</td>\n",
       "      <td>Caucasian</td>\n",
       "      <td>Sepsis, pulmonary</td>\n",
       "      <td>Med-Surg ICU</td>\n",
       "      <td>Emergency Department</td>\n",
       "      <td>admit</td>\n",
       "      <td>Alive</td>\n",
       "      <td>65-74</td>\n",
       "      <td>16:00-24:00</td>\n",
       "    </tr>\n",
       "    <tr>\n",
       "      <th>6</th>\n",
       "      <td>141203</td>\n",
       "      <td>Female</td>\n",
       "      <td>Caucasian</td>\n",
       "      <td>Arrest, respiratory (without cardiac arrest)</td>\n",
       "      <td>Med-Surg ICU</td>\n",
       "      <td>Floor</td>\n",
       "      <td>admit</td>\n",
       "      <td>Alive</td>\n",
       "      <td>≥75</td>\n",
       "      <td>16:00-24:00</td>\n",
       "    </tr>\n",
       "    <tr>\n",
       "      <th>7</th>\n",
       "      <td>141208</td>\n",
       "      <td>Female</td>\n",
       "      <td>Caucasian</td>\n",
       "      <td>Overdose, sedatives, hypnotics, antipsychotics...</td>\n",
       "      <td>Med-Surg ICU</td>\n",
       "      <td>Emergency Department</td>\n",
       "      <td>admit</td>\n",
       "      <td>Alive</td>\n",
       "      <td>≤44</td>\n",
       "      <td>08:00-16:00</td>\n",
       "    </tr>\n",
       "  </tbody>\n",
       "</table>\n",
       "</div>"
      ]
     },
     "execution_count": 94,
     "metadata": {},
     "output_type": "execute_result"
    }
   ],
   "execution_count": 94
  },
  {
   "metadata": {
    "ExecuteTime": {
     "end_time": "2025-02-06T22:01:56.598488Z",
     "start_time": "2025-02-06T22:01:56.130723Z"
    }
   },
   "cell_type": "code",
   "source": "patient_df_cleaned.to_csv(\"patient_cleaned.csv\")",
   "id": "65413257830b4df2",
   "outputs": [],
   "execution_count": 96
  },
  {
   "metadata": {},
   "cell_type": "code",
   "outputs": [],
   "execution_count": null,
   "source": "",
   "id": "e4e9b267a543fafe"
  }
 ],
 "metadata": {
  "kernelspec": {
   "display_name": "Python 3",
   "language": "python",
   "name": "python3"
  },
  "language_info": {
   "codemirror_mode": {
    "name": "ipython",
    "version": 2
   },
   "file_extension": ".py",
   "mimetype": "text/x-python",
   "name": "python",
   "nbconvert_exporter": "python",
   "pygments_lexer": "ipython2",
   "version": "2.7.6"
  }
 },
 "nbformat": 4,
 "nbformat_minor": 5
}
