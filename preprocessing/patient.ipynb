{
 "cells": [
  {
   "metadata": {},
   "cell_type": "markdown",
   "source": [
    "# Patient\n",
    "\n",
    "Choose `unitDischargeStatus` as the target variable."
   ],
   "id": "4b5aca0372039c1d"
  },
  {
   "metadata": {},
   "cell_type": "code",
   "source": [
    "import pandas as pd\n",
    "import numpy as np\n",
    "import matplotlib.pyplot as plt\n",
    "import seaborn as sns\n",
    "import os\n",
    "import random\n",
    "random.seed(1) \n",
    "np.random.seed(1)"
   ],
   "id": "initial_id",
   "outputs": [],
   "execution_count": null
  },
  {
   "metadata": {},
   "cell_type": "markdown",
   "source": "### Load Data",
   "id": "15c91dea3b89c7ed"
  },
  {
   "metadata": {},
   "cell_type": "code",
   "source": [
    "file_path = r\"E:\\EICU\\eicu-collaborative-research-database-2.0\\patient.csv.gz\"\n",
    "patient_df = pd.read_csv(file_path, compression=\"gzip\", low_memory=False)"
   ],
   "id": "b64827960369fd38",
   "outputs": [],
   "execution_count": null
  },
  {
   "metadata": {},
   "cell_type": "code",
   "source": "patient_df.head()",
   "id": "a78660bfc20ec152",
   "outputs": [],
   "execution_count": null
  },
  {
   "metadata": {},
   "cell_type": "code",
   "source": "patient_df.dtypes",
   "id": "8c079ce38912adab",
   "outputs": [],
   "execution_count": null
  },
  {
   "metadata": {},
   "cell_type": "code",
   "source": "patient_df.shape",
   "id": "19a3ff1b2fdb727d",
   "outputs": [],
   "execution_count": null
  },
  {
   "metadata": {},
   "cell_type": "code",
   "source": "patient_df.describe().transpose()",
   "id": "cd884706a34a8350",
   "outputs": [],
   "execution_count": null
  },
  {
   "metadata": {},
   "cell_type": "code",
   "source": [
    "missing_values = patient_df.isnull().sum()\n",
    "missing_percentage = (missing_values / len(patient_df)) * 100\n",
    "missing_df = pd.DataFrame({\"Missing Count\": missing_values, \"Missing Percentage (%)\": missing_percentage})\n",
    "missing_df = missing_df[missing_df[\"Missing Count\"] > 0].sort_values(by=\"Missing Percentage (%)\", ascending=False)\n",
    "missing_df"
   ],
   "id": "dcf78af1c5f2d8c3",
   "outputs": [],
   "execution_count": null
  },
  {
   "metadata": {},
   "cell_type": "markdown",
   "source": "### drop missing values",
   "id": "97b015aac8b8f84f"
  },
  {
   "metadata": {},
   "cell_type": "code",
   "source": [
    "patient_df_cleaned = patient_df.dropna()\n",
    "patient_df_cleaned.isnull().sum()"
   ],
   "id": "68354c4c02cdab47",
   "outputs": [],
   "execution_count": null
  },
  {
   "metadata": {},
   "cell_type": "code",
   "source": "patient_df_cleaned.shape",
   "id": "1031d6396bf01cab",
   "outputs": [],
   "execution_count": null
  },
  {
   "metadata": {},
   "cell_type": "code",
   "source": "patient_df_cleaned[\"unitdischargestatus\"].value_counts()",
   "id": "a90ae5e8b69ef8da",
   "outputs": [],
   "execution_count": null
  },
  {
   "metadata": {},
   "cell_type": "markdown",
   "source": "### convert age to categorical",
   "id": "d05c7d625ca9b385"
  },
  {
   "metadata": {},
   "cell_type": "code",
   "source": "patient_df_cleaned.loc[:, \"age\"] = patient_df_cleaned[\"age\"].replace(\"> 89\", 90)",
   "id": "fd4a866583cb8670",
   "outputs": [],
   "execution_count": null
  },
  {
   "metadata": {},
   "cell_type": "code",
   "source": "patient_df_cleaned.loc[:,\"age\"] = pd.to_numeric(patient_df_cleaned[\"age\"], errors=\"coerce\") ",
   "id": "1d580b527171e63a",
   "outputs": [],
   "execution_count": null
  },
  {
   "metadata": {},
   "cell_type": "code",
   "source": [
    "age_bins = [0, 44, 54, 64, 74, np.inf]  # 5 bins\n",
    "age_labels = [\"≤44\", \"45-54\", \"55-64\", \"65-74\", \"≥75\"] # corresponding labels\n",
    "patient_df_cleaned.loc[:,\"age_group\"] = pd.cut(patient_df_cleaned[\"age\"], bins=age_bins, labels=age_labels, right=True)"
   ],
   "id": "a687c338e9338eda",
   "outputs": [],
   "execution_count": null
  },
  {
   "metadata": {},
   "cell_type": "code",
   "source": "patient_df_cleaned[\"age_group\"].value_counts()",
   "id": "7918a04b2547a3",
   "outputs": [],
   "execution_count": null
  },
  {
   "metadata": {},
   "cell_type": "code",
   "source": "patient_df_cleaned.isnull().sum()",
   "id": "b7506b5c4219eb56",
   "outputs": [],
   "execution_count": null
  },
  {
   "metadata": {},
   "cell_type": "code",
   "source": "print(patient_df_cleaned[\"age\"].min(), patient_df_cleaned[\"age\"].max()) ",
   "id": "cb9fe804049ad170",
   "outputs": [],
   "execution_count": null
  },
  {
   "metadata": {},
   "cell_type": "code",
   "source": "missing_age_group_rows = patient_df_cleaned[patient_df_cleaned[\"age_group\"].isnull()]",
   "id": "48b65e5714d105ec",
   "outputs": [],
   "execution_count": null
  },
  {
   "metadata": {},
   "cell_type": "code",
   "source": "missing_age_group_rows",
   "id": "3ff9ea1d7f487084",
   "outputs": [],
   "execution_count": null
  },
  {
   "metadata": {},
   "cell_type": "code",
   "source": "patient_df_cleaned['age'].describe()",
   "id": "d073bb15faafb446",
   "outputs": [],
   "execution_count": null
  },
  {
   "metadata": {},
   "cell_type": "code",
   "source": "patient_df_cleaned.loc[patient_df_cleaned[\"age\"] == 0, \"age_group\"] = \"55-64\"",
   "id": "ddd9d158a67920dd",
   "outputs": [],
   "execution_count": null
  },
  {
   "metadata": {},
   "cell_type": "code",
   "source": "patient_df_cleaned.isnull().sum()",
   "id": "bf75a998f810ed41",
   "outputs": [],
   "execution_count": null
  },
  {
   "metadata": {},
   "cell_type": "code",
   "source": "patient_df_cleaned.info()",
   "id": "bdb3e6b012b033af",
   "outputs": [],
   "execution_count": null
  },
  {
   "metadata": {},
   "cell_type": "code",
   "source": "patient_df_cleaned['unitvisitnumber'].value_counts()",
   "id": "23f28f5e4d9c7d73",
   "outputs": [],
   "execution_count": null
  },
  {
   "metadata": {},
   "cell_type": "markdown",
   "source": "### Convert 'unitadmittime24' to categorical",
   "id": "5f6c80c863324c63"
  },
  {
   "metadata": {},
   "cell_type": "code",
   "source": [
    "patient_df_cleaned[\"unit_admit_hour\"] = patient_df_cleaned[\"unitadmittime24\"].str.slice(0, 2).astype(int)\n",
    "\n",
    "def classify_time(hour):\n",
    "    if 8 <= hour < 16:\n",
    "        return \"08:00-16:00\"\n",
    "    elif 16 <= hour < 24:\n",
    "        return \"16:00-24:00\"\n",
    "    else:\n",
    "        return \"00:00-08:00\"\n",
    "\n",
    "patient_df_cleaned[\"unit_admit_period\"] = patient_df_cleaned[\"unit_admit_hour\"].apply(classify_time)\n"
   ],
   "id": "fa4d19ed2ceeb8aa",
   "outputs": [],
   "execution_count": null
  },
  {
   "metadata": {},
   "cell_type": "code",
   "source": "patient_df_cleaned[\"unit_admit_period\"].value_counts()",
   "id": "da866fb6500d54f1",
   "outputs": [],
   "execution_count": null
  },
  {
   "metadata": {},
   "cell_type": "code",
   "source": "patient_df_cleaned.isnull().sum()",
   "id": "7b891116406008c2",
   "outputs": [],
   "execution_count": null
  },
  {
   "metadata": {},
   "cell_type": "code",
   "source": "patient_df_cleaned",
   "id": "1a4c69a59dcfe92e",
   "outputs": [],
   "execution_count": null
  },
  {
   "metadata": {},
   "cell_type": "code",
   "source": "patient_df_cleaned['apacheadmissiondx'].value_counts()",
   "id": "e5da31feff4eb5e7",
   "outputs": [],
   "execution_count": null
  },
  {
   "metadata": {},
   "cell_type": "markdown",
   "source": "### Drop unnecessary columns",
   "id": "6f17bdec8ca35786"
  },
  {
   "metadata": {},
   "cell_type": "code",
   "source": "patient_df_cleaned = patient_df_cleaned.drop(columns=[\"unit_admit_hour\",\"unitvisitnumber\"])",
   "id": "201f0fa20c613669",
   "outputs": [],
   "execution_count": null
  },
  {
   "metadata": {},
   "cell_type": "code",
   "source": "patient_df_cleaned.head()",
   "id": "9353c81e8eb90385",
   "outputs": [],
   "execution_count": null
  },
  {
   "metadata": {},
   "cell_type": "code",
   "source": [
    "# admission\n",
    "\n",
    "def classify_admission(source):\n",
    "    if isinstance(source, str):\n",
    "        emergency_keywords = [\"Emergency\", \"ICU\"]\n",
    "        elective_keywords = [\"Acute Care\", \"Chest Pain Center\",\"Direct Admit\", \"Floor\", \"Observation\", \"Operating Room\", \"PACU\", \"Recovery\", \"Step-Down\", \"Other Hospital\",\"Other\"]\n",
    "\n",
    "        if any(keyword in source for keyword in emergency_keywords):\n",
    "            return \"Emergency\"\n",
    "        elif any(keyword in source for keyword in elective_keywords):\n",
    "            return \"Elective\"\n",
    "        else:\n",
    "            return \"Unknown\"\n",
    "    \n",
    "# apply the function to patient_df\n",
    "patient_df_cleaned[\"admission_type\"] = patient_df[\"unitadmitsource\"].apply(classify_admission)\n"
   ],
   "id": "f45b3fd70ea79ab9",
   "outputs": [],
   "execution_count": null
  },
  {
   "metadata": {},
   "cell_type": "code",
   "source": "patient_df_cleaned[\"admission_type\"].value_counts()",
   "id": "938acd9a6080448e",
   "outputs": [],
   "execution_count": null
  },
  {
   "metadata": {},
   "cell_type": "code",
   "source": "patient_df_cleaned.to_csv(\"patient_cleaned.csv\")",
   "id": "65413257830b4df2",
   "outputs": [],
   "execution_count": null
  },
  {
   "metadata": {},
   "cell_type": "code",
   "source": "patient_df_cleaned",
   "id": "e4e9b267a543fafe",
   "outputs": [],
   "execution_count": null
  },
  {
   "metadata": {},
   "cell_type": "code",
   "source": "patient_df_cleaned[\"patientunitstayid\"].nunique()",
   "id": "712e31117092e4f4",
   "outputs": [],
   "execution_count": null
  },
  {
   "metadata": {},
   "cell_type": "code",
   "source": "patient_df_cleaned[\"ethnicity\"].value_counts()",
   "id": "82dc35252de22b14",
   "outputs": [],
   "execution_count": null
  },
  {
   "metadata": {},
   "cell_type": "code",
   "source": "",
   "id": "265d59a468c7df75",
   "outputs": [],
   "execution_count": null
  }
 ],
 "metadata": {
  "kernelspec": {
   "display_name": "Python 3",
   "language": "python",
   "name": "python3"
  },
  "language_info": {
   "codemirror_mode": {
    "name": "ipython",
    "version": 2
   },
   "file_extension": ".py",
   "mimetype": "text/x-python",
   "name": "python",
   "nbconvert_exporter": "python",
   "pygments_lexer": "ipython2",
   "version": "2.7.6"
  }
 },
 "nbformat": 4,
 "nbformat_minor": 5
}
