{
 "cells": [
  {
   "metadata": {},
   "cell_type": "markdown",
   "source": "# Diagnosis",
   "id": "42dbbf36cb80b9f1"
  },
  {
   "metadata": {
    "ExecuteTime": {
     "end_time": "2025-02-14T03:29:53.910973Z",
     "start_time": "2025-02-14T03:29:53.907196Z"
    }
   },
   "cell_type": "code",
   "source": [
    "import pandas as pd\n",
    "import numpy as np\n",
    "import matplotlib.pyplot as plt\n",
    "import seaborn as sns\n",
    "import os\n",
    "import random\n",
    "random.seed(1) \n",
    "np.random.seed(1)"
   ],
   "id": "initial_id",
   "outputs": [],
   "execution_count": 1
  },
  {
   "metadata": {},
   "cell_type": "markdown",
   "source": "### Load Data",
   "id": "60f8c5777e7df72a"
  },
  {
   "metadata": {
    "ExecuteTime": {
     "end_time": "2025-02-14T03:49:27.495224Z",
     "start_time": "2025-02-14T03:49:25.772895Z"
    }
   },
   "cell_type": "code",
   "source": [
    "file_path = r\"E:\\EICU\\eicu-collaborative-research-database-2.0\\diagnosis.csv.gz\"\n",
    "diagnosis_df = pd.read_csv(file_path, compression=\"gzip\", low_memory=False, usecols=[\"patientunitstayid\", \"diagnosisstring\"])"
   ],
   "id": "d2965460130c2631",
   "outputs": [],
   "execution_count": 17
  },
  {
   "metadata": {
    "ExecuteTime": {
     "end_time": "2025-02-14T03:49:27.978461Z",
     "start_time": "2025-02-14T03:49:27.974036Z"
    }
   },
   "cell_type": "code",
   "source": "len(diagnosis_df)",
   "id": "f9b9defe719596a6",
   "outputs": [
    {
     "data": {
      "text/plain": [
       "2710672"
      ]
     },
     "execution_count": 18,
     "metadata": {},
     "output_type": "execute_result"
    }
   ],
   "execution_count": 18
  },
  {
   "metadata": {
    "ExecuteTime": {
     "end_time": "2025-02-14T03:49:28.900552Z",
     "start_time": "2025-02-14T03:49:28.894341Z"
    }
   },
   "cell_type": "code",
   "source": "diagnosis_df.head()",
   "id": "5f02119ee9869f08",
   "outputs": [
    {
     "data": {
      "text/plain": [
       "   patientunitstayid                                    diagnosisstring\n",
       "0             141168  cardiovascular|chest pain / ASHD|coronary arte...\n",
       "1             141168  cardiovascular|ventricular disorders|cardiomyo...\n",
       "2             141168            pulmonary|disorders of the airways|COPD\n",
       "3             141168            pulmonary|disorders of the airways|COPD\n",
       "4             141168  cardiovascular|ventricular disorders|congestiv..."
      ],
      "text/html": [
       "<div>\n",
       "<style scoped>\n",
       "    .dataframe tbody tr th:only-of-type {\n",
       "        vertical-align: middle;\n",
       "    }\n",
       "\n",
       "    .dataframe tbody tr th {\n",
       "        vertical-align: top;\n",
       "    }\n",
       "\n",
       "    .dataframe thead th {\n",
       "        text-align: right;\n",
       "    }\n",
       "</style>\n",
       "<table border=\"1\" class=\"dataframe\">\n",
       "  <thead>\n",
       "    <tr style=\"text-align: right;\">\n",
       "      <th></th>\n",
       "      <th>patientunitstayid</th>\n",
       "      <th>diagnosisstring</th>\n",
       "    </tr>\n",
       "  </thead>\n",
       "  <tbody>\n",
       "    <tr>\n",
       "      <th>0</th>\n",
       "      <td>141168</td>\n",
       "      <td>cardiovascular|chest pain / ASHD|coronary arte...</td>\n",
       "    </tr>\n",
       "    <tr>\n",
       "      <th>1</th>\n",
       "      <td>141168</td>\n",
       "      <td>cardiovascular|ventricular disorders|cardiomyo...</td>\n",
       "    </tr>\n",
       "    <tr>\n",
       "      <th>2</th>\n",
       "      <td>141168</td>\n",
       "      <td>pulmonary|disorders of the airways|COPD</td>\n",
       "    </tr>\n",
       "    <tr>\n",
       "      <th>3</th>\n",
       "      <td>141168</td>\n",
       "      <td>pulmonary|disorders of the airways|COPD</td>\n",
       "    </tr>\n",
       "    <tr>\n",
       "      <th>4</th>\n",
       "      <td>141168</td>\n",
       "      <td>cardiovascular|ventricular disorders|congestiv...</td>\n",
       "    </tr>\n",
       "  </tbody>\n",
       "</table>\n",
       "</div>"
      ]
     },
     "execution_count": 19,
     "metadata": {},
     "output_type": "execute_result"
    }
   ],
   "execution_count": 19
  },
  {
   "metadata": {
    "ExecuteTime": {
     "end_time": "2025-02-14T03:49:30.586071Z",
     "start_time": "2025-02-14T03:49:30.529774Z"
    }
   },
   "cell_type": "code",
   "source": "diagnosis_df.isnull().sum()",
   "id": "a7407bb05b25b23f",
   "outputs": [
    {
     "data": {
      "text/plain": [
       "patientunitstayid    0\n",
       "diagnosisstring      0\n",
       "dtype: int64"
      ]
     },
     "execution_count": 20,
     "metadata": {},
     "output_type": "execute_result"
    }
   ],
   "execution_count": 20
  },
  {
   "metadata": {},
   "cell_type": "markdown",
   "source": "### Extract Diagnosis",
   "id": "6009a42fc93c9281"
  },
  {
   "metadata": {
    "ExecuteTime": {
     "end_time": "2025-02-14T03:49:34.426425Z",
     "start_time": "2025-02-14T03:49:34.353294Z"
    }
   },
   "cell_type": "code",
   "source": "diagnosis_df.diagnosisstring.value_counts()",
   "id": "6dd60ce6d66b8bcc",
   "outputs": [
    {
     "data": {
      "text/plain": [
       "diagnosisstring\n",
       "pulmonary|respiratory failure|acute respiratory failure                     97836\n",
       "renal|disorder of kidney|acute renal failure                                65313\n",
       "endocrine|glucose metabolism|diabetes mellitus                              44491\n",
       "neurologic|altered mental status / pain|change in mental status             41034\n",
       "pulmonary|pulmonary infections|pneumonia                                    39729\n",
       "                                                                            ...  \n",
       "renal|disorder of acid base|metabolic acidosis|due to acetazolamide             1\n",
       "surgery|renal issues|metabolic acidosis|normal anion gap                        1\n",
       "cardiovascular|cardiac surgery|valve replacement >= 7 days|pulmonic             1\n",
       "general|congenital anomalies|genital organ anomaly                              1\n",
       "infectious diseases|head and neck infections|upper respiratory infection        1\n",
       "Name: count, Length: 3933, dtype: int64"
      ]
     },
     "execution_count": 21,
     "metadata": {},
     "output_type": "execute_result"
    }
   ],
   "execution_count": 21
  },
  {
   "metadata": {
    "ExecuteTime": {
     "end_time": "2025-02-14T03:49:52.083245Z",
     "start_time": "2025-02-14T03:49:49.382065Z"
    }
   },
   "cell_type": "code",
   "source": [
    "diagnosis_df[\"diagnosisstring\"] = diagnosis_df[\"diagnosisstring\"].astype(str).str.lower()\n",
    "\n",
    "# Create binary columns for COPD, Diabetes, and Metastasis using broader matching\n",
    "diagnosis_df[\"has_COPD\"] = diagnosis_df[\"diagnosisstring\"].str.contains(r\"copd|chronic obstructive pulmonary disease\", na=False).astype(int)\n",
    "diagnosis_df[\"has_Diabetes\"] = diagnosis_df[\"diagnosisstring\"].str.contains(r\"diabetes\", na=False).astype(int)\n",
    "diagnosis_df[\"has_Metastasis\"] = diagnosis_df[\"diagnosisstring\"].str.contains(r\"metastasis|metastatic|cancer metastasis\", na=False).astype(int)"
   ],
   "id": "6490e4d8c3715ec2",
   "outputs": [],
   "execution_count": 22
  },
  {
   "metadata": {
    "ExecuteTime": {
     "end_time": "2025-02-14T03:49:57.630983Z",
     "start_time": "2025-02-14T03:49:54.215781Z"
    }
   },
   "cell_type": "code",
   "source": "diagnosis_df.to_csv(\"processed_diagnosis.csv\", index=False)",
   "id": "fd98825418b3ac7c",
   "outputs": [],
   "execution_count": 23
  },
  {
   "metadata": {
    "ExecuteTime": {
     "end_time": "2025-02-14T03:49:58.999748Z",
     "start_time": "2025-02-14T03:49:58.991290Z"
    }
   },
   "cell_type": "code",
   "source": "diagnosis_df.head()",
   "id": "cb93feb5a60f27dd",
   "outputs": [
    {
     "data": {
      "text/plain": [
       "   patientunitstayid                                    diagnosisstring  \\\n",
       "0             141168  cardiovascular|chest pain / ashd|coronary arte...   \n",
       "1             141168  cardiovascular|ventricular disorders|cardiomyo...   \n",
       "2             141168            pulmonary|disorders of the airways|copd   \n",
       "3             141168            pulmonary|disorders of the airways|copd   \n",
       "4             141168  cardiovascular|ventricular disorders|congestiv...   \n",
       "\n",
       "   has_COPD  has_Diabetes  has_Metastasis  \n",
       "0         0             0               0  \n",
       "1         0             0               0  \n",
       "2         1             0               0  \n",
       "3         1             0               0  \n",
       "4         0             0               0  "
      ],
      "text/html": [
       "<div>\n",
       "<style scoped>\n",
       "    .dataframe tbody tr th:only-of-type {\n",
       "        vertical-align: middle;\n",
       "    }\n",
       "\n",
       "    .dataframe tbody tr th {\n",
       "        vertical-align: top;\n",
       "    }\n",
       "\n",
       "    .dataframe thead th {\n",
       "        text-align: right;\n",
       "    }\n",
       "</style>\n",
       "<table border=\"1\" class=\"dataframe\">\n",
       "  <thead>\n",
       "    <tr style=\"text-align: right;\">\n",
       "      <th></th>\n",
       "      <th>patientunitstayid</th>\n",
       "      <th>diagnosisstring</th>\n",
       "      <th>has_COPD</th>\n",
       "      <th>has_Diabetes</th>\n",
       "      <th>has_Metastasis</th>\n",
       "    </tr>\n",
       "  </thead>\n",
       "  <tbody>\n",
       "    <tr>\n",
       "      <th>0</th>\n",
       "      <td>141168</td>\n",
       "      <td>cardiovascular|chest pain / ashd|coronary arte...</td>\n",
       "      <td>0</td>\n",
       "      <td>0</td>\n",
       "      <td>0</td>\n",
       "    </tr>\n",
       "    <tr>\n",
       "      <th>1</th>\n",
       "      <td>141168</td>\n",
       "      <td>cardiovascular|ventricular disorders|cardiomyo...</td>\n",
       "      <td>0</td>\n",
       "      <td>0</td>\n",
       "      <td>0</td>\n",
       "    </tr>\n",
       "    <tr>\n",
       "      <th>2</th>\n",
       "      <td>141168</td>\n",
       "      <td>pulmonary|disorders of the airways|copd</td>\n",
       "      <td>1</td>\n",
       "      <td>0</td>\n",
       "      <td>0</td>\n",
       "    </tr>\n",
       "    <tr>\n",
       "      <th>3</th>\n",
       "      <td>141168</td>\n",
       "      <td>pulmonary|disorders of the airways|copd</td>\n",
       "      <td>1</td>\n",
       "      <td>0</td>\n",
       "      <td>0</td>\n",
       "    </tr>\n",
       "    <tr>\n",
       "      <th>4</th>\n",
       "      <td>141168</td>\n",
       "      <td>cardiovascular|ventricular disorders|congestiv...</td>\n",
       "      <td>0</td>\n",
       "      <td>0</td>\n",
       "      <td>0</td>\n",
       "    </tr>\n",
       "  </tbody>\n",
       "</table>\n",
       "</div>"
      ]
     },
     "execution_count": 24,
     "metadata": {},
     "output_type": "execute_result"
    }
   ],
   "execution_count": 24
  },
  {
   "metadata": {
    "ExecuteTime": {
     "end_time": "2025-02-14T03:50:00.576546Z",
     "start_time": "2025-02-14T03:50:00.561696Z"
    }
   },
   "cell_type": "code",
   "source": "diagnosis_df.has_COPD.value_counts()",
   "id": "2bd9aac9ac5f6b4",
   "outputs": [
    {
     "data": {
      "text/plain": [
       "has_COPD\n",
       "0    2662302\n",
       "1      48370\n",
       "Name: count, dtype: int64"
      ]
     },
     "execution_count": 25,
     "metadata": {},
     "output_type": "execute_result"
    }
   ],
   "execution_count": 25
  },
  {
   "metadata": {
    "ExecuteTime": {
     "end_time": "2025-02-14T03:50:01.479023Z",
     "start_time": "2025-02-14T03:50:01.465417Z"
    }
   },
   "cell_type": "code",
   "source": "diagnosis_df.has_Diabetes.value_counts()",
   "id": "c0a4ddc6a6db774a",
   "outputs": [
    {
     "data": {
      "text/plain": [
       "has_Diabetes\n",
       "0    2642568\n",
       "1      68104\n",
       "Name: count, dtype: int64"
      ]
     },
     "execution_count": 26,
     "metadata": {},
     "output_type": "execute_result"
    }
   ],
   "execution_count": 26
  },
  {
   "metadata": {
    "ExecuteTime": {
     "end_time": "2025-02-14T03:50:02.948237Z",
     "start_time": "2025-02-14T03:50:02.934245Z"
    }
   },
   "cell_type": "code",
   "source": "diagnosis_df.has_Metastasis.value_counts()",
   "id": "ef89ed7b1bf96235",
   "outputs": [
    {
     "data": {
      "text/plain": [
       "has_Metastasis\n",
       "0    2706077\n",
       "1       4595\n",
       "Name: count, dtype: int64"
      ]
     },
     "execution_count": 27,
     "metadata": {},
     "output_type": "execute_result"
    }
   ],
   "execution_count": 27
  },
  {
   "metadata": {
    "ExecuteTime": {
     "end_time": "2025-02-06T23:38:49.020342Z",
     "start_time": "2025-02-06T23:38:48.104077Z"
    }
   },
   "cell_type": "code",
   "source": "diagnosis_df.diagnosisstring.map(lambda x: len(x.split('|'))).min()",
   "id": "dcd49891972f1242",
   "outputs": [
    {
     "data": {
      "text/plain": [
       "3"
      ]
     },
     "execution_count": 11,
     "metadata": {},
     "output_type": "execute_result"
    }
   ],
   "execution_count": 11
  },
  {
   "metadata": {
    "ExecuteTime": {
     "end_time": "2025-02-06T23:38:52.579754Z",
     "start_time": "2025-02-06T23:38:51.661370Z"
    }
   },
   "cell_type": "code",
   "source": "diagnosis_df.diagnosisstring.map(lambda x: len(x.split('|'))).max()",
   "id": "66ff34f870387195",
   "outputs": [
    {
     "data": {
      "text/plain": [
       "6"
      ]
     },
     "execution_count": 12,
     "metadata": {},
     "output_type": "execute_result"
    }
   ],
   "execution_count": 12
  },
  {
   "metadata": {
    "ExecuteTime": {
     "end_time": "2025-02-06T23:54:03.362224Z",
     "start_time": "2025-02-06T23:54:03.331548Z"
    }
   },
   "cell_type": "code",
   "source": "diagnosis_df[\"diagnosisstring\"] = diagnosis_df[\"diagnosisstring\"].astype(str)",
   "id": "61444c1ec46c8911",
   "outputs": [],
   "execution_count": 14
  },
  {
   "metadata": {
    "ExecuteTime": {
     "end_time": "2025-02-06T23:54:23.874307Z",
     "start_time": "2025-02-06T23:54:21.030719Z"
    }
   },
   "cell_type": "code",
   "source": "diagnosis_df[\"diagnosis_split\"] = diagnosis_df[\"diagnosisstring\"].str.split('|')",
   "id": "7c31d6066569c819",
   "outputs": [],
   "execution_count": 15
  },
  {
   "metadata": {
    "ExecuteTime": {
     "end_time": "2025-02-06T23:54:27.743779Z",
     "start_time": "2025-02-06T23:54:26.376747Z"
    }
   },
   "cell_type": "code",
   "source": [
    "diagnosis_df[\"diagnosis_type_1\"] = diagnosis_df[\"diagnosis_split\"].apply(lambda x: x[0] if len(x) > 0 else None)\n",
    "diagnosis_df[\"diagnosis_disorder_2\"] = diagnosis_df[\"diagnosis_split\"].apply(lambda x: x[1] if len(x) > 1 else None)\n",
    "diagnosis_df[\"diagnosis_detailed_3\"] = diagnosis_df[\"diagnosis_split\"].apply(lambda x: '|'.join(x[2:]) if len(x) > 2 else None)\n"
   ],
   "id": "b10fcfc8ab363700",
   "outputs": [],
   "execution_count": 16
  },
  {
   "metadata": {
    "ExecuteTime": {
     "end_time": "2025-02-06T23:54:48.267105Z",
     "start_time": "2025-02-06T23:54:47.831799Z"
    }
   },
   "cell_type": "code",
   "source": "diagnosis_df = diagnosis_df.drop(columns=[\"diagnosis_split\"])",
   "id": "2d8d97f89b1bf47a",
   "outputs": [],
   "execution_count": 17
  },
  {
   "metadata": {
    "ExecuteTime": {
     "end_time": "2025-02-06T23:54:50.855666Z",
     "start_time": "2025-02-06T23:54:50.848833Z"
    }
   },
   "cell_type": "code",
   "source": "diagnosis_df.head()",
   "id": "51f65277fa8158c4",
   "outputs": [
    {
     "data": {
      "text/plain": [
       "   patientunitstayid                                    diagnosisstring  \\\n",
       "0             141168  cardiovascular|chest pain / ASHD|coronary arte...   \n",
       "1             141168  cardiovascular|ventricular disorders|cardiomyo...   \n",
       "2             141168            pulmonary|disorders of the airways|COPD   \n",
       "3             141168            pulmonary|disorders of the airways|COPD   \n",
       "4             141168  cardiovascular|ventricular disorders|congestiv...   \n",
       "\n",
       "  diagnosis_type_1      diagnosis_disorder_2           diagnosis_detailed_3  \n",
       "0   cardiovascular         chest pain / ASHD  coronary artery disease|known  \n",
       "1   cardiovascular     ventricular disorders                 cardiomyopathy  \n",
       "2        pulmonary  disorders of the airways                           COPD  \n",
       "3        pulmonary  disorders of the airways                           COPD  \n",
       "4   cardiovascular     ventricular disorders       congestive heart failure  "
      ],
      "text/html": [
       "<div>\n",
       "<style scoped>\n",
       "    .dataframe tbody tr th:only-of-type {\n",
       "        vertical-align: middle;\n",
       "    }\n",
       "\n",
       "    .dataframe tbody tr th {\n",
       "        vertical-align: top;\n",
       "    }\n",
       "\n",
       "    .dataframe thead th {\n",
       "        text-align: right;\n",
       "    }\n",
       "</style>\n",
       "<table border=\"1\" class=\"dataframe\">\n",
       "  <thead>\n",
       "    <tr style=\"text-align: right;\">\n",
       "      <th></th>\n",
       "      <th>patientunitstayid</th>\n",
       "      <th>diagnosisstring</th>\n",
       "      <th>diagnosis_type_1</th>\n",
       "      <th>diagnosis_disorder_2</th>\n",
       "      <th>diagnosis_detailed_3</th>\n",
       "    </tr>\n",
       "  </thead>\n",
       "  <tbody>\n",
       "    <tr>\n",
       "      <th>0</th>\n",
       "      <td>141168</td>\n",
       "      <td>cardiovascular|chest pain / ASHD|coronary arte...</td>\n",
       "      <td>cardiovascular</td>\n",
       "      <td>chest pain / ASHD</td>\n",
       "      <td>coronary artery disease|known</td>\n",
       "    </tr>\n",
       "    <tr>\n",
       "      <th>1</th>\n",
       "      <td>141168</td>\n",
       "      <td>cardiovascular|ventricular disorders|cardiomyo...</td>\n",
       "      <td>cardiovascular</td>\n",
       "      <td>ventricular disorders</td>\n",
       "      <td>cardiomyopathy</td>\n",
       "    </tr>\n",
       "    <tr>\n",
       "      <th>2</th>\n",
       "      <td>141168</td>\n",
       "      <td>pulmonary|disorders of the airways|COPD</td>\n",
       "      <td>pulmonary</td>\n",
       "      <td>disorders of the airways</td>\n",
       "      <td>COPD</td>\n",
       "    </tr>\n",
       "    <tr>\n",
       "      <th>3</th>\n",
       "      <td>141168</td>\n",
       "      <td>pulmonary|disorders of the airways|COPD</td>\n",
       "      <td>pulmonary</td>\n",
       "      <td>disorders of the airways</td>\n",
       "      <td>COPD</td>\n",
       "    </tr>\n",
       "    <tr>\n",
       "      <th>4</th>\n",
       "      <td>141168</td>\n",
       "      <td>cardiovascular|ventricular disorders|congestiv...</td>\n",
       "      <td>cardiovascular</td>\n",
       "      <td>ventricular disorders</td>\n",
       "      <td>congestive heart failure</td>\n",
       "    </tr>\n",
       "  </tbody>\n",
       "</table>\n",
       "</div>"
      ]
     },
     "execution_count": 18,
     "metadata": {},
     "output_type": "execute_result"
    }
   ],
   "execution_count": 18
  },
  {
   "metadata": {
    "ExecuteTime": {
     "end_time": "2025-02-06T23:55:21.370962Z",
     "start_time": "2025-02-06T23:55:21.234634Z"
    }
   },
   "cell_type": "code",
   "source": "diagnosis_df.diagnosis_type_1.value_counts()",
   "id": "48e79a3e82428b19",
   "outputs": [
    {
     "data": {
      "text/plain": [
       "diagnosis_type_1\n",
       "cardiovascular           705966\n",
       "pulmonary                473721\n",
       "neurologic               329192\n",
       "renal                    304523\n",
       "gastrointestinal         242437\n",
       "endocrine                183125\n",
       "infectious diseases      156811\n",
       "hematology               138990\n",
       "burns/trauma              80324\n",
       "oncology                  31914\n",
       "toxicology                26923\n",
       "surgery                   22279\n",
       "general                    8869\n",
       "transplant                 5423\n",
       "obstetrics/gynecology        94\n",
       "genitourinary                44\n",
       "musculoskeletal              37\n",
       "Name: count, dtype: int64"
      ]
     },
     "execution_count": 19,
     "metadata": {},
     "output_type": "execute_result"
    }
   ],
   "execution_count": 19
  },
  {
   "metadata": {
    "ExecuteTime": {
     "end_time": "2025-02-06T23:55:27.124064Z",
     "start_time": "2025-02-06T23:55:26.964831Z"
    }
   },
   "cell_type": "code",
   "source": "diagnosis_df.diagnosis_disorder_2.value_counts()",
   "id": "5dc85afd05359223",
   "outputs": [
    {
     "data": {
      "text/plain": [
       "diagnosis_disorder_2\n",
       "respiratory failure                      246048\n",
       "altered mental status / pain             190489\n",
       "shock / hypotension                      187767\n",
       "disorder of kidney                       144747\n",
       "glucose metabolism                       142748\n",
       "                                          ...  \n",
       "adverse effect of external cause              6\n",
       "signs/symptoms/ill-defined conditions         5\n",
       "inflammatory                                  3\n",
       "thymus                                        2\n",
       "breast disorder                               1\n",
       "Name: count, Length: 131, dtype: int64"
      ]
     },
     "execution_count": 20,
     "metadata": {},
     "output_type": "execute_result"
    }
   ],
   "execution_count": 20
  },
  {
   "metadata": {
    "ExecuteTime": {
     "end_time": "2025-02-06T23:55:30.089570Z",
     "start_time": "2025-02-06T23:55:29.887527Z"
    }
   },
   "cell_type": "code",
   "source": "diagnosis_df.diagnosis_detailed_3.value_counts()",
   "id": "8cd19c3a511a7658",
   "outputs": [
    {
     "data": {
      "text/plain": [
       "diagnosis_detailed_3\n",
       "acute respiratory failure                              97836\n",
       "acute renal failure                                    65419\n",
       "hypertension                                           59530\n",
       "pneumonia                                              50955\n",
       "diabetes mellitus                                      44491\n",
       "                                                       ...  \n",
       "hemorrhage|vital signs unstable                            1\n",
       "brain tumor|with carcinomatous meningitis                  1\n",
       "adverse effect: heat/light                                 1\n",
       "neuosurgical bleeding|possible coagulopathy present        1\n",
       "other adverse effect                                       1\n",
       "Name: count, Length: 3197, dtype: int64"
      ]
     },
     "execution_count": 21,
     "metadata": {},
     "output_type": "execute_result"
    }
   ],
   "execution_count": 21
  },
  {
   "metadata": {
    "ExecuteTime": {
     "end_time": "2025-02-07T00:12:40.330695Z",
     "start_time": "2025-02-07T00:12:40.230831Z"
    }
   },
   "cell_type": "code",
   "source": "diagnosis_df.drop(columns=[\"diagnosisstring\",'diagnosis_disorder_2','diagnosis_detailed_3'])",
   "id": "a0ef868e76e331a4",
   "outputs": [
    {
     "data": {
      "text/plain": [
       "         patientunitstayid  diagnosis_type_1\n",
       "0                   141168    cardiovascular\n",
       "1                   141168    cardiovascular\n",
       "2                   141168         pulmonary\n",
       "3                   141168         pulmonary\n",
       "4                   141168    cardiovascular\n",
       "...                    ...               ...\n",
       "2710667            3353251             renal\n",
       "2710668            3353251    cardiovascular\n",
       "2710669            3353254             renal\n",
       "2710670            3353254  gastrointestinal\n",
       "2710671            3353263         pulmonary\n",
       "\n",
       "[2710672 rows x 2 columns]"
      ],
      "text/html": [
       "<div>\n",
       "<style scoped>\n",
       "    .dataframe tbody tr th:only-of-type {\n",
       "        vertical-align: middle;\n",
       "    }\n",
       "\n",
       "    .dataframe tbody tr th {\n",
       "        vertical-align: top;\n",
       "    }\n",
       "\n",
       "    .dataframe thead th {\n",
       "        text-align: right;\n",
       "    }\n",
       "</style>\n",
       "<table border=\"1\" class=\"dataframe\">\n",
       "  <thead>\n",
       "    <tr style=\"text-align: right;\">\n",
       "      <th></th>\n",
       "      <th>patientunitstayid</th>\n",
       "      <th>diagnosis_type_1</th>\n",
       "    </tr>\n",
       "  </thead>\n",
       "  <tbody>\n",
       "    <tr>\n",
       "      <th>0</th>\n",
       "      <td>141168</td>\n",
       "      <td>cardiovascular</td>\n",
       "    </tr>\n",
       "    <tr>\n",
       "      <th>1</th>\n",
       "      <td>141168</td>\n",
       "      <td>cardiovascular</td>\n",
       "    </tr>\n",
       "    <tr>\n",
       "      <th>2</th>\n",
       "      <td>141168</td>\n",
       "      <td>pulmonary</td>\n",
       "    </tr>\n",
       "    <tr>\n",
       "      <th>3</th>\n",
       "      <td>141168</td>\n",
       "      <td>pulmonary</td>\n",
       "    </tr>\n",
       "    <tr>\n",
       "      <th>4</th>\n",
       "      <td>141168</td>\n",
       "      <td>cardiovascular</td>\n",
       "    </tr>\n",
       "    <tr>\n",
       "      <th>...</th>\n",
       "      <td>...</td>\n",
       "      <td>...</td>\n",
       "    </tr>\n",
       "    <tr>\n",
       "      <th>2710667</th>\n",
       "      <td>3353251</td>\n",
       "      <td>renal</td>\n",
       "    </tr>\n",
       "    <tr>\n",
       "      <th>2710668</th>\n",
       "      <td>3353251</td>\n",
       "      <td>cardiovascular</td>\n",
       "    </tr>\n",
       "    <tr>\n",
       "      <th>2710669</th>\n",
       "      <td>3353254</td>\n",
       "      <td>renal</td>\n",
       "    </tr>\n",
       "    <tr>\n",
       "      <th>2710670</th>\n",
       "      <td>3353254</td>\n",
       "      <td>gastrointestinal</td>\n",
       "    </tr>\n",
       "    <tr>\n",
       "      <th>2710671</th>\n",
       "      <td>3353263</td>\n",
       "      <td>pulmonary</td>\n",
       "    </tr>\n",
       "  </tbody>\n",
       "</table>\n",
       "<p>2710672 rows × 2 columns</p>\n",
       "</div>"
      ]
     },
     "execution_count": 24,
     "metadata": {},
     "output_type": "execute_result"
    }
   ],
   "execution_count": 24
  },
  {
   "metadata": {
    "ExecuteTime": {
     "end_time": "2025-02-07T00:13:30.873978Z",
     "start_time": "2025-02-07T00:13:25.870710Z"
    }
   },
   "cell_type": "code",
   "source": "diagnosis_df.to_csv('diagnosis_cleaned.csv',index=False)",
   "id": "2b01783b72a4b879",
   "outputs": [],
   "execution_count": 25
  },
  {
   "metadata": {},
   "cell_type": "code",
   "outputs": [],
   "execution_count": null,
   "source": "",
   "id": "369c9e4aee1e90d2"
  }
 ],
 "metadata": {
  "kernelspec": {
   "display_name": "Python 3",
   "language": "python",
   "name": "python3"
  },
  "language_info": {
   "codemirror_mode": {
    "name": "ipython",
    "version": 2
   },
   "file_extension": ".py",
   "mimetype": "text/x-python",
   "name": "python",
   "nbconvert_exporter": "python",
   "pygments_lexer": "ipython2",
   "version": "2.7.6"
  }
 },
 "nbformat": 4,
 "nbformat_minor": 5
}
