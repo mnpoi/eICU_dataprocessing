{
 "cells": [
  {
   "metadata": {},
   "cell_type": "markdown",
   "source": "# vitalAperiodic & vitalPeriodic",
   "id": "fb25b60a2f432845"
  },
  {
   "metadata": {
    "ExecuteTime": {
     "end_time": "2025-02-07T05:51:12.633249Z",
     "start_time": "2025-02-07T05:51:12.629683Z"
    }
   },
   "cell_type": "code",
   "source": [
    "import pandas as pd\n",
    "import numpy as np\n",
    "import matplotlib.pyplot as plt\n",
    "import seaborn as sns\n",
    "import os\n",
    "import random\n",
    "random.seed(1) \n",
    "np.random.seed(1)"
   ],
   "id": "34802796636268dd",
   "outputs": [],
   "execution_count": 1
  },
  {
   "metadata": {},
   "cell_type": "markdown",
   "source": "### Load data",
   "id": "6e521dee21de77b2"
  },
  {
   "metadata": {
    "ExecuteTime": {
     "end_time": "2025-02-07T05:52:57.286329Z",
     "start_time": "2025-02-07T05:52:30.094250Z"
    }
   },
   "cell_type": "code",
   "source": [
    "file_path = r\"E:\\EICU\\eicu-collaborative-research-database-2.0\\vitalAperiodic.csv.gz\"\n",
    "vital_aprdc_df = pd.read_csv(file_path, compression=\"gzip\", low_memory=False,)"
   ],
   "id": "9e0afc5574cea16d",
   "outputs": [],
   "execution_count": 2
  },
  {
   "metadata": {},
   "cell_type": "code",
   "outputs": [],
   "execution_count": null,
   "source": "",
   "id": "e6b0c1cf9d04ff4"
  }
 ],
 "metadata": {
  "kernelspec": {
   "display_name": "Python 3",
   "language": "python",
   "name": "python3"
  },
  "language_info": {
   "codemirror_mode": {
    "name": "ipython",
    "version": 2
   },
   "file_extension": ".py",
   "mimetype": "text/x-python",
   "name": "python",
   "nbconvert_exporter": "python",
   "pygments_lexer": "ipython2",
   "version": "2.7.6"
  }
 },
 "nbformat": 4,
 "nbformat_minor": 5
}
