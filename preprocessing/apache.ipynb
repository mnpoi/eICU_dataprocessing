{
 "cells": [
  {
   "metadata": {},
   "cell_type": "markdown",
   "source": "# apacheApsVar",
   "id": "95f5acc97130ede2"
  },
  {
   "metadata": {
    "ExecuteTime": {
     "end_time": "2025-02-14T03:54:47.566264Z",
     "start_time": "2025-02-14T03:54:47.563272Z"
    }
   },
   "cell_type": "code",
   "source": [
    "import pandas as pd\n",
    "import numpy as np\n",
    "import matplotlib.pyplot as plt\n",
    "import seaborn as sns\n",
    "import os\n",
    "import random\n",
    "random.seed(1) \n",
    "np.random.seed(1)"
   ],
   "id": "8e914adacb454792",
   "outputs": [],
   "execution_count": 1
  },
  {
   "metadata": {},
   "cell_type": "markdown",
   "source": "### Load the dataset",
   "id": "95c8f64da0e70620"
  },
  {
   "metadata": {
    "ExecuteTime": {
     "end_time": "2025-02-14T03:56:04.218132Z",
     "start_time": "2025-02-14T03:56:04.025759Z"
    }
   },
   "cell_type": "code",
   "source": [
    "file_path = r\"E:\\EICU\\eicu-collaborative-research-database-2.0\\apacheApsVar.csv.gz\"\n",
    "apache_df = pd.read_csv(file_path, compression=\"gzip\", low_memory=False, usecols=[\"patientunitstayid\", \"vent\", \"eyes\", \"motor\", \"verbal\"])"
   ],
   "id": "559c8b082617c5c3",
   "outputs": [],
   "execution_count": 3
  },
  {
   "metadata": {
    "ExecuteTime": {
     "end_time": "2025-02-14T03:56:18.639052Z",
     "start_time": "2025-02-14T03:56:18.482335Z"
    }
   },
   "cell_type": "code",
   "source": [
    "# Remove rows with missing values in the selected columns\n",
    "apache_df_cleaned = apache_df.dropna()\n",
    "\n",
    "# Compute GCS score (sum of eyes, motor, verbal)\n",
    "apache_df_cleaned[\"GCS\"] = apache_df_cleaned[\"eyes\"] + apache_df_cleaned[\"motor\"] + apache_df_cleaned[\"verbal\"]\n",
    "\n",
    "# Save the processed dataset\n",
    "apache_df_cleaned.to_csv(\"processed_apacheApsVar.csv\", index=False)\n",
    "\n",
    "# Display the first few rows to check the output\n",
    "print(apache_df_cleaned.head())"
   ],
   "id": "f602447608395e56",
   "outputs": [
    {
     "name": "stdout",
     "output_type": "stream",
     "text": [
      "   patientunitstayid  vent  eyes  motor  verbal  GCS\n",
      "0             141168     0     4      6       5   15\n",
      "1             141178     0    -1     -1      -1   -3\n",
      "2             141194     0     3      6       4   13\n",
      "3             141197     0     4      6       5   15\n",
      "4             141203     1     1      3       1    5\n"
     ]
    }
   ],
   "execution_count": 4
  },
  {
   "metadata": {
    "ExecuteTime": {
     "end_time": "2025-02-14T03:56:37.240422Z",
     "start_time": "2025-02-14T03:56:37.231652Z"
    }
   },
   "cell_type": "code",
   "source": "apache_df_cleaned[\"GCS\"].value_counts()",
   "id": "6d29e1ea3e363208",
   "outputs": [
    {
     "data": {
      "text/plain": [
       "GCS\n",
       " 15    97000\n",
       " 14    19788\n",
       " 3      8705\n",
       " 13     8228\n",
       "-3      5525\n",
       " 10     5489\n",
       " 11     5099\n",
       " 12     4526\n",
       " 7      4174\n",
       " 9      3993\n",
       " 8      3900\n",
       " 6      3187\n",
       " 5       792\n",
       " 4       771\n",
       "Name: count, dtype: int64"
      ]
     },
     "execution_count": 5,
     "metadata": {},
     "output_type": "execute_result"
    }
   ],
   "execution_count": 5
  },
  {
   "metadata": {
    "ExecuteTime": {
     "end_time": "2025-02-14T03:56:51.060358Z",
     "start_time": "2025-02-14T03:56:51.056102Z"
    }
   },
   "cell_type": "code",
   "source": "len(apache_df_cleaned)",
   "id": "53c658c7f4213710",
   "outputs": [
    {
     "data": {
      "text/plain": [
       "171177"
      ]
     },
     "execution_count": 6,
     "metadata": {},
     "output_type": "execute_result"
    }
   ],
   "execution_count": 6
  },
  {
   "metadata": {},
   "cell_type": "code",
   "outputs": [],
   "execution_count": null,
   "source": "",
   "id": "db6c5d071cf12704"
  }
 ],
 "metadata": {
  "kernelspec": {
   "display_name": "Python 3",
   "language": "python",
   "name": "python3"
  },
  "language_info": {
   "codemirror_mode": {
    "name": "ipython",
    "version": 2
   },
   "file_extension": ".py",
   "mimetype": "text/x-python",
   "name": "python",
   "nbconvert_exporter": "python",
   "pygments_lexer": "ipython2",
   "version": "2.7.6"
  }
 },
 "nbformat": 4,
 "nbformat_minor": 5
}
